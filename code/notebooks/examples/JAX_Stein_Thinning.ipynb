{
 "cells": [
  {
   "cell_type": "code",
   "execution_count": 1,
   "id": "dc5ee4dc-65b0-41d1-ada0-6ae70de922e1",
   "metadata": {},
   "outputs": [
    {
     "name": "stdout",
     "output_type": "stream",
     "text": [
      "env: JAX_ENABLE_X64=True\n"
     ]
    }
   ],
   "source": [
    "%env JAX_ENABLE_X64 True"
   ]
  },
  {
   "cell_type": "code",
   "execution_count": 2,
   "id": "5b93acd0-c8af-4784-8ca0-f630868566f2",
   "metadata": {},
   "outputs": [],
   "source": [
    "import numpy as np\n",
    "import pandas as pd\n",
    "import matplotlib.pyplot as plt\n",
    "\n",
    "from scipy.stats import multivariate_normal as mvn\n",
    "\n",
    "from stein_thinning.thinning import thin\n",
    "\n",
    "from utils.caching import make_cached_s3\n",
    "from utils.paths import S3_BUCKET_NAME"
   ]
  },
  {
   "cell_type": "code",
   "execution_count": 3,
   "id": "88de64d2-d6cd-42d1-a91d-05115555d8d7",
   "metadata": {
    "tags": []
   },
   "outputs": [],
   "source": [
    "cached = make_cached_s3(S3_BUCKET_NAME)"
   ]
  },
  {
   "cell_type": "markdown",
   "id": "89e0e0ed-79ae-4758-95cc-cb28f6b33594",
   "metadata": {},
   "source": [
    "### Generate a random sample from a bivariate Gaussian"
   ]
  },
  {
   "cell_type": "code",
   "execution_count": 4,
   "id": "212e0773-6cc9-4ebb-84a3-85465b120efd",
   "metadata": {},
   "outputs": [],
   "source": [
    "rng = np.random.default_rng(12345)"
   ]
  },
  {
   "cell_type": "code",
   "execution_count": 5,
   "id": "fd786c89-d30b-41bb-b26a-a7e5fdead569",
   "metadata": {},
   "outputs": [],
   "source": [
    "mean = np.array([0., 0.])\n",
    "cov = np.array([\n",
    "    [1., 0.8],\n",
    "    [0.8, 1.],\n",
    "])"
   ]
  },
  {
   "cell_type": "code",
   "execution_count": 6,
   "id": "b8761205-ee6f-4689-8868-6a5dcbc65c93",
   "metadata": {},
   "outputs": [],
   "source": [
    "n_max = 5_000_000\n",
    "n = 100_000"
   ]
  },
  {
   "cell_type": "code",
   "execution_count": 7,
   "id": "49675a41-12f2-451d-a3ff-ad0f84072b05",
   "metadata": {},
   "outputs": [],
   "source": [
    "sample = mvn.rvs(mean=mean, cov=cov, size=n_max, random_state=rng)\n",
    "grad = (np.linalg.inv(cov) @ (mean - sample).T).T"
   ]
  },
  {
   "cell_type": "markdown",
   "id": "f22b8107-140b-4f3c-94e2-015fe5e237f8",
   "metadata": {},
   "source": [
    "### Apply standard Stein thinning"
   ]
  },
  {
   "cell_type": "code",
   "execution_count": 8,
   "id": "0b8fa7d9-4950-4da6-a57b-f54b469c3c8f",
   "metadata": {},
   "outputs": [],
   "source": [
    "m = 100"
   ]
  },
  {
   "cell_type": "code",
   "execution_count": 9,
   "id": "fab719ec-30e0-4e1c-8680-682d9f954a4b",
   "metadata": {},
   "outputs": [],
   "source": [
    "idx = thin(sample[:n], grad[:n], m)"
   ]
  },
  {
   "cell_type": "code",
   "execution_count": 10,
   "id": "e6449655-16d8-47fd-8eb7-49b0ed34ef0e",
   "metadata": {},
   "outputs": [
    {
     "data": {
      "image/png": "[encoded data removed]",
      "text/plain": [
       "<Figure size 640x480 with 1 Axes>"
      ]
     },
     "metadata": {},
     "output_type": "display_data"
    }
   ],
   "source": [
    "fig, ax = plt.subplots();\n",
    "ax.scatter(sample[:n, 0], sample[:n, 1], color='lightgray');\n",
    "ax.scatter(sample[idx, 0], sample[idx, 1], color='red');"
   ]
  },
  {
   "cell_type": "markdown",
   "id": "b357b3ba-adb3-4819-af63-dc79018042cc",
   "metadata": {
    "jp-MarkdownHeadingCollapsed": true
   },
   "source": [
    "Time the standard Stein thinning implementation"
   ]
  },
  {
   "cell_type": "code",
   "execution_count": 11,
   "id": "ed4dcae1-79ea-413b-b665-7e11f22385e5",
   "metadata": {},
   "outputs": [
    {
     "name": "stdout",
     "output_type": "stream",
     "text": [
      "1.57 s ± 97.8 ms per loop (mean ± std. dev. of 7 runs, 1 loop each)\n"
     ]
    }
   ],
   "source": [
    "%%timeit\n",
    "thin(sample[:n], grad[:n], m)"
   ]
  },
  {
   "cell_type": "markdown",
   "id": "83733141-ca56-4f8d-9310-69cfb9058e1a",
   "metadata": {},
   "source": [
    "### Replicate the result of standard Stein thinning using a custom kernel"
   ]
  },
  {
   "cell_type": "code",
   "execution_count": 12,
   "id": "67999727-6002-4258-af1b-86088a5e4ff4",
   "metadata": {},
   "outputs": [],
   "source": [
    "from stein_thinning.kernel import make_imq\n",
    "from stein_thinning.thinning import _greedy_search, _validate_and_standardize"
   ]
  },
  {
   "cell_type": "code",
   "execution_count": 13,
   "id": "0f5d8f0d-bdaa-4253-afe3-6400424e79eb",
   "metadata": {},
   "outputs": [],
   "source": [
    "s, g = _validate_and_standardize(sample[:n], grad[:n], True)\n",
    "vfk0 = make_imq(s, 'id')"
   ]
  },
  {
   "cell_type": "code",
   "execution_count": 14,
   "id": "13ed3f76-4237-43a7-ad8d-546aa109c9e3",
   "metadata": {},
   "outputs": [],
   "source": [
    "def integrand(ind1, ind2):\n",
    "    return vfk0(s[ind1], s[ind2], g[ind1], g[ind2])"
   ]
  },
  {
   "cell_type": "code",
   "execution_count": 15,
   "id": "73f3416e-83d8-4090-bb7c-be4e8824aba2",
   "metadata": {},
   "outputs": [],
   "source": [
    "idx2 = _greedy_search(m, integrand)"
   ]
  },
  {
   "cell_type": "code",
   "execution_count": 16,
   "id": "3672f063-46d4-4330-a399-2c72c92e938e",
   "metadata": {},
   "outputs": [],
   "source": [
    "np.testing.assert_array_equal(idx2, idx)"
   ]
  },
  {
   "cell_type": "code",
   "execution_count": 17,
   "id": "625711f4-28b9-4d86-82e0-6c758cd648c0",
   "metadata": {},
   "outputs": [
    {
     "name": "stdout",
     "output_type": "stream",
     "text": [
      "1.53 s ± 17.3 ms per loop (mean ± std. dev. of 7 runs, 1 loop each)\n"
     ]
    }
   ],
   "source": [
    "%%timeit\n",
    "_greedy_search(m, integrand)"
   ]
  },
  {
   "cell_type": "markdown",
   "id": "a85017b4-0bca-4cf1-b677-ad7fffb072dc",
   "metadata": {},
   "source": [
    "### Check the impact of logging"
   ]
  },
  {
   "cell_type": "code",
   "execution_count": 18,
   "id": "9a7025bb-f901-4221-aa5c-f85d6f1fe47d",
   "metadata": {},
   "outputs": [],
   "source": [
    "def _greedy_search_no_log(n_points, integrand):\n",
    "    # Pre-allocate the index array\n",
    "    idx = np.empty(n_points, dtype=np.uint32)\n",
    "\n",
    "    # Array for the running sums\n",
    "    k0 = integrand(slice(None), slice(None))\n",
    "\n",
    "    idx[0] = np.argmin(k0)\n",
    "    #logger.debug('THIN: %d of %d', 1, n_points)\n",
    "    for i in range(1, n_points):\n",
    "        k0 += 2 * integrand(slice(None), [idx[i - 1]])\n",
    "        idx[i] = np.argmin(k0)\n",
    "        #logger.debug('THIN: %d of %d', i + 1, n_points)\n",
    "\n",
    "    return idx"
   ]
  },
  {
   "cell_type": "code",
   "execution_count": 19,
   "id": "60651fbe-c88d-4eac-938d-403ce05e5546",
   "metadata": {},
   "outputs": [
    {
     "name": "stdout",
     "output_type": "stream",
     "text": [
      "1.44 s ± 40.2 ms per loop (mean ± std. dev. of 7 runs, 1 loop each)\n"
     ]
    }
   ],
   "source": [
    "%%timeit\n",
    "_greedy_search_no_log(m, integrand)"
   ]
  },
  {
   "cell_type": "markdown",
   "id": "a0862e5b-c114-4243-8cac-483714c71247",
   "metadata": {},
   "source": [
    "### Create a JAX-based kernel"
   ]
  },
  {
   "cell_type": "code",
   "execution_count": 20,
   "id": "191897d8-d747-4a08-9ffe-adbb29744e99",
   "metadata": {},
   "outputs": [],
   "source": [
    "import jax\n",
    "import jax.numpy as jnp"
   ]
  },
  {
   "cell_type": "code",
   "execution_count": 21,
   "id": "1b537b58-27ee-4148-af57-bb9e7c11f7af",
   "metadata": {},
   "outputs": [],
   "source": [
    "from stein_thinning.kernel import make_precon"
   ]
  },
  {
   "cell_type": "code",
   "execution_count": 22,
   "id": "2701de28-1712-4569-8e02-4feb9eba3241",
   "metadata": {},
   "outputs": [],
   "source": [
    "@jax.jit\n",
    "def vfk0_imq(x, y, sx, sy, linv, c=1.0, beta=-0.5):\n",
    "    xmy = x.T - y.T\n",
    "    qf = c + jnp.sum(jnp.dot(linv, xmy) * xmy, axis=0)\n",
    "    t1 = -4 * beta * (beta - 1) * jnp.sum(jnp.dot(jnp.dot(linv, linv), xmy) * xmy, axis=0) / (qf ** (-beta + 2))\n",
    "    t2 = -2 * beta * (jnp.trace(linv) + jnp.sum(jnp.dot(linv, sx.T - sy.T) * xmy, axis=0)) / (qf ** (-beta + 1))\n",
    "    t3 = jnp.sum(sx.T * sy.T, axis=0) / (qf ** (-beta))\n",
    "    return t1 + t2 + t3"
   ]
  },
  {
   "cell_type": "code",
   "execution_count": 23,
   "id": "64d8d156-11ce-41eb-b41a-ba1e3de6dc93",
   "metadata": {},
   "outputs": [],
   "source": [
    "preconditioner = make_precon(s, 'id')"
   ]
  },
  {
   "cell_type": "code",
   "execution_count": 24,
   "id": "14476c54-799a-4c47-98bf-7fb1ed473e31",
   "metadata": {},
   "outputs": [],
   "source": [
    "def vfk0_jax(sample1, sample2, gradient1, gradient2):\n",
    "    return vfk0_imq(jnp.array(sample1), jnp.array(sample2), jnp.array(gradient1), jnp.array(gradient2), jnp.array(preconditioner))"
   ]
  },
  {
   "cell_type": "code",
   "execution_count": 25,
   "id": "1b61670d-1479-435b-94e8-f8e2de2f05ae",
   "metadata": {},
   "outputs": [],
   "source": [
    "def integrand_jax(ind1, ind2):\n",
    "    return vfk0_jax(s[ind1], s[ind2], g[ind1], g[ind2])"
   ]
  },
  {
   "cell_type": "code",
   "execution_count": 26,
   "id": "5060b693-08a5-4fb8-888a-14c235692330",
   "metadata": {},
   "outputs": [],
   "source": [
    "idx3 = _greedy_search(m, integrand_jax)"
   ]
  },
  {
   "cell_type": "markdown",
   "id": "808be553-6051-44bc-b1df-d90a210ef28f",
   "metadata": {},
   "source": [
    "Ensure that the resulting indices remain the same:"
   ]
  },
  {
   "cell_type": "code",
   "execution_count": 27,
   "id": "cd153a08-1f10-43a4-ae55-e7710a73fa97",
   "metadata": {},
   "outputs": [],
   "source": [
    "np.testing.assert_array_equal(idx3, idx)"
   ]
  },
  {
   "cell_type": "markdown",
   "id": "883978cc-8f78-4ecc-a2d7-b36dae732152",
   "metadata": {},
   "source": [
    "Time the JAX-based version:"
   ]
  },
  {
   "cell_type": "code",
   "execution_count": 28,
   "id": "e6ca32b4-1c47-42d4-9fbd-61f1ff02bc13",
   "metadata": {},
   "outputs": [
    {
     "name": "stdout",
     "output_type": "stream",
     "text": [
      "1.16 s ± 123 ms per loop (mean ± std. dev. of 7 runs, 1 loop each)\n"
     ]
    }
   ],
   "source": [
    "%%timeit\n",
    "_greedy_search(m, integrand_jax)"
   ]
  },
  {
   "cell_type": "markdown",
   "id": "032354eb-8e29-472d-b136-609e7522106d",
   "metadata": {},
   "source": [
    "### Create a JAX-based greedy algorithm"
   ]
  },
  {
   "cell_type": "code",
   "execution_count": 29,
   "id": "a1fc27ee-22a2-4bf6-9ba7-c88db1ac9cd7",
   "metadata": {},
   "outputs": [],
   "source": [
    "from jax.lax import scan"
   ]
  },
  {
   "cell_type": "code",
   "execution_count": 30,
   "id": "7cc6a1c9-b909-4ef3-8a2b-5aadbbee8d34",
   "metadata": {},
   "outputs": [],
   "source": [
    "def greedy_search_jax(n, m):\n",
    "    s, g = _validate_and_standardize(sample[:n], grad[:n], True)\n",
    "    s_jax = jnp.array(s)\n",
    "    g_jax = jnp.array(g)\n",
    "    preconditioner_jax = jnp.array(preconditioner)\n",
    "\n",
    "    k0 = vfk0_imq(s_jax, s_jax, g_jax, g_jax, preconditioner_jax)\n",
    "    idx0 = jnp.argmin(k0)\n",
    "    def body_fun(val, i):\n",
    "        prev_idx = val[0]\n",
    "        k0 = val[1] + 2 * vfk0_imq(s_jax, s_jax[prev_idx].reshape(1, -1), g_jax, g_jax[prev_idx].reshape(1, -1), preconditioner_jax)\n",
    "        selected_idx = jnp.argmin(k0)\n",
    "        return (selected_idx, k0), selected_idx\n",
    "    _, idx  = scan(body_fun, (idx0, k0), jnp.arange(1, m))\n",
    "    return np.concatenate([[idx0], idx])"
   ]
  },
  {
   "cell_type": "code",
   "execution_count": 31,
   "id": "0a20833b-a457-4f4b-a5d9-135f66d90466",
   "metadata": {},
   "outputs": [],
   "source": [
    "idx4 = greedy_search_jax(n, m)"
   ]
  },
  {
   "cell_type": "code",
   "execution_count": 32,
   "id": "69565446-0a8e-4173-9bb6-f5ab6c0b17cc",
   "metadata": {},
   "outputs": [],
   "source": [
    "np.testing.assert_array_equal(idx4, idx)"
   ]
  },
  {
   "cell_type": "markdown",
   "id": "43f0f087-b5ac-4de8-96ac-42b03068917b",
   "metadata": {},
   "source": [
    "Time this version:"
   ]
  },
  {
   "cell_type": "code",
   "execution_count": 33,
   "id": "be5a07d8-873b-4a14-b95c-08e1f63b303f",
   "metadata": {},
   "outputs": [
    {
     "name": "stdout",
     "output_type": "stream",
     "text": [
      "1.09 s ± 127 ms per loop (mean ± std. dev. of 7 runs, 1 loop each)\n"
     ]
    }
   ],
   "source": [
    "%%timeit\n",
    "greedy_search_jax(n, m)"
   ]
  },
  {
   "cell_type": "markdown",
   "id": "ec53f5f3-aa3f-4148-81c2-8dcc895e833a",
   "metadata": {},
   "source": [
    "Plot the speedup from using JAX"
   ]
  },
  {
   "cell_type": "code",
   "execution_count": 34,
   "id": "deee3885-c7e4-44c4-9b48-975f1f8d3d6d",
   "metadata": {},
   "outputs": [],
   "source": [
    "import timeit"
   ]
  },
  {
   "cell_type": "code",
   "execution_count": 35,
   "id": "1f17773a-690e-4c50-b8cf-1f236aedf5ff",
   "metadata": {
    "tags": []
   },
   "outputs": [],
   "source": [
    "def calculate_avg_time(func, n_repeats=10):\n",
    "    return timeit.timeit(func, number=n_repeats) / n_repeats"
   ]
  },
  {
   "cell_type": "code",
   "execution_count": 36,
   "id": "337c2e40-4d53-4e12-b44f-39108643c091",
   "metadata": {
    "tags": []
   },
   "outputs": [],
   "source": [
    "def calculate_avg_time_numpy(n, m, n_repeats=10):\n",
    "    print(f'Calculating numpy time for n={n}, m={m}')\n",
    "    return calculate_avg_time(lambda: thin(sample[:n], grad[:n], m), n_repeats=n_repeats)"
   ]
  },
  {
   "cell_type": "code",
   "execution_count": 37,
   "id": "ae02e623-00c2-4e31-9b60-08225de152f9",
   "metadata": {
    "tags": []
   },
   "outputs": [],
   "source": [
    "def calculate_avg_time_jax(n, m, n_repeats=10):\n",
    "    print(f'Calculating JAX time for n={n}, m={m}')\n",
    "    return calculate_avg_time(lambda: greedy_search_jax(n, m), n_repeats=n_repeats)"
   ]
  },
  {
   "cell_type": "code",
   "execution_count": 38,
   "id": "f2b04e74-12b2-45e4-a1d3-3bc931aedf02",
   "metadata": {
    "tags": []
   },
   "outputs": [],
   "source": [
    "ns = np.array([100, 500, 1000, 5000, 10_000, 50_000, 100_000, 500_000, 1_000_000, 5_000_000])"
   ]
  },
  {
   "cell_type": "code",
   "execution_count": 39,
   "id": "b4034db6-7d3a-403c-9b99-ea9abc7c9683",
   "metadata": {
    "tags": []
   },
   "outputs": [],
   "source": [
    "@cached()\n",
    "def thinning_jax_speedup_m_fixed_aws(m) -> pd.DataFrame:\n",
    "    return pd.DataFrame({\n",
    "        'Numpy': np.fromiter((calculate_avg_time_numpy(ns[i], m) for i in range(len(ns))), 'float'),\n",
    "        'JAX': np.fromiter((calculate_avg_time_jax(ns[i], m) for i in range(len(ns))), 'float'),\n",
    "    }, index=pd.Index(ns, name='n'))"
   ]
  },
  {
   "cell_type": "code",
   "execution_count": 40,
   "id": "adf4f3a2-e7e0-4f94-9f70-2a9680810890",
   "metadata": {
    "tags": []
   },
   "outputs": [],
   "source": [
    "@cached()\n",
    "def thinning_jax_speedup_m_fraction_aws(fraction) -> pd.DataFrame:\n",
    "    return pd.DataFrame({\n",
    "        'Numpy': np.fromiter((calculate_avg_time_numpy(ns[i], int(ns[i] * fraction)) for i in range(len(ns))), 'float'),\n",
    "        'JAX': np.fromiter((calculate_avg_time_jax(ns[i], int(ns[i] * fraction)) for i in range(len(ns))), 'float'),\n",
    "    }, index=pd.Index(ns, name='n'))"
   ]
  },
  {
   "cell_type": "code",
   "execution_count": 41,
   "id": "4d9ada24-da25-4c5c-9f11-6b4de8c35044",
   "metadata": {},
   "outputs": [],
   "source": [
    "@cached()\n",
    "def thinning_jax_speedup_m_fixed_local(m) -> pd.DataFrame:\n",
    "    return pd.DataFrame({\n",
    "        'Numpy': np.fromiter((calculate_avg_time_numpy(ns[i], m) for i in range(len(ns))), 'float'),\n",
    "        'JAX': np.fromiter((calculate_avg_time_jax(ns[i], m) for i in range(len(ns))), 'float'),\n",
    "    }, index=pd.Index(ns, name='n'))"
   ]
  },
  {
   "cell_type": "code",
   "execution_count": 42,
   "id": "b1484f45-4868-42db-9d15-2ee418b6ff8c",
   "metadata": {
    "tags": []
   },
   "outputs": [
    {
     "data": {
      "text/html": [
       "<div>\n",
       "<style scoped>\n",
       "    .dataframe tbody tr th:only-of-type {\n",
       "        vertical-align: middle;\n",
       "    }\n",
       "\n",
       "    .dataframe tbody tr th {\n",
       "        vertical-align: top;\n",
       "    }\n",
       "\n",
       "    .dataframe thead th {\n",
       "        text-align: right;\n",
       "    }\n",
       "</style>\n",
       "<table border=\"1\" class=\"dataframe\">\n",
       "  <thead>\n",
       "    <tr style=\"text-align: right;\">\n",
       "      <th></th>\n",
       "      <th>Numpy</th>\n",
       "      <th>JAX</th>\n",
       "    </tr>\n",
       "    <tr>\n",
       "      <th>n</th>\n",
       "      <th></th>\n",
       "      <th></th>\n",
       "    </tr>\n",
       "  </thead>\n",
       "  <tbody>\n",
       "    <tr>\n",
       "      <th>100</th>\n",
       "      <td>0.018624</td>\n",
       "      <td>0.186493</td>\n",
       "    </tr>\n",
       "    <tr>\n",
       "      <th>500</th>\n",
       "      <td>0.020593</td>\n",
       "      <td>0.192862</td>\n",
       "    </tr>\n",
       "    <tr>\n",
       "      <th>1000</th>\n",
       "      <td>0.026424</td>\n",
       "      <td>0.201332</td>\n",
       "    </tr>\n",
       "    <tr>\n",
       "      <th>5000</th>\n",
       "      <td>0.073030</td>\n",
       "      <td>0.252488</td>\n",
       "    </tr>\n",
       "    <tr>\n",
       "      <th>10000</th>\n",
       "      <td>0.125930</td>\n",
       "      <td>0.266709</td>\n",
       "    </tr>\n",
       "    <tr>\n",
       "      <th>50000</th>\n",
       "      <td>0.586937</td>\n",
       "      <td>0.645115</td>\n",
       "    </tr>\n",
       "    <tr>\n",
       "      <th>100000</th>\n",
       "      <td>1.185604</td>\n",
       "      <td>1.026451</td>\n",
       "    </tr>\n",
       "    <tr>\n",
       "      <th>500000</th>\n",
       "      <td>7.779548</td>\n",
       "      <td>4.585333</td>\n",
       "    </tr>\n",
       "    <tr>\n",
       "      <th>1000000</th>\n",
       "      <td>15.504324</td>\n",
       "      <td>8.944055</td>\n",
       "    </tr>\n",
       "    <tr>\n",
       "      <th>5000000</th>\n",
       "      <td>77.628713</td>\n",
       "      <td>43.712244</td>\n",
       "    </tr>\n",
       "  </tbody>\n",
       "</table>\n",
       "</div>"
      ],
      "text/plain": [
       "             Numpy        JAX\n",
       "n                            \n",
       "100       0.018624   0.186493\n",
       "500       0.020593   0.192862\n",
       "1000      0.026424   0.201332\n",
       "5000      0.073030   0.252488\n",
       "10000     0.125930   0.266709\n",
       "50000     0.586937   0.645115\n",
       "100000    1.185604   1.026451\n",
       "500000    7.779548   4.585333\n",
       "1000000  15.504324   8.944055\n",
       "5000000  77.628713  43.712244"
      ]
     },
     "execution_count": 42,
     "metadata": {},
     "output_type": "execute_result"
    }
   ],
   "source": [
    "thinning_jax_speedup_m_fixed_local(100)"
   ]
  },
  {
   "cell_type": "code",
   "execution_count": 43,
   "id": "2839e328-51c7-4c72-959b-f31136c507a3",
   "metadata": {
    "tags": []
   },
   "outputs": [
    {
     "data": {
      "text/html": [
       "<div>\n",
       "<style scoped>\n",
       "    .dataframe tbody tr th:only-of-type {\n",
       "        vertical-align: middle;\n",
       "    }\n",
       "\n",
       "    .dataframe tbody tr th {\n",
       "        vertical-align: top;\n",
       "    }\n",
       "\n",
       "    .dataframe thead th {\n",
       "        text-align: right;\n",
       "    }\n",
       "</style>\n",
       "<table border=\"1\" class=\"dataframe\">\n",
       "  <thead>\n",
       "    <tr style=\"text-align: right;\">\n",
       "      <th></th>\n",
       "      <th>Numpy</th>\n",
       "      <th>JAX</th>\n",
       "    </tr>\n",
       "    <tr>\n",
       "      <th>n</th>\n",
       "      <th></th>\n",
       "      <th></th>\n",
       "    </tr>\n",
       "  </thead>\n",
       "  <tbody>\n",
       "    <tr>\n",
       "      <th>100</th>\n",
       "      <td>0.147822</td>\n",
       "      <td>0.182174</td>\n",
       "    </tr>\n",
       "    <tr>\n",
       "      <th>500</th>\n",
       "      <td>0.198397</td>\n",
       "      <td>0.230221</td>\n",
       "    </tr>\n",
       "    <tr>\n",
       "      <th>1000</th>\n",
       "      <td>0.261346</td>\n",
       "      <td>0.296964</td>\n",
       "    </tr>\n",
       "    <tr>\n",
       "      <th>5000</th>\n",
       "      <td>0.719112</td>\n",
       "      <td>0.810061</td>\n",
       "    </tr>\n",
       "    <tr>\n",
       "      <th>10000</th>\n",
       "      <td>1.238038</td>\n",
       "      <td>0.985794</td>\n",
       "    </tr>\n",
       "    <tr>\n",
       "      <th>50000</th>\n",
       "      <td>5.798295</td>\n",
       "      <td>4.553945</td>\n",
       "    </tr>\n",
       "    <tr>\n",
       "      <th>100000</th>\n",
       "      <td>12.039079</td>\n",
       "      <td>8.468545</td>\n",
       "    </tr>\n",
       "    <tr>\n",
       "      <th>500000</th>\n",
       "      <td>69.108261</td>\n",
       "      <td>43.682724</td>\n",
       "    </tr>\n",
       "    <tr>\n",
       "      <th>1000000</th>\n",
       "      <td>150.598378</td>\n",
       "      <td>86.947739</td>\n",
       "    </tr>\n",
       "    <tr>\n",
       "      <th>5000000</th>\n",
       "      <td>775.731958</td>\n",
       "      <td>432.495456</td>\n",
       "    </tr>\n",
       "  </tbody>\n",
       "</table>\n",
       "</div>"
      ],
      "text/plain": [
       "              Numpy         JAX\n",
       "n                              \n",
       "100        0.147822    0.182174\n",
       "500        0.198397    0.230221\n",
       "1000       0.261346    0.296964\n",
       "5000       0.719112    0.810061\n",
       "10000      1.238038    0.985794\n",
       "50000      5.798295    4.553945\n",
       "100000    12.039079    8.468545\n",
       "500000    69.108261   43.682724\n",
       "1000000  150.598378   86.947739\n",
       "5000000  775.731958  432.495456"
      ]
     },
     "execution_count": 43,
     "metadata": {},
     "output_type": "execute_result"
    }
   ],
   "source": [
    "thinning_jax_speedup_m_fixed_local(1000)"
   ]
  },
  {
   "cell_type": "code",
   "execution_count": 44,
   "id": "403bb010-9cd7-4919-84a6-08e05f407f58",
   "metadata": {
    "tags": []
   },
   "outputs": [],
   "source": [
    "def calculate_speedup(timing_results):\n",
    "    return timing_results['Numpy'] / timing_results['JAX']"
   ]
  },
  {
   "cell_type": "code",
   "execution_count": 45,
   "id": "2de20ce6-04a0-49b9-848e-d6248e05c27b",
   "metadata": {
    "tags": []
   },
   "outputs": [
    {
     "data": {
      "image/png": "[encoded data removed]",
      "text/plain": [
       "<Figure size 1000x400 with 2 Axes>"
      ]
     },
     "metadata": {},
     "output_type": "display_data"
    }
   ],
   "source": [
    "fig, axs = plt.subplots(1, 2, figsize=(10, 4), constrained_layout=True)\n",
    "\n",
    "axs[0].axhline(1, linestyle='--', color='lightgray');\n",
    "axs[0].plot(calculate_speedup(thinning_jax_speedup_m_fixed_aws(100)), label='AWS: $m=100$');\n",
    "axs[0].plot(calculate_speedup(thinning_jax_speedup_m_fixed_aws(1000)), label='AWS: $m=1000$');\n",
    "axs[0].plot(calculate_speedup(thinning_jax_speedup_m_fixed_local(100)), label='Local: $m=100$');\n",
    "axs[0].plot(calculate_speedup(thinning_jax_speedup_m_fixed_local(1000)), label='Local: $m=1000$');\n",
    "axs[0].set_xlabel('$n$');\n",
    "axs[0].set_ylabel('Speedup');\n",
    "axs[0].set_title('Speedup from using JAX');\n",
    "axs[0].set_xticks(ns);\n",
    "axs[0].set_xscale('log');\n",
    "axs[0].legend();\n",
    "\n",
    "axs[1].axhline(1, linestyle='--', color='lightgray');\n",
    "axs[1].plot(thinning_jax_speedup_m_fixed_local(100)['Numpy'] / thinning_jax_speedup_m_fixed_aws(100)['Numpy'], label='Numpy: $m=100$');\n",
    "axs[1].plot(thinning_jax_speedup_m_fixed_local(1000)['Numpy'] / thinning_jax_speedup_m_fixed_aws(1000)['Numpy'], label='Numpy: $m=1000$');\n",
    "axs[1].plot(thinning_jax_speedup_m_fixed_local(100)['JAX'] / thinning_jax_speedup_m_fixed_aws(100)['JAX'], label='JAX: $m=100$');\n",
    "axs[1].plot(thinning_jax_speedup_m_fixed_local(1000)['JAX'] / thinning_jax_speedup_m_fixed_aws(1000)['JAX'], label='JAX: $m=1000$');\n",
    "axs[1].set_xlabel('$n$');\n",
    "axs[1].set_ylabel('Speedup');\n",
    "axs[1].set_title('Speedup from moving to AWS');\n",
    "axs[1].set_xticks(ns);\n",
    "axs[1].set_xscale('log');\n",
    "axs[1].legend();"
   ]
  }
 ],
 "metadata": {
  "kernelspec": {
   "display_name": "Python 3 (ipykernel)",
   "language": "python",
   "name": "python3"
  },
  "language_info": {
   "codemirror_mode": {
    "name": "ipython",
    "version": 3
   },
   "file_extension": ".py",
   "mimetype": "text/x-python",
   "name": "python",
   "nbconvert_exporter": "python",
   "pygments_lexer": "ipython3",
   "version": "3.12.6"
  }
 },
 "nbformat": 4,
 "nbformat_minor": 5
}
