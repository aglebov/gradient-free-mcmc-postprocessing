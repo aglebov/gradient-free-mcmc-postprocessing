{
 "cells": [
  {
   "cell_type": "markdown",
   "id": "f7e94b8d-a808-4509-86a7-a064b3c4fafa",
   "metadata": {},
   "source": [
    "This notebook demonstrates some of the capabilities of the caching utils in `utils.caching`."
   ]
  },
  {
   "cell_type": "code",
   "execution_count": 1,
   "id": "a3b86948-d6f8-4215-8147-8cc28b41c26d",
   "metadata": {},
   "outputs": [],
   "source": [
    "import logging\n",
    "from pathlib import Path\n",
    "from tempfile import mkdtemp\n",
    "\n",
    "import numpy as np\n",
    "\n",
    "import utils.caching\n",
    "from utils.caching import make_cached"
   ]
  },
  {
   "cell_type": "code",
   "execution_count": 2,
   "id": "840d7864-d42a-4e49-b5b0-2c3a4c9033e5",
   "metadata": {},
   "outputs": [],
   "source": [
    "logging.basicConfig()\n",
    "logging.getLogger(utils.caching.__name__).setLevel(logging.DEBUG)"
   ]
  },
  {
   "cell_type": "code",
   "execution_count": 3,
   "id": "656d47d6-ca88-4a33-884f-d2a97596c340",
   "metadata": {},
   "outputs": [],
   "source": [
    "cached = make_cached(Path(mkdtemp()))"
   ]
  },
  {
   "cell_type": "markdown",
   "id": "6bae9f47-c293-4681-a410-c7fb14e63967",
   "metadata": {},
   "source": [
    "# Basic functionality"
   ]
  },
  {
   "cell_type": "markdown",
   "id": "c0896378-c112-4420-ba55-e82c74505aa1",
   "metadata": {},
   "source": [
    "## Single item calculation"
   ]
  },
  {
   "cell_type": "code",
   "execution_count": 4,
   "id": "70f08138-b4cb-4712-a72d-b2028e5922bb",
   "metadata": {},
   "outputs": [],
   "source": [
    "@cached()\n",
    "def array_of_repeats(i) -> np.ndarray:\n",
    "    return np.repeat(i, 10)"
   ]
  },
  {
   "cell_type": "markdown",
   "id": "4b0819a0-3bf3-4036-8640-a34e44c99e61",
   "metadata": {},
   "source": [
    "Calculate item and cache it on disk:"
   ]
  },
  {
   "cell_type": "code",
   "execution_count": 5,
   "id": "929f64d0-e5ba-47ff-8b58-7fc21a6fd9ca",
   "metadata": {},
   "outputs": [
    {
     "name": "stderr",
     "output_type": "stream",
     "text": [
      "INFO:utils.caching:Recalculating: array_of_repeats_3\n",
      "INFO:utils.caching:Calculation time for array_of_repeats_3: 0.000078 s\n",
      "DEBUG:utils.caching:Persisting calculation result: array_of_repeats_3\n",
      "DEBUG:utils.caching:Writing /tmp/tmplwqv1hxp/array_of_repeats_3.npy\n"
     ]
    },
    {
     "data": {
      "text/plain": [
       "array([3, 3, 3, 3, 3, 3, 3, 3, 3, 3])"
      ]
     },
     "execution_count": 5,
     "metadata": {},
     "output_type": "execute_result"
    }
   ],
   "source": [
    "array_of_repeats(3)"
   ]
  },
  {
   "cell_type": "markdown",
   "id": "22b96f54-821d-4a5a-a8fe-fe94e3e6923a",
   "metadata": {},
   "source": [
    "Repeated calls do not cause recalculation, instead the item is read from disk:"
   ]
  },
  {
   "cell_type": "code",
   "execution_count": 6,
   "id": "63fb2319-a968-4b38-9a9c-b4fccce6e4bd",
   "metadata": {},
   "outputs": [
    {
     "data": {
      "text/plain": [
       "array([3, 3, 3, 3, 3, 3, 3, 3, 3, 3])"
      ]
     },
     "execution_count": 6,
     "metadata": {},
     "output_type": "execute_result"
    }
   ],
   "source": [
    "array_of_repeats(3)"
   ]
  },
  {
   "cell_type": "markdown",
   "id": "24da7a35-ae3b-45fe-81f9-8fc63b8bfdd9",
   "metadata": {},
   "source": [
    "If necessary, we can force recalculation (the recalculated result will be persisted on disk):"
   ]
  },
  {
   "cell_type": "code",
   "execution_count": 7,
   "id": "88e645ba-16fe-4586-bf4c-d860fd758a16",
   "metadata": {},
   "outputs": [
    {
     "name": "stderr",
     "output_type": "stream",
     "text": [
      "INFO:utils.caching:Recalculating: array_of_repeats_3\n",
      "INFO:utils.caching:Calculation time for array_of_repeats_3: 0.000055 s\n",
      "DEBUG:utils.caching:Persisting calculation result: array_of_repeats_3\n",
      "DEBUG:utils.caching:Writing /tmp/tmplwqv1hxp/array_of_repeats_3.npy\n"
     ]
    },
    {
     "data": {
      "text/plain": [
       "array([3, 3, 3, 3, 3, 3, 3, 3, 3, 3])"
      ]
     },
     "execution_count": 7,
     "metadata": {},
     "output_type": "execute_result"
    }
   ],
   "source": [
    "array_of_repeats.recalculate(3)"
   ]
  },
  {
   "cell_type": "markdown",
   "id": "2119e58b-6dab-456f-81cc-70b399571a0f",
   "metadata": {},
   "source": [
    "It is also possible to recalculate the result without persisting it:"
   ]
  },
  {
   "cell_type": "code",
   "execution_count": 8,
   "id": "ce6c2cd5-7b02-4600-94c9-c1d970750279",
   "metadata": {},
   "outputs": [
    {
     "name": "stderr",
     "output_type": "stream",
     "text": [
      "INFO:utils.caching:Recalculating: array_of_repeats_3\n",
      "INFO:utils.caching:Calculation time for array_of_repeats_3: 0.000057 s\n"
     ]
    },
    {
     "data": {
      "text/plain": [
       "array([3, 3, 3, 3, 3, 3, 3, 3, 3, 3])"
      ]
     },
     "execution_count": 8,
     "metadata": {},
     "output_type": "execute_result"
    }
   ],
   "source": [
    "array_of_repeats.recalculate(3, persist=False)"
   ]
  },
  {
   "cell_type": "markdown",
   "id": "8fa5dee2-1897-42ef-acfd-aa33eb3beed9",
   "metadata": {},
   "source": [
    "## Batch calculation"
   ]
  },
  {
   "cell_type": "markdown",
   "id": "1a875816-d3d2-4a6f-bf92-1c798dc50110",
   "metadata": {},
   "source": [
    "In certain cases it is convenient to calculate several items in a batch rather than individually. For this, the `cached` decorator can be used in the batch mode. Note that the `item_type` must also be provided:"
   ]
  },
  {
   "cell_type": "code",
   "execution_count": 9,
   "id": "9b0a1a22-b1d3-446a-8ddf-a457e77e2ed6",
   "metadata": {},
   "outputs": [],
   "source": [
    "@cached(batch=True, item_type=np.ndarray)\n",
    "def array_batch() -> list[np.ndarray]:\n",
    "    return [np.repeat(i, 10) for i in range(5)]"
   ]
  },
  {
   "cell_type": "markdown",
   "id": "445dd9e3-1102-42f5-9d92-86979f18e5e3",
   "metadata": {},
   "source": [
    "When an individual item is requested, the caching infrastructure attempt to read it from disk. If the item is not available on disk, the full batch will be recalculated and cached:"
   ]
  },
  {
   "cell_type": "code",
   "execution_count": 10,
   "id": "867657b4-4845-4913-b36e-bb8953f0cc82",
   "metadata": {},
   "outputs": [
    {
     "name": "stderr",
     "output_type": "stream",
     "text": [
      "INFO:utils.caching:Recalculating batch: array_batch\n",
      "INFO:utils.caching:Calculation time for array_batch: 0.000120 s\n",
      "DEBUG:utils.caching:Persisting calculation result: array_batch_0\n",
      "DEBUG:utils.caching:Writing /tmp/tmplwqv1hxp/array_batch_0.npy\n",
      "DEBUG:utils.caching:Persisting calculation result: array_batch_1\n",
      "DEBUG:utils.caching:Writing /tmp/tmplwqv1hxp/array_batch_1.npy\n",
      "DEBUG:utils.caching:Persisting calculation result: array_batch_2\n",
      "DEBUG:utils.caching:Writing /tmp/tmplwqv1hxp/array_batch_2.npy\n",
      "DEBUG:utils.caching:Persisting calculation result: array_batch_3\n",
      "DEBUG:utils.caching:Writing /tmp/tmplwqv1hxp/array_batch_3.npy\n",
      "DEBUG:utils.caching:Persisting calculation result: array_batch_4\n",
      "DEBUG:utils.caching:Writing /tmp/tmplwqv1hxp/array_batch_4.npy\n"
     ]
    },
    {
     "data": {
      "text/plain": [
       "array([2, 2, 2, 2, 2, 2, 2, 2, 2, 2])"
      ]
     },
     "execution_count": 10,
     "metadata": {},
     "output_type": "execute_result"
    }
   ],
   "source": [
    "array_batch(2)"
   ]
  },
  {
   "cell_type": "markdown",
   "id": "fb94945c-b7fa-4ebb-bac0-dccd7f5a9d94",
   "metadata": {},
   "source": [
    "Requesting another item from the same batch will not cause recalculation, since the item will already be available on disk:"
   ]
  },
  {
   "cell_type": "code",
   "execution_count": 11,
   "id": "d4a64183-bb22-40d7-a6ac-09e67dd0fc3a",
   "metadata": {},
   "outputs": [
    {
     "name": "stderr",
     "output_type": "stream",
     "text": [
      "DEBUG:utils.caching:Reading from disk cache: array_batch_3\n",
      "DEBUG:utils.caching:Reading /tmp/tmplwqv1hxp/array_batch_3.npy\n"
     ]
    },
    {
     "data": {
      "text/plain": [
       "array([3, 3, 3, 3, 3, 3, 3, 3, 3, 3])"
      ]
     },
     "execution_count": 11,
     "metadata": {},
     "output_type": "execute_result"
    }
   ],
   "source": [
    "array_batch(3)"
   ]
  },
  {
   "cell_type": "markdown",
   "id": "dd2b09a0-c9ce-45f5-bc8f-826537ac8f9f",
   "metadata": {},
   "source": [
    "Attempting to request an item that is outside of the index range that is provided by the batch function will cause the batch to be recalculated before the index can be checked:"
   ]
  },
  {
   "cell_type": "code",
   "execution_count": 12,
   "id": "a784aa07-e76b-4b75-963e-a57b09d11599",
   "metadata": {
    "editable": true,
    "slideshow": {
     "slide_type": ""
    },
    "tags": [
     "raises-exception"
    ]
   },
   "outputs": [
    {
     "name": "stderr",
     "output_type": "stream",
     "text": [
      "INFO:utils.caching:Recalculating batch: array_batch\n",
      "INFO:utils.caching:Calculation time for array_batch: 0.000118 s\n",
      "DEBUG:utils.caching:Persisting calculation result: array_batch_0\n",
      "DEBUG:utils.caching:Writing /tmp/tmplwqv1hxp/array_batch_0.npy\n",
      "DEBUG:utils.caching:Persisting calculation result: array_batch_1\n",
      "DEBUG:utils.caching:Writing /tmp/tmplwqv1hxp/array_batch_1.npy\n",
      "DEBUG:utils.caching:Persisting calculation result: array_batch_2\n",
      "DEBUG:utils.caching:Writing /tmp/tmplwqv1hxp/array_batch_2.npy\n",
      "DEBUG:utils.caching:Persisting calculation result: array_batch_3\n",
      "DEBUG:utils.caching:Writing /tmp/tmplwqv1hxp/array_batch_3.npy\n",
      "DEBUG:utils.caching:Persisting calculation result: array_batch_4\n",
      "DEBUG:utils.caching:Writing /tmp/tmplwqv1hxp/array_batch_4.npy\n"
     ]
    },
    {
     "ename": "IndexError",
     "evalue": "list index out of range",
     "output_type": "error",
     "traceback": [
      "\u001b[0;31m---------------------------------------------------------------------------\u001b[0m",
      "\u001b[0;31mIndexError\u001b[0m                                Traceback (most recent call last)",
      "Cell \u001b[0;32mIn[12], line 1\u001b[0m\n\u001b[0;32m----> 1\u001b[0m \u001b[43marray_batch\u001b[49m\u001b[43m(\u001b[49m\u001b[38;5;241;43m100\u001b[39;49m\u001b[43m)\u001b[49m\n",
      "File \u001b[0;32m~/Study/KCL/ST50 Project/code/.venv_new/lib/python3.12/site-packages/cachetools/__init__.py:752\u001b[0m, in \u001b[0;36mcached.<locals>.decorator.<locals>.wrapper\u001b[0;34m(*args, **kwargs)\u001b[0m\n\u001b[1;32m    750\u001b[0m \u001b[38;5;28;01mexcept\u001b[39;00m \u001b[38;5;167;01mKeyError\u001b[39;00m:\n\u001b[1;32m    751\u001b[0m     \u001b[38;5;28;01mpass\u001b[39;00m  \u001b[38;5;66;03m# key not found\u001b[39;00m\n\u001b[0;32m--> 752\u001b[0m v \u001b[38;5;241m=\u001b[39m \u001b[43mfunc\u001b[49m\u001b[43m(\u001b[49m\u001b[38;5;241;43m*\u001b[39;49m\u001b[43margs\u001b[49m\u001b[43m,\u001b[49m\u001b[43m \u001b[49m\u001b[38;5;241;43m*\u001b[39;49m\u001b[38;5;241;43m*\u001b[39;49m\u001b[43mkwargs\u001b[49m\u001b[43m)\u001b[49m\n\u001b[1;32m    753\u001b[0m \u001b[38;5;28;01mtry\u001b[39;00m:\n\u001b[1;32m    754\u001b[0m     cache[k] \u001b[38;5;241m=\u001b[39m v\n",
      "File \u001b[0;32m~/Study/KCL/ST50 Project/code/src/utils/caching.py:183\u001b[0m, in \u001b[0;36mCacheFunc.__call__\u001b[0;34m(self, *args)\u001b[0m\n\u001b[1;32m    181\u001b[0m \u001b[38;5;129m@cachetools\u001b[39m\u001b[38;5;241m.\u001b[39mcached(cache\u001b[38;5;241m=\u001b[39mmemory_cache)\n\u001b[1;32m    182\u001b[0m \u001b[38;5;28;01mdef\u001b[39;00m \u001b[38;5;21m__call__\u001b[39m(\u001b[38;5;28mself\u001b[39m, \u001b[38;5;241m*\u001b[39margs):\n\u001b[0;32m--> 183\u001b[0m     \u001b[38;5;28;01mreturn\u001b[39;00m \u001b[38;5;28;43mself\u001b[39;49m\u001b[38;5;241;43m.\u001b[39;49m\u001b[43mget_or_recalculate\u001b[49m\u001b[43m(\u001b[49m\u001b[38;5;241;43m*\u001b[39;49m\u001b[43margs\u001b[49m\u001b[43m)\u001b[49m\n",
      "File \u001b[0;32m~/Study/KCL/ST50 Project/code/src/utils/caching.py:177\u001b[0m, in \u001b[0;36mCacheFunc.get_or_recalculate\u001b[0;34m(self, *args)\u001b[0m\n\u001b[1;32m    175\u001b[0m     res \u001b[38;5;241m=\u001b[39m \u001b[38;5;28mself\u001b[39m\u001b[38;5;241m.\u001b[39m_storage\u001b[38;5;241m.\u001b[39mread_obj(entry_name, \u001b[38;5;28mself\u001b[39m\u001b[38;5;241m.\u001b[39m_item_type)\n\u001b[1;32m    176\u001b[0m \u001b[38;5;28;01melse\u001b[39;00m:\n\u001b[0;32m--> 177\u001b[0m     res \u001b[38;5;241m=\u001b[39m \u001b[38;5;28;43mself\u001b[39;49m\u001b[38;5;241;43m.\u001b[39;49m\u001b[43mrecalculate\u001b[49m\u001b[43m(\u001b[49m\u001b[38;5;241;43m*\u001b[39;49m\u001b[43margs\u001b[49m\u001b[43m,\u001b[49m\u001b[43m \u001b[49m\u001b[43mpersist\u001b[49m\u001b[38;5;241;43m=\u001b[39;49m\u001b[38;5;28;43mself\u001b[39;49m\u001b[38;5;241;43m.\u001b[39;49m\u001b[43m_persist\u001b[49m\u001b[43m)\u001b[49m\n\u001b[1;32m    179\u001b[0m \u001b[38;5;28;01mreturn\u001b[39;00m res\n",
      "File \u001b[0;32m~/Study/KCL/ST50 Project/code/src/utils/caching.py:157\u001b[0m, in \u001b[0;36mCacheFunc.recalculate\u001b[0;34m(self, persist, *args)\u001b[0m\n\u001b[1;32m    155\u001b[0m             logger\u001b[38;5;241m.\u001b[39mdebug(\u001b[38;5;124mf\u001b[39m\u001b[38;5;124m'\u001b[39m\u001b[38;5;124mPersisting calculation result: \u001b[39m\u001b[38;5;132;01m{\u001b[39;00mentry_name\u001b[38;5;132;01m}\u001b[39;00m\u001b[38;5;124m'\u001b[39m)\n\u001b[1;32m    156\u001b[0m             \u001b[38;5;28mself\u001b[39m\u001b[38;5;241m.\u001b[39m_storage\u001b[38;5;241m.\u001b[39msave_obj(entry_name, item)\n\u001b[0;32m--> 157\u001b[0m     \u001b[38;5;28;01mreturn\u001b[39;00m \u001b[43mbatch\u001b[49m\u001b[43m[\u001b[49m\u001b[43mi\u001b[49m\u001b[43m]\u001b[49m\n\u001b[1;32m    158\u001b[0m \u001b[38;5;28;01melse\u001b[39;00m:\n\u001b[1;32m    159\u001b[0m     entry_name \u001b[38;5;241m=\u001b[39m \u001b[38;5;28mself\u001b[39m\u001b[38;5;241m.\u001b[39m_filename_gen(\u001b[38;5;28mself\u001b[39m\u001b[38;5;241m.\u001b[39m_func\u001b[38;5;241m.\u001b[39m\u001b[38;5;18m__name__\u001b[39m, \u001b[38;5;241m*\u001b[39margs)\n",
      "\u001b[0;31mIndexError\u001b[0m: list index out of range"
     ]
    }
   ],
   "source": [
    "array_batch(100)"
   ]
  },
  {
   "cell_type": "markdown",
   "id": "25a5fdf5-5945-4f00-91ef-1ddee3f9335e",
   "metadata": {},
   "source": [
    "To prevent the needless recalculation of the batch when the size is known, it is possible to specify the batch size upfront:"
   ]
  },
  {
   "cell_type": "code",
   "execution_count": 13,
   "id": "33809e95-b98c-4fe1-8f75-01d3b186f222",
   "metadata": {
    "editable": true,
    "slideshow": {
     "slide_type": ""
    },
    "tags": []
   },
   "outputs": [],
   "source": [
    "@cached(batch=True, item_type=np.ndarray, batch_size=5)\n",
    "def array_batch() -> list[np.ndarray]:\n",
    "    return [np.repeat(i, 10) for i in range(5)]"
   ]
  },
  {
   "cell_type": "code",
   "execution_count": 14,
   "id": "3a2f2c29-f765-486c-a7f4-d9c80b9003af",
   "metadata": {
    "editable": true,
    "slideshow": {
     "slide_type": ""
    },
    "tags": [
     "raises-exception"
    ]
   },
   "outputs": [
    {
     "ename": "IndexError",
     "evalue": "item index out of range",
     "output_type": "error",
     "traceback": [
      "\u001b[0;31m---------------------------------------------------------------------------\u001b[0m",
      "\u001b[0;31mIndexError\u001b[0m                                Traceback (most recent call last)",
      "Cell \u001b[0;32mIn[14], line 1\u001b[0m\n\u001b[0;32m----> 1\u001b[0m \u001b[43marray_batch\u001b[49m\u001b[43m(\u001b[49m\u001b[38;5;241;43m100\u001b[39;49m\u001b[43m)\u001b[49m\n",
      "File \u001b[0;32m~/Study/KCL/ST50 Project/code/.venv_new/lib/python3.12/site-packages/cachetools/__init__.py:752\u001b[0m, in \u001b[0;36mcached.<locals>.decorator.<locals>.wrapper\u001b[0;34m(*args, **kwargs)\u001b[0m\n\u001b[1;32m    750\u001b[0m \u001b[38;5;28;01mexcept\u001b[39;00m \u001b[38;5;167;01mKeyError\u001b[39;00m:\n\u001b[1;32m    751\u001b[0m     \u001b[38;5;28;01mpass\u001b[39;00m  \u001b[38;5;66;03m# key not found\u001b[39;00m\n\u001b[0;32m--> 752\u001b[0m v \u001b[38;5;241m=\u001b[39m \u001b[43mfunc\u001b[49m\u001b[43m(\u001b[49m\u001b[38;5;241;43m*\u001b[39;49m\u001b[43margs\u001b[49m\u001b[43m,\u001b[49m\u001b[43m \u001b[49m\u001b[38;5;241;43m*\u001b[39;49m\u001b[38;5;241;43m*\u001b[39;49m\u001b[43mkwargs\u001b[49m\u001b[43m)\u001b[49m\n\u001b[1;32m    753\u001b[0m \u001b[38;5;28;01mtry\u001b[39;00m:\n\u001b[1;32m    754\u001b[0m     cache[k] \u001b[38;5;241m=\u001b[39m v\n",
      "File \u001b[0;32m~/Study/KCL/ST50 Project/code/src/utils/caching.py:183\u001b[0m, in \u001b[0;36mCacheFunc.__call__\u001b[0;34m(self, *args)\u001b[0m\n\u001b[1;32m    181\u001b[0m \u001b[38;5;129m@cachetools\u001b[39m\u001b[38;5;241m.\u001b[39mcached(cache\u001b[38;5;241m=\u001b[39mmemory_cache)\n\u001b[1;32m    182\u001b[0m \u001b[38;5;28;01mdef\u001b[39;00m \u001b[38;5;21m__call__\u001b[39m(\u001b[38;5;28mself\u001b[39m, \u001b[38;5;241m*\u001b[39margs):\n\u001b[0;32m--> 183\u001b[0m     \u001b[38;5;28;01mreturn\u001b[39;00m \u001b[38;5;28;43mself\u001b[39;49m\u001b[38;5;241;43m.\u001b[39;49m\u001b[43mget_or_recalculate\u001b[49m\u001b[43m(\u001b[49m\u001b[38;5;241;43m*\u001b[39;49m\u001b[43margs\u001b[49m\u001b[43m)\u001b[49m\n",
      "File \u001b[0;32m~/Study/KCL/ST50 Project/code/src/utils/caching.py:177\u001b[0m, in \u001b[0;36mCacheFunc.get_or_recalculate\u001b[0;34m(self, *args)\u001b[0m\n\u001b[1;32m    175\u001b[0m     res \u001b[38;5;241m=\u001b[39m \u001b[38;5;28mself\u001b[39m\u001b[38;5;241m.\u001b[39m_storage\u001b[38;5;241m.\u001b[39mread_obj(entry_name, \u001b[38;5;28mself\u001b[39m\u001b[38;5;241m.\u001b[39m_item_type)\n\u001b[1;32m    176\u001b[0m \u001b[38;5;28;01melse\u001b[39;00m:\n\u001b[0;32m--> 177\u001b[0m     res \u001b[38;5;241m=\u001b[39m \u001b[38;5;28;43mself\u001b[39;49m\u001b[38;5;241;43m.\u001b[39;49m\u001b[43mrecalculate\u001b[49m\u001b[43m(\u001b[49m\u001b[38;5;241;43m*\u001b[39;49m\u001b[43margs\u001b[49m\u001b[43m,\u001b[49m\u001b[43m \u001b[49m\u001b[43mpersist\u001b[49m\u001b[38;5;241;43m=\u001b[39;49m\u001b[38;5;28;43mself\u001b[39;49m\u001b[38;5;241;43m.\u001b[39;49m\u001b[43m_persist\u001b[49m\u001b[43m)\u001b[49m\n\u001b[1;32m    179\u001b[0m \u001b[38;5;28;01mreturn\u001b[39;00m res\n",
      "File \u001b[0;32m~/Study/KCL/ST50 Project/code/src/utils/caching.py:146\u001b[0m, in \u001b[0;36mCacheFunc.recalculate\u001b[0;34m(self, persist, *args)\u001b[0m\n\u001b[1;32m    144\u001b[0m i \u001b[38;5;241m=\u001b[39m args[\u001b[38;5;241m0\u001b[39m]\n\u001b[1;32m    145\u001b[0m \u001b[38;5;28;01mif\u001b[39;00m \u001b[38;5;28mself\u001b[39m\u001b[38;5;241m.\u001b[39m_batch_size \u001b[38;5;129;01mis\u001b[39;00m \u001b[38;5;129;01mnot\u001b[39;00m \u001b[38;5;28;01mNone\u001b[39;00m \u001b[38;5;129;01mand\u001b[39;00m (i \u001b[38;5;241m<\u001b[39m \u001b[38;5;241m0\u001b[39m \u001b[38;5;129;01mor\u001b[39;00m i \u001b[38;5;241m>\u001b[39m\u001b[38;5;241m=\u001b[39m \u001b[38;5;28mself\u001b[39m\u001b[38;5;241m.\u001b[39m_batch_size):\n\u001b[0;32m--> 146\u001b[0m     \u001b[38;5;28;01mraise\u001b[39;00m \u001b[38;5;167;01mIndexError\u001b[39;00m(\u001b[38;5;124m'\u001b[39m\u001b[38;5;124mitem index out of range\u001b[39m\u001b[38;5;124m'\u001b[39m)\n\u001b[1;32m    147\u001b[0m logger\u001b[38;5;241m.\u001b[39minfo(\u001b[38;5;124m'\u001b[39m\u001b[38;5;124mRecalculating batch: \u001b[39m\u001b[38;5;132;01m%s\u001b[39;00m\u001b[38;5;124m'\u001b[39m, \u001b[38;5;28mself\u001b[39m\u001b[38;5;241m.\u001b[39m_func\u001b[38;5;241m.\u001b[39m\u001b[38;5;18m__name__\u001b[39m)\n\u001b[1;32m    148\u001b[0m start_time \u001b[38;5;241m=\u001b[39m time\u001b[38;5;241m.\u001b[39mtime()\n",
      "\u001b[0;31mIndexError\u001b[0m: item index out of range"
     ]
    }
   ],
   "source": [
    "array_batch(100)"
   ]
  },
  {
   "cell_type": "markdown",
   "id": "c7f23c67-40ce-4939-a0c2-c861e72ea343",
   "metadata": {},
   "source": [
    "If need be, you can force recalculation of the batch:"
   ]
  },
  {
   "cell_type": "code",
   "execution_count": 15,
   "id": "ca268bbf-fe31-4b49-a6b3-cd5ad2ebdfd7",
   "metadata": {},
   "outputs": [
    {
     "name": "stderr",
     "output_type": "stream",
     "text": [
      "INFO:utils.caching:Recalculating batch: array_batch\n",
      "INFO:utils.caching:Calculation time for array_batch: 0.000089 s\n",
      "DEBUG:utils.caching:Persisting calculation result: array_batch_0\n",
      "DEBUG:utils.caching:Writing /tmp/tmplwqv1hxp/array_batch_0.npy\n",
      "DEBUG:utils.caching:Persisting calculation result: array_batch_1\n",
      "DEBUG:utils.caching:Writing /tmp/tmplwqv1hxp/array_batch_1.npy\n",
      "DEBUG:utils.caching:Persisting calculation result: array_batch_2\n",
      "DEBUG:utils.caching:Writing /tmp/tmplwqv1hxp/array_batch_2.npy\n",
      "DEBUG:utils.caching:Persisting calculation result: array_batch_3\n",
      "DEBUG:utils.caching:Writing /tmp/tmplwqv1hxp/array_batch_3.npy\n",
      "DEBUG:utils.caching:Persisting calculation result: array_batch_4\n",
      "DEBUG:utils.caching:Writing /tmp/tmplwqv1hxp/array_batch_4.npy\n"
     ]
    },
    {
     "data": {
      "text/plain": [
       "array([3, 3, 3, 3, 3, 3, 3, 3, 3, 3])"
      ]
     },
     "execution_count": 15,
     "metadata": {},
     "output_type": "execute_result"
    }
   ],
   "source": [
    "array_batch.recalculate(3)"
   ]
  },
  {
   "cell_type": "markdown",
   "id": "dbd5d773-e327-4b28-87ee-bc781ef53552",
   "metadata": {},
   "source": [
    "## Single item calculation"
   ]
  },
  {
   "cell_type": "markdown",
   "id": "509d9942-5d18-4c13-a7e4-73e40a17b169",
   "metadata": {},
   "source": [
    "It is also possible to cache a single item:"
   ]
  },
  {
   "cell_type": "code",
   "execution_count": 16,
   "id": "c086b6cc-a5ce-4009-a87a-a7d3eafb4f5c",
   "metadata": {},
   "outputs": [],
   "source": [
    "@cached()\n",
    "def single_item() -> np.ndarray:\n",
    "    return np.arange(10)"
   ]
  },
  {
   "cell_type": "code",
   "execution_count": 17,
   "id": "e9849f4a-3387-45e2-8ded-0d5bd98bb618",
   "metadata": {},
   "outputs": [
    {
     "name": "stderr",
     "output_type": "stream",
     "text": [
      "INFO:utils.caching:Recalculating: single_item\n",
      "INFO:utils.caching:Calculation time for single_item: 0.000034 s\n",
      "DEBUG:utils.caching:Persisting calculation result: single_item\n",
      "DEBUG:utils.caching:Writing /tmp/tmplwqv1hxp/single_item.npy\n"
     ]
    },
    {
     "data": {
      "text/plain": [
       "array([0, 1, 2, 3, 4, 5, 6, 7, 8, 9])"
      ]
     },
     "execution_count": 17,
     "metadata": {},
     "output_type": "execute_result"
    }
   ],
   "source": [
    "single_item()"
   ]
  },
  {
   "cell_type": "markdown",
   "id": "a57ee6a6-480a-4471-9918-391169c87046",
   "metadata": {},
   "source": [
    "## Non-integer arguments"
   ]
  },
  {
   "cell_type": "code",
   "execution_count": 18,
   "id": "369d5403-18eb-457e-a5d6-43186268ad82",
   "metadata": {},
   "outputs": [],
   "source": [
    "@cached()\n",
    "def custom_argument(key: str) -> np.ndarray:\n",
    "    if key == 'ones':\n",
    "        return np.ones(10)\n",
    "    elif key == 'zeros':\n",
    "        return np.zeros(10)\n",
    "    else:\n",
    "        return np.arange(10)"
   ]
  },
  {
   "cell_type": "code",
   "execution_count": 19,
   "id": "0476c894-00a5-4902-9c86-bb90fad6fdea",
   "metadata": {},
   "outputs": [
    {
     "name": "stderr",
     "output_type": "stream",
     "text": [
      "INFO:utils.caching:Recalculating: custom_argument_ones\n",
      "INFO:utils.caching:Calculation time for custom_argument_ones: 0.000051 s\n",
      "DEBUG:utils.caching:Persisting calculation result: custom_argument_ones\n",
      "DEBUG:utils.caching:Writing /tmp/tmplwqv1hxp/custom_argument_ones.npy\n"
     ]
    },
    {
     "data": {
      "text/plain": [
       "array([1., 1., 1., 1., 1., 1., 1., 1., 1., 1.])"
      ]
     },
     "execution_count": 19,
     "metadata": {},
     "output_type": "execute_result"
    }
   ],
   "source": [
    "custom_argument('ones')"
   ]
  },
  {
   "cell_type": "code",
   "execution_count": 20,
   "id": "9c84aa49-0d61-4928-8803-463c5759f82a",
   "metadata": {},
   "outputs": [
    {
     "data": {
      "text/plain": [
       "array([1., 1., 1., 1., 1., 1., 1., 1., 1., 1.])"
      ]
     },
     "execution_count": 20,
     "metadata": {},
     "output_type": "execute_result"
    }
   ],
   "source": [
    "custom_argument('ones')"
   ]
  },
  {
   "cell_type": "code",
   "execution_count": 21,
   "id": "e51af654-e1a7-47c5-9a79-37e7c7c776b7",
   "metadata": {},
   "outputs": [
    {
     "name": "stderr",
     "output_type": "stream",
     "text": [
      "INFO:utils.caching:Recalculating: custom_argument_zeros\n",
      "INFO:utils.caching:Calculation time for custom_argument_zeros: 0.000012 s\n",
      "DEBUG:utils.caching:Persisting calculation result: custom_argument_zeros\n",
      "DEBUG:utils.caching:Writing /tmp/tmplwqv1hxp/custom_argument_zeros.npy\n"
     ]
    },
    {
     "data": {
      "text/plain": [
       "array([0., 0., 0., 0., 0., 0., 0., 0., 0., 0.])"
      ]
     },
     "execution_count": 21,
     "metadata": {},
     "output_type": "execute_result"
    }
   ],
   "source": [
    "custom_argument('zeros')"
   ]
  },
  {
   "cell_type": "markdown",
   "id": "24a0e06f-0fb4-40de-9e89-7ec8d54e2417",
   "metadata": {},
   "source": [
    "## Indexing"
   ]
  },
  {
   "cell_type": "markdown",
   "id": "7d12a6f3-9878-44d1-9114-5778a5e37b88",
   "metadata": {},
   "source": [
    "For convenience, it's also possible to use the indexing syntax to access cached elements:"
   ]
  },
  {
   "cell_type": "code",
   "execution_count": 22,
   "id": "8c91f542-c23c-4835-aca3-d05b64cd8783",
   "metadata": {},
   "outputs": [
    {
     "data": {
      "text/plain": [
       "array([3, 3, 3, 3, 3, 3, 3, 3, 3, 3])"
      ]
     },
     "execution_count": 22,
     "metadata": {},
     "output_type": "execute_result"
    }
   ],
   "source": [
    "array_of_repeats[3]"
   ]
  },
  {
   "cell_type": "code",
   "execution_count": 23,
   "id": "1d7bd785-c3bc-4bcf-ae19-1a05432151a7",
   "metadata": {},
   "outputs": [
    {
     "name": "stderr",
     "output_type": "stream",
     "text": [
      "DEBUG:utils.caching:Reading from disk cache: array_batch_2\n",
      "DEBUG:utils.caching:Reading /tmp/tmplwqv1hxp/array_batch_2.npy\n"
     ]
    },
    {
     "data": {
      "text/plain": [
       "array([2, 2, 2, 2, 2, 2, 2, 2, 2, 2])"
      ]
     },
     "execution_count": 23,
     "metadata": {},
     "output_type": "execute_result"
    }
   ],
   "source": [
    "array_batch[2]"
   ]
  },
  {
   "cell_type": "markdown",
   "id": "2dd1f17b-830a-483f-b3d5-476c9e759308",
   "metadata": {},
   "source": [
    "## Read-only mode"
   ]
  },
  {
   "cell_type": "markdown",
   "id": "80227e87-5e8e-4c65-bef9-4777eb927fff",
   "metadata": {},
   "source": [
    "When recalculation is undesirable, the decorator can be used in the read-only mode:"
   ]
  },
  {
   "cell_type": "code",
   "execution_count": 24,
   "id": "08f67617-febb-4cf0-84bd-820f163e7cb7",
   "metadata": {},
   "outputs": [],
   "source": [
    "@cached(read_only=True)\n",
    "def array_of_repeats(i) -> np.ndarray:\n",
    "    raise NotImplementedError"
   ]
  },
  {
   "cell_type": "markdown",
   "id": "765ebfc1-1e83-44d3-86f5-fa9ca60516f1",
   "metadata": {},
   "source": [
    "The items are retrieved in the same way as before:"
   ]
  },
  {
   "cell_type": "code",
   "execution_count": 25,
   "id": "45a624d0-a23f-4845-b5e8-b822055ef29c",
   "metadata": {},
   "outputs": [
    {
     "name": "stderr",
     "output_type": "stream",
     "text": [
      "DEBUG:utils.caching:Reading from disk cache: array_of_repeats_3\n",
      "DEBUG:utils.caching:Reading /tmp/tmplwqv1hxp/array_of_repeats_3.npy\n"
     ]
    },
    {
     "data": {
      "text/plain": [
       "array([3, 3, 3, 3, 3, 3, 3, 3, 3, 3])"
      ]
     },
     "execution_count": 25,
     "metadata": {},
     "output_type": "execute_result"
    }
   ],
   "source": [
    "array_of_repeats[3]"
   ]
  },
  {
   "cell_type": "markdown",
   "id": "9b4094ac-3e66-44e3-affc-c5d7120f049f",
   "metadata": {},
   "source": [
    "However, attempting to retrieve items that have not been cached previously will result in an error:"
   ]
  },
  {
   "cell_type": "code",
   "execution_count": 26,
   "id": "ed380430-737f-4026-806f-b83d3eec4e0b",
   "metadata": {
    "editable": true,
    "slideshow": {
     "slide_type": ""
    },
    "tags": [
     "raises-exception"
    ]
   },
   "outputs": [
    {
     "name": "stderr",
     "output_type": "stream",
     "text": [
      "DEBUG:utils.caching:Reading from disk cache: array_of_repeats_1\n",
      "DEBUG:utils.caching:Reading /tmp/tmplwqv1hxp/array_of_repeats_1.npy\n"
     ]
    },
    {
     "ename": "FileNotFoundError",
     "evalue": "[Errno 2] No such file or directory: '/tmp/tmplwqv1hxp/array_of_repeats_1.npy'",
     "output_type": "error",
     "traceback": [
      "\u001b[0;31m---------------------------------------------------------------------------\u001b[0m",
      "\u001b[0;31mFileNotFoundError\u001b[0m                         Traceback (most recent call last)",
      "Cell \u001b[0;32mIn[26], line 1\u001b[0m\n\u001b[0;32m----> 1\u001b[0m \u001b[43marray_of_repeats\u001b[49m\u001b[43m[\u001b[49m\u001b[38;5;241;43m1\u001b[39;49m\u001b[43m]\u001b[49m\n",
      "File \u001b[0;32m~/Study/KCL/ST50 Project/code/src/utils/caching.py:186\u001b[0m, in \u001b[0;36mCacheFunc.__getitem__\u001b[0;34m(self, i)\u001b[0m\n\u001b[1;32m    185\u001b[0m \u001b[38;5;28;01mdef\u001b[39;00m \u001b[38;5;21m__getitem__\u001b[39m(\u001b[38;5;28mself\u001b[39m, i: \u001b[38;5;28mint\u001b[39m):\n\u001b[0;32m--> 186\u001b[0m     \u001b[38;5;28;01mreturn\u001b[39;00m \u001b[38;5;28;43mself\u001b[39;49m\u001b[38;5;241;43m.\u001b[39;49m\u001b[38;5;21;43m__call__\u001b[39;49m\u001b[43m(\u001b[49m\u001b[43mi\u001b[49m\u001b[43m)\u001b[49m\n",
      "File \u001b[0;32m~/Study/KCL/ST50 Project/code/.venv_new/lib/python3.12/site-packages/cachetools/__init__.py:752\u001b[0m, in \u001b[0;36mcached.<locals>.decorator.<locals>.wrapper\u001b[0;34m(*args, **kwargs)\u001b[0m\n\u001b[1;32m    750\u001b[0m \u001b[38;5;28;01mexcept\u001b[39;00m \u001b[38;5;167;01mKeyError\u001b[39;00m:\n\u001b[1;32m    751\u001b[0m     \u001b[38;5;28;01mpass\u001b[39;00m  \u001b[38;5;66;03m# key not found\u001b[39;00m\n\u001b[0;32m--> 752\u001b[0m v \u001b[38;5;241m=\u001b[39m \u001b[43mfunc\u001b[49m\u001b[43m(\u001b[49m\u001b[38;5;241;43m*\u001b[39;49m\u001b[43margs\u001b[49m\u001b[43m,\u001b[49m\u001b[43m \u001b[49m\u001b[38;5;241;43m*\u001b[39;49m\u001b[38;5;241;43m*\u001b[39;49m\u001b[43mkwargs\u001b[49m\u001b[43m)\u001b[49m\n\u001b[1;32m    753\u001b[0m \u001b[38;5;28;01mtry\u001b[39;00m:\n\u001b[1;32m    754\u001b[0m     cache[k] \u001b[38;5;241m=\u001b[39m v\n",
      "File \u001b[0;32m~/Study/KCL/ST50 Project/code/src/utils/caching.py:183\u001b[0m, in \u001b[0;36mCacheFunc.__call__\u001b[0;34m(self, *args)\u001b[0m\n\u001b[1;32m    181\u001b[0m \u001b[38;5;129m@cachetools\u001b[39m\u001b[38;5;241m.\u001b[39mcached(cache\u001b[38;5;241m=\u001b[39mmemory_cache)\n\u001b[1;32m    182\u001b[0m \u001b[38;5;28;01mdef\u001b[39;00m \u001b[38;5;21m__call__\u001b[39m(\u001b[38;5;28mself\u001b[39m, \u001b[38;5;241m*\u001b[39margs):\n\u001b[0;32m--> 183\u001b[0m     \u001b[38;5;28;01mreturn\u001b[39;00m \u001b[38;5;28;43mself\u001b[39;49m\u001b[38;5;241;43m.\u001b[39;49m\u001b[43mget_or_recalculate\u001b[49m\u001b[43m(\u001b[49m\u001b[38;5;241;43m*\u001b[39;49m\u001b[43margs\u001b[49m\u001b[43m)\u001b[49m\n",
      "File \u001b[0;32m~/Study/KCL/ST50 Project/code/src/utils/caching.py:175\u001b[0m, in \u001b[0;36mCacheFunc.get_or_recalculate\u001b[0;34m(self, *args)\u001b[0m\n\u001b[1;32m    173\u001b[0m \u001b[38;5;28;01mif\u001b[39;00m \u001b[38;5;28mself\u001b[39m\u001b[38;5;241m.\u001b[39m_read_only \u001b[38;5;129;01mor\u001b[39;00m (exists \u001b[38;5;129;01mand\u001b[39;00m \u001b[38;5;129;01mnot\u001b[39;00m \u001b[38;5;28mself\u001b[39m\u001b[38;5;241m.\u001b[39m_recalculate):\n\u001b[1;32m    174\u001b[0m     logger\u001b[38;5;241m.\u001b[39mdebug(\u001b[38;5;124m'\u001b[39m\u001b[38;5;124mReading from disk cache: \u001b[39m\u001b[38;5;132;01m%s\u001b[39;00m\u001b[38;5;124m'\u001b[39m, entry_name)\n\u001b[0;32m--> 175\u001b[0m     res \u001b[38;5;241m=\u001b[39m \u001b[38;5;28;43mself\u001b[39;49m\u001b[38;5;241;43m.\u001b[39;49m\u001b[43m_storage\u001b[49m\u001b[38;5;241;43m.\u001b[39;49m\u001b[43mread_obj\u001b[49m\u001b[43m(\u001b[49m\u001b[43mentry_name\u001b[49m\u001b[43m,\u001b[49m\u001b[43m \u001b[49m\u001b[38;5;28;43mself\u001b[39;49m\u001b[38;5;241;43m.\u001b[39;49m\u001b[43m_item_type\u001b[49m\u001b[43m)\u001b[49m\n\u001b[1;32m    176\u001b[0m \u001b[38;5;28;01melse\u001b[39;00m:\n\u001b[1;32m    177\u001b[0m     res \u001b[38;5;241m=\u001b[39m \u001b[38;5;28mself\u001b[39m\u001b[38;5;241m.\u001b[39mrecalculate(\u001b[38;5;241m*\u001b[39margs, persist\u001b[38;5;241m=\u001b[39m\u001b[38;5;28mself\u001b[39m\u001b[38;5;241m.\u001b[39m_persist)\n",
      "File \u001b[0;32m~/Study/KCL/ST50 Project/code/src/utils/caching.py:97\u001b[0m, in \u001b[0;36mLocalStorage.read_obj\u001b[0;34m(self, entry_name, expected_type)\u001b[0m\n\u001b[1;32m     95\u001b[0m logger\u001b[38;5;241m.\u001b[39mdebug(\u001b[38;5;124m'\u001b[39m\u001b[38;5;124mReading \u001b[39m\u001b[38;5;132;01m%s\u001b[39;00m\u001b[38;5;124m'\u001b[39m, filepath)\n\u001b[1;32m     96\u001b[0m \u001b[38;5;28;01mif\u001b[39;00m expected_type \u001b[38;5;129;01mis\u001b[39;00m np\u001b[38;5;241m.\u001b[39mndarray:\n\u001b[0;32m---> 97\u001b[0m     \u001b[38;5;28;01mreturn\u001b[39;00m \u001b[43mnp\u001b[49m\u001b[38;5;241;43m.\u001b[39;49m\u001b[43mload\u001b[49m\u001b[43m(\u001b[49m\u001b[43mfilepath\u001b[49m\u001b[43m,\u001b[49m\u001b[43m \u001b[49m\u001b[43mallow_pickle\u001b[49m\u001b[38;5;241;43m=\u001b[39;49m\u001b[38;5;28;43;01mFalse\u001b[39;49;00m\u001b[43m)\u001b[49m\n\u001b[1;32m     98\u001b[0m \u001b[38;5;28;01melif\u001b[39;00m expected_type \u001b[38;5;129;01mis\u001b[39;00m pd\u001b[38;5;241m.\u001b[39mDataFrame:\n\u001b[1;32m     99\u001b[0m     \u001b[38;5;28;01mreturn\u001b[39;00m pd\u001b[38;5;241m.\u001b[39mread_csv(filepath, index_col\u001b[38;5;241m=\u001b[39m\u001b[38;5;241m0\u001b[39m)\n",
      "File \u001b[0;32m~/Study/KCL/ST50 Project/code/.venv_new/lib/python3.12/site-packages/numpy/lib/_npyio_impl.py:455\u001b[0m, in \u001b[0;36mload\u001b[0;34m(file, mmap_mode, allow_pickle, fix_imports, encoding, max_header_size)\u001b[0m\n\u001b[1;32m    453\u001b[0m     own_fid \u001b[38;5;241m=\u001b[39m \u001b[38;5;28;01mFalse\u001b[39;00m\n\u001b[1;32m    454\u001b[0m \u001b[38;5;28;01melse\u001b[39;00m:\n\u001b[0;32m--> 455\u001b[0m     fid \u001b[38;5;241m=\u001b[39m stack\u001b[38;5;241m.\u001b[39menter_context(\u001b[38;5;28;43mopen\u001b[39;49m\u001b[43m(\u001b[49m\u001b[43mos\u001b[49m\u001b[38;5;241;43m.\u001b[39;49m\u001b[43mfspath\u001b[49m\u001b[43m(\u001b[49m\u001b[43mfile\u001b[49m\u001b[43m)\u001b[49m\u001b[43m,\u001b[49m\u001b[43m \u001b[49m\u001b[38;5;124;43m\"\u001b[39;49m\u001b[38;5;124;43mrb\u001b[39;49m\u001b[38;5;124;43m\"\u001b[39;49m\u001b[43m)\u001b[49m)\n\u001b[1;32m    456\u001b[0m     own_fid \u001b[38;5;241m=\u001b[39m \u001b[38;5;28;01mTrue\u001b[39;00m\n\u001b[1;32m    458\u001b[0m \u001b[38;5;66;03m# Code to distinguish from NumPy binary files and pickles.\u001b[39;00m\n",
      "\u001b[0;31mFileNotFoundError\u001b[0m: [Errno 2] No such file or directory: '/tmp/tmplwqv1hxp/array_of_repeats_1.npy'"
     ]
    }
   ],
   "source": [
    "array_of_repeats[1]"
   ]
  }
 ],
 "metadata": {
  "kernelspec": {
   "display_name": "Python 3 (ipykernel)",
   "language": "python",
   "name": "python3"
  },
  "language_info": {
   "codemirror_mode": {
    "name": "ipython",
    "version": 3
   },
   "file_extension": ".py",
   "mimetype": "text/x-python",
   "name": "python",
   "nbconvert_exporter": "python",
   "pygments_lexer": "ipython3",
   "version": "3.12.4"
  }
 },
 "nbformat": 4,
 "nbformat_minor": 5
}
