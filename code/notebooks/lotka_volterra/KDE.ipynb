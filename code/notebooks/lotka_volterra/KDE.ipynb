{
 "cells": [
  {
   "cell_type": "code",
   "execution_count": 1,
   "id": "59feed49-0261-48da-aa8c-0ea735387ba3",
   "metadata": {
    "tags": []
   },
   "outputs": [],
   "source": [
    "import time\n",
    "start_time = time.time()"
   ]
  },
  {
   "cell_type": "code",
   "execution_count": 2,
   "id": "4fbeb55f-4856-4967-b506-425536b3d1ff",
   "metadata": {
    "tags": []
   },
   "outputs": [],
   "source": [
    "import logging\n",
    "import multiprocessing\n",
    "\n",
    "import numpy as np\n",
    "\n",
    "from scipy.integrate import solve_ivp\n",
    "from scipy.stats import gaussian_kde\n",
    "from scipy.stats import multivariate_normal as mvn\n",
    "\n",
    "import lotka_volterra\n",
    "import utils.caching\n",
    "from utils.caching import make_cached_s3\n",
    "from utils.parallel import apply_along_axis_parallel, get_map_parallel_joblib\n",
    "from utils.paths import S3_BUCKET_NAME"
   ]
  },
  {
   "cell_type": "code",
   "execution_count": 3,
   "id": "309aef8f-cef3-492a-8d55-fa8f707f3369",
   "metadata": {
    "tags": []
   },
   "outputs": [],
   "source": [
    "logging.basicConfig()\n",
    "logging.getLogger(utils.caching.__name__).setLevel(logging.DEBUG)"
   ]
  },
  {
   "cell_type": "code",
   "execution_count": 4,
   "id": "3f0aeda0-2356-4b49-bb45-1ce8cf866f8d",
   "metadata": {
    "tags": []
   },
   "outputs": [],
   "source": [
    "cached = make_cached_s3(S3_BUCKET_NAME)"
   ]
  },
  {
   "cell_type": "code",
   "execution_count": 5,
   "id": "3b35c61f-4a74-4e0f-8ea6-850d76b23ad4",
   "metadata": {},
   "outputs": [],
   "source": [
    "map_parallel = get_map_parallel_joblib(multiprocessing.cpu_count())"
   ]
  },
  {
   "cell_type": "markdown",
   "id": "0b398a49-120f-4f5b-a0ac-f440949460cf",
   "metadata": {},
   "source": [
    "Read-only input datasets:"
   ]
  },
  {
   "cell_type": "code",
   "execution_count": 6,
   "id": "de9e10f8-f92d-462f-9b71-5da1f5f5e0d4",
   "metadata": {},
   "outputs": [],
   "source": [
    "@cached(item_type=np.ndarray, batch_size=lotka_volterra.n_chains, read_only=True)\n",
    "def rw_samples() -> list[np.ndarray]:\n",
    "    raise NotImplementedError"
   ]
  },
  {
   "cell_type": "code",
   "execution_count": 7,
   "id": "673b42ed-e88e-46d7-be3d-55b84e74b664",
   "metadata": {},
   "outputs": [
    {
     "name": "stderr",
     "output_type": "stream",
     "text": [
      "DEBUG:utils.caching:Reading from disk cache: rw_samples_0\n",
      "DEBUG:utils.caching:Reading from S3 gradient-free-mcmc-postprocessing/rw_samples_0.npy\n"
     ]
    }
   ],
   "source": [
    "kde_scipy = gaussian_kde(rw_samples[0].T, bw_method='silverman')"
   ]
  },
  {
   "cell_type": "code",
   "execution_count": 8,
   "id": "920605e1-9fb7-4626-b020-09a829753008",
   "metadata": {},
   "outputs": [
    {
     "name": "stdout",
     "output_type": "stream",
     "text": [
      "42.6 ms ± 1.45 ms per loop (mean ± std. dev. of 7 runs, 10 loops each)\n"
     ]
    }
   ],
   "source": [
    "%%timeit\n",
    "mvn.pdf(rw_samples[0], mean=rw_samples[0][0], cov=kde_scipy.covariance)"
   ]
  },
  {
   "cell_type": "code",
   "execution_count": 14,
   "id": "b18d80a8-38d7-4cfd-88b7-9704e984f25a",
   "metadata": {},
   "outputs": [],
   "source": [
    "def evaluate_for_row(row):\n",
    "    return np.log(np.average(mvn.pdf(rw_samples[0], mean=row, cov=kde_scipy.covariance)))"
   ]
  },
  {
   "cell_type": "code",
   "execution_count": 15,
   "id": "50d4fd99-be36-4a54-a0d1-2fa4ebcea109",
   "metadata": {},
   "outputs": [],
   "source": [
    "chunk_size = 1000"
   ]
  },
  {
   "cell_type": "code",
   "execution_count": null,
   "id": "4bf082e2-f0ca-49f3-9f6d-3607b5271367",
   "metadata": {},
   "outputs": [],
   "source": [
    "@cached(batch_size=len(lotka_volterra.theta_inits))\n",
    "def rw_kde_log_q(i: int) -> np.ndarray:\n",
    "    return apply_along_axis_parallel(evaluate_for_row, 1, rw_samples[i], chunk_size, map_parallel)"
   ]
  },
  {
   "cell_type": "code",
   "execution_count": null,
   "id": "64c6ee96-8e14-41ce-8008-6688e69c3263",
   "metadata": {},
   "outputs": [],
   "source": [
    "[rw_kde_log_q(i) for i in range(lotka_volterra.n_chains)];"
   ]
  },
  {
   "cell_type": "markdown",
   "id": "b9ec6c67-8624-4524-9ae3-bdcc75425b5f",
   "metadata": {},
   "source": [
    "Notebook execution took:"
   ]
  },
  {
   "cell_type": "code",
   "execution_count": 12,
   "id": "d8d9946e-4ac8-4a91-a361-40a5d8429cb0",
   "metadata": {
    "tags": []
   },
   "outputs": [
    {
     "data": {
      "text/plain": [
       "32.254340171813965"
      ]
     },
     "execution_count": 12,
     "metadata": {},
     "output_type": "execute_result"
    }
   ],
   "source": [
    "time.time() - start_time"
   ]
  }
 ],
 "metadata": {
  "kernelspec": {
   "display_name": "Python 3 (ipykernel)",
   "language": "python",
   "name": "python3"
  },
  "language_info": {
   "codemirror_mode": {
    "name": "ipython",
    "version": 3
   },
   "file_extension": ".py",
   "mimetype": "text/x-python",
   "name": "python",
   "nbconvert_exporter": "python",
   "pygments_lexer": "ipython3",
   "version": "3.12.4"
  }
 },
 "nbformat": 4,
 "nbformat_minor": 5
}
