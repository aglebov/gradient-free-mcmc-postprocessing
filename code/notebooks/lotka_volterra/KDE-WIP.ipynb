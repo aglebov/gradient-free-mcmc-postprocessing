{
 "cells": [
  {
   "cell_type": "code",
   "execution_count": 1,
   "id": "ede09140-4f7a-4dc6-a87f-a29973376d97",
   "metadata": {},
   "outputs": [
    {
     "name": "stdout",
     "output_type": "stream",
     "text": [
      "env: JAX_ENABLE_X64=True\n"
     ]
    }
   ],
   "source": [
    "%env JAX_ENABLE_X64 True"
   ]
  },
  {
   "cell_type": "code",
   "execution_count": 2,
   "id": "59feed49-0261-48da-aa8c-0ea735387ba3",
   "metadata": {
    "tags": []
   },
   "outputs": [],
   "source": [
    "import time\n",
    "start_time = time.time()"
   ]
  },
  {
   "cell_type": "code",
   "execution_count": 38,
   "id": "4fbeb55f-4856-4967-b506-425536b3d1ff",
   "metadata": {
    "tags": []
   },
   "outputs": [],
   "source": [
    "import logging\n",
    "import multiprocessing\n",
    "\n",
    "import numpy as np\n",
    "\n",
    "from scipy.integrate import solve_ivp\n",
    "from scipy.stats import gaussian_kde\n",
    "from scipy.stats import multivariate_normal as mvn\n",
    "\n",
    "import jax\n",
    "import jax.numpy as jnp\n",
    "from jax.scipy.stats import multivariate_normal as jmvn\n",
    "from jax.scipy.stats import gaussian_kde as jgaussian_kde\n",
    "\n",
    "import numdifftools\n",
    "\n",
    "from stein_thinning.thinning import thin_gf\n",
    "\n",
    "import lotka_volterra\n",
    "import utils.caching\n",
    "from utils.caching import make_cached_s3\n",
    "from utils.parallel import apply_along_axis_parallel, get_map_parallel_joblib\n",
    "from utils.paths import S3_BUCKET_NAME"
   ]
  },
  {
   "cell_type": "code",
   "execution_count": 4,
   "id": "309aef8f-cef3-492a-8d55-fa8f707f3369",
   "metadata": {
    "tags": []
   },
   "outputs": [],
   "source": [
    "logging.basicConfig()\n",
    "logging.getLogger(utils.caching.__name__).setLevel(logging.DEBUG)"
   ]
  },
  {
   "cell_type": "code",
   "execution_count": 5,
   "id": "3f0aeda0-2356-4b49-bb45-1ce8cf866f8d",
   "metadata": {
    "tags": []
   },
   "outputs": [],
   "source": [
    "cached = make_cached_s3(S3_BUCKET_NAME)"
   ]
  },
  {
   "cell_type": "code",
   "execution_count": 6,
   "id": "3b35c61f-4a74-4e0f-8ea6-850d76b23ad4",
   "metadata": {},
   "outputs": [],
   "source": [
    "map_parallel = get_map_parallel_joblib(multiprocessing.cpu_count())"
   ]
  },
  {
   "cell_type": "markdown",
   "id": "97f4cd14-03c7-4351-9dc0-8b4e53a25a5e",
   "metadata": {},
   "source": [
    "Read-only input datasets:"
   ]
  },
  {
   "cell_type": "code",
   "execution_count": 7,
   "id": "de9e10f8-f92d-462f-9b71-5da1f5f5e0d4",
   "metadata": {},
   "outputs": [],
   "source": [
    "@cached(batch_size=lotka_volterra.n_chains, read_only=True)\n",
    "def rw_samples(i: int) -> np.ndarray:\n",
    "    raise NotImplementedError"
   ]
  },
  {
   "cell_type": "code",
   "execution_count": 20,
   "id": "207c32bc-cbba-470d-a5cf-d2c13ad556f5",
   "metadata": {
    "tags": []
   },
   "outputs": [],
   "source": [
    "@cached(batch_size=lotka_volterra.n_chains, read_only=True)\n",
    "def rw_log_p(i: int) -> np.ndarray:\n",
    "    raise NotImplementedError"
   ]
  },
  {
   "cell_type": "markdown",
   "id": "d27fe134-27c9-4d3b-b63c-647f01b78ca1",
   "metadata": {},
   "source": [
    "### Calculate log-pdf and gradient"
   ]
  },
  {
   "cell_type": "code",
   "execution_count": 9,
   "id": "49f9112d-fb1b-4d3b-b978-2a4487da60f4",
   "metadata": {
    "tags": []
   },
   "outputs": [],
   "source": [
    "def calculate_logpdf_and_grad(point, kernel_locations, kernel_cov):\n",
    "    pdf = mvn.pdf(kernel_locations, mean=point, cov=kernel_cov)\n",
    "    weighted_grad = np.einsum('ij,kj->ki', np.linalg.inv(kernel_cov), kernel_locations - point) * pdf.reshape(-1, 1)\n",
    "    mixture_pdf = np.average(pdf)\n",
    "    return np.concatenate([[np.log(mixture_pdf)], np.average(weighted_grad, axis=0) / mixture_pdf])"
   ]
  },
  {
   "cell_type": "markdown",
   "id": "d0f1184d-2bc1-4813-8bd9-e75c2c789e1b",
   "metadata": {
    "tags": []
   },
   "source": [
    "#### Verify KDE values against `scipy`"
   ]
  },
  {
   "cell_type": "code",
   "execution_count": 28,
   "id": "6fddcd13-251d-4091-9bbf-3be20a2c9faa",
   "metadata": {
    "tags": []
   },
   "outputs": [],
   "source": [
    "rng = np.random.default_rng(12345)"
   ]
  },
  {
   "cell_type": "code",
   "execution_count": 30,
   "id": "512138fa-27b5-43cd-9e66-3ba9003c9502",
   "metadata": {
    "tags": []
   },
   "outputs": [],
   "source": [
    "mean = np.array([0., 0.])\n",
    "cov = np.array([\n",
    "    [1., 0.8],\n",
    "    [0.8, 1.],\n",
    "])"
   ]
  },
  {
   "cell_type": "code",
   "execution_count": 31,
   "id": "23d30b9c-6c0b-498d-98c2-8bd6d2a21fe0",
   "metadata": {
    "tags": []
   },
   "outputs": [],
   "source": [
    "n = 1000"
   ]
  },
  {
   "cell_type": "code",
   "execution_count": 32,
   "id": "be5d336f-11fd-41ff-9227-63aebcbcf2e9",
   "metadata": {
    "tags": []
   },
   "outputs": [],
   "source": [
    "sample = mvn.rvs(mean=mean, cov=cov, size=n, random_state=rng)"
   ]
  },
  {
   "cell_type": "code",
   "execution_count": 34,
   "id": "1eb066d4-a5d5-41ea-8b36-6faf91e9cd74",
   "metadata": {
    "tags": []
   },
   "outputs": [],
   "source": [
    "scipy_kde = gaussian_kde(sample.T, bw_method='silverman')"
   ]
  },
  {
   "cell_type": "code",
   "execution_count": 69,
   "id": "4a84d009-7206-4a86-adeb-bc72a87d1ac8",
   "metadata": {
    "tags": []
   },
   "outputs": [],
   "source": [
    "def scipy_logpdf(x):\n",
    "    return scipy_kde.logpdf(x.T).squeeze()"
   ]
  },
  {
   "cell_type": "code",
   "execution_count": 76,
   "id": "2068fcb0-ff0e-44aa-9c30-8d574c04d5ba",
   "metadata": {
    "tags": []
   },
   "outputs": [],
   "source": [
    "logpdf_and_grad = np.apply_along_axis(lambda point: calculate_logpdf_and_grad(point, sample, scipy_kde.covariance), 1, sample)"
   ]
  },
  {
   "cell_type": "code",
   "execution_count": 77,
   "id": "fac9c77c-5d44-4ebd-a59c-01f30dd32a47",
   "metadata": {
    "tags": []
   },
   "outputs": [],
   "source": [
    "baseline_logpdf = np.apply_along_axis(scipy_logpdf, 1, sample)\n",
    "baseline_grad = np.apply_along_axis(numdifftools.Gradient(scipy_logpdf), 1, sample)"
   ]
  },
  {
   "cell_type": "code",
   "execution_count": 78,
   "id": "9ae76f81-be8c-49e5-a1d1-4a65515b295f",
   "metadata": {
    "tags": []
   },
   "outputs": [],
   "source": [
    "np.testing.assert_allclose(logpdf_and_grad[:, 0], baseline_logpdf)"
   ]
  },
  {
   "cell_type": "code",
   "execution_count": 79,
   "id": "926d0063-0f7a-438f-82be-d9c954e81107",
   "metadata": {
    "tags": []
   },
   "outputs": [],
   "source": [
    "np.testing.assert_allclose(logpdf_and_grad[:, 1:], baseline_grad)"
   ]
  },
  {
   "cell_type": "markdown",
   "id": "c3a5f2af-b6ce-4a64-bea3-044bba7860f5",
   "metadata": {},
   "source": [
    "### Check if a JAX-based version provide a performance improvement"
   ]
  },
  {
   "cell_type": "code",
   "execution_count": 10,
   "id": "06e26bdd-23a3-4b2e-981d-1f5c445d8e88",
   "metadata": {},
   "outputs": [],
   "source": [
    "@jax.jit\n",
    "def calculate_logpdf_and_grad_jax(point, kernel_locations, kernel_cov):\n",
    "    pdf = jmvn.pdf(kernel_locations, mean=point, cov=kernel_cov)\n",
    "    kernel_cov_inv = jnp.linalg.inv(kernel_cov)\n",
    "    weighted_grad = ((kernel_cov_inv @ (kernel_locations - point).T) * pdf).T\n",
    "    mixture_pdf = jnp.average(pdf)\n",
    "    return jnp.concatenate([jnp.log(mixture_pdf).reshape(1), jnp.average(weighted_grad, axis=0) / mixture_pdf])"
   ]
  },
  {
   "cell_type": "code",
   "execution_count": 11,
   "id": "0d884235-f1a3-44b3-8676-6bf9e74f7075",
   "metadata": {
    "tags": []
   },
   "outputs": [
    {
     "name": "stderr",
     "output_type": "stream",
     "text": [
      "DEBUG:utils.caching:Reading from disk cache: rw_samples_0\n",
      "DEBUG:utils.caching:Reading from S3 gradient-free-mcmc-postprocessing/rw_samples_0.npy\n"
     ]
    }
   ],
   "source": [
    "i = 0\n",
    "kernel_cov = gaussian_kde(rw_samples[i].T, bw_method='silverman').covariance\n",
    "kernel_locations = rw_samples[i]\n",
    "point = rw_samples[i][0]"
   ]
  },
  {
   "cell_type": "code",
   "execution_count": 12,
   "id": "b3815e4b-a88e-46ad-8c35-61022a855e3e",
   "metadata": {
    "tags": []
   },
   "outputs": [
    {
     "name": "stdout",
     "output_type": "stream",
     "text": [
      "118 ms ± 3.68 ms per loop (mean ± std. dev. of 7 runs, 10 loops each)\n"
     ]
    }
   ],
   "source": [
    "%%timeit\n",
    "calculate_logpdf_and_grad(point, kernel_locations, kernel_cov)"
   ]
  },
  {
   "cell_type": "code",
   "execution_count": 13,
   "id": "57ca41f7-f8ae-43fc-b849-c9470424f063",
   "metadata": {
    "tags": []
   },
   "outputs": [
    {
     "name": "stdout",
     "output_type": "stream",
     "text": [
      "275 μs ± 151 μs per loop (mean ± std. dev. of 7 runs, 1 loop each)\n"
     ]
    }
   ],
   "source": [
    "%%timeit\n",
    "calculate_logpdf_and_grad_jax(jnp.array(point), jnp.array(kernel_locations), jnp.array(kernel_cov))"
   ]
  },
  {
   "cell_type": "markdown",
   "id": "21c6b19b-4ad4-4902-9252-79ef56021a53",
   "metadata": {},
   "source": [
    "### KDE approximation for the MCMC output"
   ]
  },
  {
   "cell_type": "code",
   "execution_count": null,
   "id": "223ed71b-fccb-4ba6-94eb-3bd664fd0c91",
   "metadata": {},
   "outputs": [],
   "source": [
    "chunk_size = 1000"
   ]
  },
  {
   "cell_type": "code",
   "execution_count": 81,
   "id": "16d5efa6-b84a-4c6b-bf87-eb17b1b6a3ff",
   "metadata": {
    "tags": []
   },
   "outputs": [],
   "source": [
    "kde = gaussian_kde(rw_samples[0].T, bw_method='silverman')"
   ]
  },
  {
   "cell_type": "code",
   "execution_count": 87,
   "id": "9b080b89-6a19-4967-b9e3-c43f6bbcc984",
   "metadata": {
    "tags": []
   },
   "outputs": [],
   "source": [
    "def scipy_logpdf(x):\n",
    "    return kde.logpdf(x.T).squeeze()"
   ]
  },
  {
   "cell_type": "code",
   "execution_count": 90,
   "id": "b353dffc-8f23-41a3-88cb-2dc55768afb5",
   "metadata": {
    "tags": []
   },
   "outputs": [
    {
     "name": "stdout",
     "output_type": "stream",
     "text": [
      "CPU times: user 10min 29s, sys: 3min 16s, total: 13min 46s\n",
      "Wall time: 7min 12s\n"
     ]
    }
   ],
   "source": [
    "%%time\n",
    "grad100 = np.apply_along_axis(numdifftools.Gradient(scipy_logpdf), 1, rw_samples[0][:100])"
   ]
  },
  {
   "cell_type": "code",
   "execution_count": 92,
   "id": "289c4a24-f28e-4c83-9467-2cf24230a3a5",
   "metadata": {
    "tags": []
   },
   "outputs": [
    {
     "name": "stdout",
     "output_type": "stream",
     "text": [
      "CPU times: user 5.27 s, sys: 1.85 s, total: 7.11 s\n",
      "Wall time: 3.75 s\n"
     ]
    }
   ],
   "source": [
    "%%time\n",
    "logpdf100 = np.apply_along_axis(kde.logpdf, 1, rw_samples[0][:100])"
   ]
  },
  {
   "cell_type": "code",
   "execution_count": 96,
   "id": "09169cc6-5901-4585-b4ca-2bcd7bc393c2",
   "metadata": {
    "tags": []
   },
   "outputs": [],
   "source": [
    "np.testing.assert_allclose(logpdf100.squeeze(), rw_kde_log_grad_q[0][:100, 0])"
   ]
  },
  {
   "cell_type": "code",
   "execution_count": 98,
   "id": "7f6a666f-dfbc-4f16-88a4-736c322faf0d",
   "metadata": {
    "tags": []
   },
   "outputs": [
    {
     "data": {
      "text/plain": [
       "np.int64(155)"
      ]
     },
     "execution_count": 98,
     "metadata": {},
     "output_type": "execute_result"
    }
   ],
   "source": [
    "np.argmax(np.abs(grad100 - rw_kde_log_grad_q[0][:100, 1:]))"
   ]
  },
  {
   "cell_type": "code",
   "execution_count": 99,
   "id": "8b7b9b04-20fa-4187-92d9-d4f29d62c7b1",
   "metadata": {
    "tags": []
   },
   "outputs": [
    {
     "data": {
      "text/plain": [
       "np.float64(10858.240920035441)"
      ]
     },
     "execution_count": 99,
     "metadata": {},
     "output_type": "execute_result"
    }
   ],
   "source": [
    "grad100.flatten()[155]"
   ]
  },
  {
   "cell_type": "code",
   "execution_count": 100,
   "id": "203a3f77-28c5-4cfc-965d-e877ae05c7af",
   "metadata": {
    "tags": []
   },
   "outputs": [
    {
     "data": {
      "text/plain": [
       "np.float64(2.7800323043627637e-12)"
      ]
     },
     "execution_count": 100,
     "metadata": {},
     "output_type": "execute_result"
    }
   ],
   "source": [
    "rw_kde_log_grad_q[0][:100, 1:].flatten()[155]"
   ]
  },
  {
   "cell_type": "code",
   "execution_count": 97,
   "id": "fc677796-b3d4-4750-9160-0ed3c9cccedb",
   "metadata": {
    "tags": []
   },
   "outputs": [
    {
     "ename": "AssertionError",
     "evalue": "\nNot equal to tolerance rtol=1e-07, atol=0\n\nMismatched elements: 356 / 400 (89%)\nMax absolute difference among violations: 10858.24092004\nMax relative difference among violations: 3.4427717e+20\n ACTUAL: array([[ 1.584052e+02, -1.084620e+02,  7.956389e+01,  2.050563e+01],\n       [ 1.584052e+02, -1.084620e+02,  7.956389e+01,  2.050563e+01],\n       [-5.509490e+02,  3.772758e+02, -2.767567e+02, -7.132723e+01],...\n DESIRED: array([[ 1.583927e+02, -1.084618e+02,  7.956389e+01,  2.050563e+01],\n       [ 1.583927e+02, -1.084618e+02,  7.956389e+01,  2.050563e+01],\n       [-5.509567e+02,  3.772759e+02, -2.767567e+02, -7.132723e+01],...",
     "output_type": "error",
     "traceback": [
      "\u001b[0;31m---------------------------------------------------------------------------\u001b[0m",
      "\u001b[0;31mAssertionError\u001b[0m                            Traceback (most recent call last)",
      "Cell \u001b[0;32mIn[97], line 1\u001b[0m\n\u001b[0;32m----> 1\u001b[0m \u001b[43mnp\u001b[49m\u001b[38;5;241;43m.\u001b[39;49m\u001b[43mtesting\u001b[49m\u001b[38;5;241;43m.\u001b[39;49m\u001b[43massert_allclose\u001b[49m\u001b[43m(\u001b[49m\u001b[43mgrad100\u001b[49m\u001b[43m,\u001b[49m\u001b[43m \u001b[49m\u001b[43mrw_kde_log_grad_q\u001b[49m\u001b[43m[\u001b[49m\u001b[38;5;241;43m0\u001b[39;49m\u001b[43m]\u001b[49m\u001b[43m[\u001b[49m\u001b[43m:\u001b[49m\u001b[38;5;241;43m100\u001b[39;49m\u001b[43m,\u001b[49m\u001b[43m \u001b[49m\u001b[38;5;241;43m1\u001b[39;49m\u001b[43m:\u001b[49m\u001b[43m]\u001b[49m\u001b[43m)\u001b[49m\n",
      "    \u001b[0;31m[... skipping hidden 1 frame]\u001b[0m\n",
      "File \u001b[0;32m~/anaconda3/envs/python3/lib/python3.10/contextlib.py:79\u001b[0m, in \u001b[0;36mContextDecorator.__call__.<locals>.inner\u001b[0;34m(*args, **kwds)\u001b[0m\n\u001b[1;32m     76\u001b[0m \u001b[38;5;129m@wraps\u001b[39m(func)\n\u001b[1;32m     77\u001b[0m \u001b[38;5;28;01mdef\u001b[39;00m \u001b[38;5;21minner\u001b[39m(\u001b[38;5;241m*\u001b[39margs, \u001b[38;5;241m*\u001b[39m\u001b[38;5;241m*\u001b[39mkwds):\n\u001b[1;32m     78\u001b[0m     \u001b[38;5;28;01mwith\u001b[39;00m \u001b[38;5;28mself\u001b[39m\u001b[38;5;241m.\u001b[39m_recreate_cm():\n\u001b[0;32m---> 79\u001b[0m         \u001b[38;5;28;01mreturn\u001b[39;00m \u001b[43mfunc\u001b[49m\u001b[43m(\u001b[49m\u001b[38;5;241;43m*\u001b[39;49m\u001b[43margs\u001b[49m\u001b[43m,\u001b[49m\u001b[43m \u001b[49m\u001b[38;5;241;43m*\u001b[39;49m\u001b[38;5;241;43m*\u001b[39;49m\u001b[43mkwds\u001b[49m\u001b[43m)\u001b[49m\n",
      "File \u001b[0;32m~/anaconda3/envs/python3/lib/python3.10/site-packages/numpy/testing/_private/utils.py:885\u001b[0m, in \u001b[0;36massert_array_compare\u001b[0;34m(comparison, x, y, err_msg, verbose, header, precision, equal_nan, equal_inf, strict, names)\u001b[0m\n\u001b[1;32m    880\u001b[0m         err_msg \u001b[38;5;241m+\u001b[39m\u001b[38;5;241m=\u001b[39m \u001b[38;5;124m'\u001b[39m\u001b[38;5;130;01m\\n\u001b[39;00m\u001b[38;5;124m'\u001b[39m \u001b[38;5;241m+\u001b[39m \u001b[38;5;124m'\u001b[39m\u001b[38;5;130;01m\\n\u001b[39;00m\u001b[38;5;124m'\u001b[39m\u001b[38;5;241m.\u001b[39mjoin(remarks)\n\u001b[1;32m    881\u001b[0m         msg \u001b[38;5;241m=\u001b[39m build_err_msg([ox, oy], err_msg,\n\u001b[1;32m    882\u001b[0m                             verbose\u001b[38;5;241m=\u001b[39mverbose, header\u001b[38;5;241m=\u001b[39mheader,\n\u001b[1;32m    883\u001b[0m                             names\u001b[38;5;241m=\u001b[39mnames,\n\u001b[1;32m    884\u001b[0m                             precision\u001b[38;5;241m=\u001b[39mprecision)\n\u001b[0;32m--> 885\u001b[0m         \u001b[38;5;28;01mraise\u001b[39;00m \u001b[38;5;167;01mAssertionError\u001b[39;00m(msg)\n\u001b[1;32m    886\u001b[0m \u001b[38;5;28;01mexcept\u001b[39;00m \u001b[38;5;167;01mValueError\u001b[39;00m:\n\u001b[1;32m    887\u001b[0m     \u001b[38;5;28;01mimport\u001b[39;00m \u001b[38;5;21;01mtraceback\u001b[39;00m\n",
      "\u001b[0;31mAssertionError\u001b[0m: \nNot equal to tolerance rtol=1e-07, atol=0\n\nMismatched elements: 356 / 400 (89%)\nMax absolute difference among violations: 10858.24092004\nMax relative difference among violations: 3.4427717e+20\n ACTUAL: array([[ 1.584052e+02, -1.084620e+02,  7.956389e+01,  2.050563e+01],\n       [ 1.584052e+02, -1.084620e+02,  7.956389e+01,  2.050563e+01],\n       [-5.509490e+02,  3.772758e+02, -2.767567e+02, -7.132723e+01],...\n DESIRED: array([[ 1.583927e+02, -1.084618e+02,  7.956389e+01,  2.050563e+01],\n       [ 1.583927e+02, -1.084618e+02,  7.956389e+01,  2.050563e+01],\n       [-5.509567e+02,  3.772759e+02, -2.767567e+02, -7.132723e+01],..."
     ]
    }
   ],
   "source": [
    "np.testing.assert_allclose(grad100, rw_kde_log_grad_q[0][:100, 1:])"
   ]
  },
  {
   "cell_type": "code",
   "execution_count": 14,
   "id": "4bf082e2-f0ca-49f3-9f6d-3607b5271367",
   "metadata": {},
   "outputs": [],
   "source": [
    "@cached(batch_size=len(lotka_volterra.theta_inits))\n",
    "def rw_kde_log_grad_q(i: int) -> np.ndarray:\n",
    "    kernel_cov = gaussian_kde(rw_samples[i].T, bw_method='silverman').covariance\n",
    "    def evaluate_for_row(row):\n",
    "        logpdf, grad_logpdf = calculate_logpdf_and_grad(row, rw_samples[i], kernel_cov)\n",
    "        return np.concatenate([[logpdf], grad_logpdf])\n",
    "    return apply_along_axis_parallel(evaluate_for_row, 1, rw_samples[i], chunk_size, map_parallel)"
   ]
  },
  {
   "cell_type": "code",
   "execution_count": 15,
   "id": "54842cfc-425e-47c3-9831-13518a798672",
   "metadata": {
    "tags": []
   },
   "outputs": [],
   "source": [
    "@cached(batch_size=len(lotka_volterra.theta_inits))\n",
    "def rw_kde_log_grad_q_jax(i: int) -> np.ndarray:\n",
    "    points = jnp.array(rw_samples[i])\n",
    "    kernel_cov = jgaussian_kde(points.T, bw_method='silverman').covariance\n",
    "    def evaluate_for_row(point):\n",
    "        return np.array(calculate_logpdf_and_grad_jax(jnp.array(point), points, kernel_cov))\n",
    "    return apply_along_axis_parallel(evaluate_for_row, 1, rw_samples[i], chunk_size, map_parallel)"
   ]
  },
  {
   "cell_type": "code",
   "execution_count": 17,
   "id": "4dffa6a2-60bb-4028-87f0-0bc40fd4652c",
   "metadata": {},
   "outputs": [
    {
     "name": "stderr",
     "output_type": "stream",
     "text": [
      "DEBUG:utils.caching:Reading from disk cache: rw_kde_log_grad_q_0\n",
      "DEBUG:utils.caching:Reading from S3 gradient-free-mcmc-postprocessing/rw_kde_log_grad_q_0.npy\n",
      "DEBUG:utils.caching:Reading from disk cache: rw_kde_log_grad_q_1\n",
      "DEBUG:utils.caching:Reading from S3 gradient-free-mcmc-postprocessing/rw_kde_log_grad_q_1.npy\n",
      "DEBUG:utils.caching:Reading from disk cache: rw_kde_log_grad_q_2\n",
      "DEBUG:utils.caching:Reading from S3 gradient-free-mcmc-postprocessing/rw_kde_log_grad_q_2.npy\n",
      "DEBUG:utils.caching:Reading from disk cache: rw_kde_log_grad_q_3\n",
      "DEBUG:utils.caching:Reading from S3 gradient-free-mcmc-postprocessing/rw_kde_log_grad_q_3.npy\n",
      "DEBUG:utils.caching:Reading from disk cache: rw_kde_log_grad_q_4\n",
      "DEBUG:utils.caching:Reading from S3 gradient-free-mcmc-postprocessing/rw_kde_log_grad_q_4.npy\n"
     ]
    },
    {
     "data": {
      "text/plain": [
       "[np.float64(1.3631493522886603e-12),\n",
       " np.float64(1.7654255704939414e-12),\n",
       " np.float64(4.5276080328998e-11),\n",
       " np.float64(8.261661579816863e-11),\n",
       " np.float64(1.0059566778282408e-11)]"
      ]
     },
     "execution_count": 17,
     "metadata": {},
     "output_type": "execute_result"
    }
   ],
   "source": [
    "[np.max(np.abs(rw_kde_log_grad_q_jax(i) - rw_kde_log_grad_q(i)) / np.median(np.abs(rw_kde_log_grad_q(i)), axis=0)) for i in range(lotka_volterra.n_chains)]"
   ]
  },
  {
   "cell_type": "code",
   "execution_count": 27,
   "id": "74538834-e3e4-403a-b9d5-3c785bcf690c",
   "metadata": {
    "tags": []
   },
   "outputs": [
    {
     "data": {
      "text/plain": [
       "np.float64(10.121746406743608)"
      ]
     },
     "execution_count": 27,
     "metadata": {},
     "output_type": "execute_result"
    }
   ],
   "source": [
    "fig, ax = plt.subplots()\n",
    "ax.s"
   ]
  },
  {
   "cell_type": "markdown",
   "id": "108d41f7-842e-4051-91b1-9749d8f22e54",
   "metadata": {},
   "source": [
    "### Apply gradient-free thinning"
   ]
  },
  {
   "cell_type": "code",
   "execution_count": 23,
   "id": "9133d0bc-08a1-4249-a8ae-3c125976e3ee",
   "metadata": {
    "tags": []
   },
   "outputs": [],
   "source": [
    "n_points = 100"
   ]
  },
  {
   "cell_type": "code",
   "execution_count": 24,
   "id": "eca8e2e9-8f9e-4e32-85c1-08ef259c3e97",
   "metadata": {
    "tags": []
   },
   "outputs": [
    {
     "name": "stderr",
     "output_type": "stream",
     "text": [
      "/home/ec2-user/anaconda3/envs/python3/lib/python3.10/site-packages/stein_thinning/thinning.py:127: UserWarning: log_q differs from log_p by more than 10 - consider using q that matches target better\n",
      "  warnings.warn(f'log_q differs from log_p by more than {WEIGHT_SCALE_THRESHOLD} - consider using q that matches target better')\n",
      "/home/ec2-user/anaconda3/envs/python3/lib/python3.10/site-packages/stein_thinning/thinning.py:137: RuntimeWarning: overflow encountered in exp\n",
      "  np.exp(log_q_m_p[ind1] + log_q_m_p[ind2]) * vfk0(sample[ind1], sample[ind2], gradient_q[ind1], gradient_q[ind2])\n",
      "/home/ec2-user/anaconda3/envs/python3/lib/python3.10/site-packages/stein_thinning/thinning.py:45: RuntimeWarning: invalid value encountered in add\n",
      "  k0 += 2 * integrand(slice(None), [idx[i - 1]])\n"
     ]
    },
    {
     "data": {
      "text/plain": [
       "array([189892,      2,      0,      0,      0,      0,      0,      0,\n",
       "            0,      0,      0,      0,      0,      0,      0,      0,\n",
       "            0,      0,      0,      0,      0,      0,      0,      0,\n",
       "            0,      0,      0,      0,      0,      0,      0,      0,\n",
       "            0,      0,      0,      0,      0,      0,      0,      0,\n",
       "            0,      0,      0,      0,      0,      0,      0,      0,\n",
       "            0,      0,      0,      0,      0,      0,      0,      0,\n",
       "            0,      0,      0,      0,      0,      0,      0,      0,\n",
       "            0,      0,      0,      0,      0,      0,      0,      0,\n",
       "            0,      0,      0,      0,      0,      0,      0,      0,\n",
       "            0,      0,      0,      0,      0,      0,      0,      0,\n",
       "            0,      0,      0,      0,      0,      0,      0,      0,\n",
       "            0,      0,      0,      0], dtype=uint32)"
      ]
     },
     "execution_count": 24,
     "metadata": {},
     "output_type": "execute_result"
    }
   ],
   "source": [
    "idx = thin_gf(\n",
    "    rw_samples[0],\n",
    "    rw_log_p[0],\n",
    "    rw_kde_log_grad_q[0][:, 0],\n",
    "    rw_kde_log_grad_q[0][:, 1:],\n",
    "    n_points=n_points,\n",
    "    preconditioner='med',\n",
    ")\n",
    "idx"
   ]
  },
  {
   "cell_type": "markdown",
   "id": "b9ec6c67-8624-4524-9ae3-bdcc75425b5f",
   "metadata": {},
   "source": [
    "Notebook execution took:"
   ]
  },
  {
   "cell_type": "code",
   "execution_count": 18,
   "id": "d8d9946e-4ac8-4a91-a361-40a5d8429cb0",
   "metadata": {
    "tags": []
   },
   "outputs": [
    {
     "data": {
      "text/plain": [
       "31.76407742500305"
      ]
     },
     "execution_count": 18,
     "metadata": {},
     "output_type": "execute_result"
    }
   ],
   "source": [
    "time.time() - start_time"
   ]
  }
 ],
 "metadata": {
  "kernelspec": {
   "display_name": "conda_python3",
   "language": "python",
   "name": "conda_python3"
  },
  "language_info": {
   "codemirror_mode": {
    "name": "ipython",
    "version": 3
   },
   "file_extension": ".py",
   "mimetype": "text/x-python",
   "name": "python",
   "nbconvert_exporter": "python",
   "pygments_lexer": "ipython3",
   "version": "3.10.16"
  }
 },
 "nbformat": 4,
 "nbformat_minor": 5
}
