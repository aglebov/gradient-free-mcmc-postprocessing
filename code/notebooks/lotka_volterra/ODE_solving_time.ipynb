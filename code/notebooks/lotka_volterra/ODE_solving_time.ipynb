{
 "cells": [
  {
   "cell_type": "markdown",
   "id": "64b03964-dbd3-48da-89aa-6e67699d36eb",
   "metadata": {},
   "source": [
    "This notebook compares the time it takes to solve the system of ODEs for the Lotka-Volterra problem with and without the sensitivity equations included.\n",
    "\n",
    "The original system includes 2 ODEs, the sensitivity model included 8 additional equations."
   ]
  },
  {
   "cell_type": "code",
   "execution_count": 1,
   "id": "59feed49-0261-48da-aa8c-0ea735387ba3",
   "metadata": {
    "tags": []
   },
   "outputs": [],
   "source": [
    "import time\n",
    "start_time = time.time()"
   ]
  },
  {
   "cell_type": "code",
   "execution_count": 2,
   "id": "4fbeb55f-4856-4967-b506-425536b3d1ff",
   "metadata": {
    "tags": []
   },
   "outputs": [],
   "source": [
    "import logging\n",
    "\n",
    "import numpy as np\n",
    "\n",
    "from scipy.integrate import solve_ivp\n",
    "\n",
    "import lotka_volterra\n",
    "import utils.caching\n",
    "from utils.caching import make_cached_s3\n",
    "from utils.paths import S3_BUCKET_NAME"
   ]
  },
  {
   "cell_type": "code",
   "execution_count": 3,
   "id": "309aef8f-cef3-492a-8d55-fa8f707f3369",
   "metadata": {
    "tags": []
   },
   "outputs": [],
   "source": [
    "logging.basicConfig()\n",
    "logging.getLogger(utils.caching.__name__).setLevel(logging.DEBUG)"
   ]
  },
  {
   "cell_type": "markdown",
   "id": "7348cd7d-cb2f-4e22-9d21-f2fccc743fa6",
   "metadata": {},
   "source": [
    "Directory where results of expensive calculations will be stored:"
   ]
  },
  {
   "cell_type": "code",
   "execution_count": 4,
   "id": "3f0aeda0-2356-4b49-bb45-1ce8cf866f8d",
   "metadata": {
    "tags": []
   },
   "outputs": [],
   "source": [
    "cached = make_cached_s3(S3_BUCKET_NAME)"
   ]
  },
  {
   "cell_type": "markdown",
   "id": "0b398a49-120f-4f5b-a0ac-f440949460cf",
   "metadata": {},
   "source": [
    "Read-only input datasets:"
   ]
  },
  {
   "cell_type": "code",
   "execution_count": 5,
   "id": "de9e10f8-f92d-462f-9b71-5da1f5f5e0d4",
   "metadata": {},
   "outputs": [],
   "source": [
    "@cached(item_type=np.ndarray, batch_size=lotka_volterra.n_chains, read_only=True)\n",
    "def rw_samples() -> list[np.ndarray]:\n",
    "    raise NotImplementedError"
   ]
  },
  {
   "cell_type": "code",
   "execution_count": 6,
   "id": "5af81e6d-3f0c-485f-8c46-f9985d97503d",
   "metadata": {},
   "outputs": [],
   "source": [
    "def solve_without_sensitivity(theta):\n",
    "    return solve_ivp(lotka_volterra.lotka_volterra, lotka_volterra.t_span, lotka_volterra.u_init, args=(theta,), dense_output=True)"
   ]
  },
  {
   "cell_type": "code",
   "execution_count": 7,
   "id": "33c18754-4621-4652-a51b-37c8c895ec2e",
   "metadata": {},
   "outputs": [],
   "source": [
    "uw_init = np.concatenate([np.array(lotka_volterra.u_init), np.zeros(lotka_volterra.d * lotka_volterra.q)])\n",
    "\n",
    "def solve_with_sensitivity(theta):\n",
    "    return solve_ivp(lotka_volterra.lotka_volterra_sensitivity, lotka_volterra.t_span, uw_init, args=(theta,), dense_output=True)"
   ]
  },
  {
   "cell_type": "markdown",
   "id": "9c194781-a9bc-42aa-aca9-68cc6d45bf81",
   "metadata": {},
   "source": [
    "Make sure that the sample is loaded from the cache:"
   ]
  },
  {
   "cell_type": "code",
   "execution_count": 8,
   "id": "7032b854-b47f-4cbb-a8e2-0c2f02ae95bf",
   "metadata": {},
   "outputs": [
    {
     "name": "stderr",
     "output_type": "stream",
     "text": [
      "DEBUG:utils.caching:Reading from disk cache: rw_samples_0\n",
      "DEBUG:utils.caching:Reading from S3 gradient-free-mcmc-postprocessing/rw_samples_0.npy\n"
     ]
    }
   ],
   "source": [
    "samples = rw_samples[0]"
   ]
  },
  {
   "cell_type": "code",
   "execution_count": 9,
   "id": "ccfd8354-bf1f-4ad2-992f-350a07e1d62b",
   "metadata": {},
   "outputs": [],
   "source": [
    "n = 10_000"
   ]
  },
  {
   "cell_type": "markdown",
   "id": "2fc976a0-3284-4cff-923a-dc403757cda2",
   "metadata": {},
   "source": [
    "Record the calculation time for the ODE without the sensitivity equations:"
   ]
  },
  {
   "cell_type": "code",
   "execution_count": 10,
   "id": "442bc5e9-a932-4045-8e13-6f548e280dc0",
   "metadata": {},
   "outputs": [
    {
     "name": "stdout",
     "output_type": "stream",
     "text": [
      "CPU times: user 27.9 s, sys: 120 ms, total: 28 s\n",
      "Wall time: 28 s\n"
     ]
    }
   ],
   "source": [
    "%%time\n",
    "np.apply_along_axis(solve_without_sensitivity, 1, samples[:n]);"
   ]
  },
  {
   "cell_type": "markdown",
   "id": "5ce868ec-9b07-46cc-b3b2-8131ceb1e4a4",
   "metadata": {},
   "source": [
    "Record the calculation time for the ODE with the sensitivity equations:"
   ]
  },
  {
   "cell_type": "code",
   "execution_count": 11,
   "id": "ccfd61dd-5eac-4c65-82bd-a3c2d07ed699",
   "metadata": {},
   "outputs": [
    {
     "name": "stdout",
     "output_type": "stream",
     "text": [
      "CPU times: user 42.1 s, sys: 120 ms, total: 42.2 s\n",
      "Wall time: 42.2 s\n"
     ]
    }
   ],
   "source": [
    "%%time\n",
    "np.apply_along_axis(solve_with_sensitivity, 1, samples[:n]);"
   ]
  },
  {
   "cell_type": "markdown",
   "id": "b9ec6c67-8624-4524-9ae3-bdcc75425b5f",
   "metadata": {},
   "source": [
    "Notebook execution took:"
   ]
  },
  {
   "cell_type": "code",
   "execution_count": 12,
   "id": "d8d9946e-4ac8-4a91-a361-40a5d8429cb0",
   "metadata": {
    "tags": []
   },
   "outputs": [
    {
     "data": {
      "text/plain": [
       "74.77855610847473"
      ]
     },
     "execution_count": 12,
     "metadata": {},
     "output_type": "execute_result"
    }
   ],
   "source": [
    "time.time() - start_time"
   ]
  }
 ],
 "metadata": {
  "kernelspec": {
   "display_name": "Python 3 (ipykernel)",
   "language": "python",
   "name": "python3"
  },
  "language_info": {
   "codemirror_mode": {
    "name": "ipython",
    "version": 3
   },
   "file_extension": ".py",
   "mimetype": "text/x-python",
   "name": "python",
   "nbconvert_exporter": "python",
   "pygments_lexer": "ipython3",
   "version": "3.12.4"
  }
 },
 "nbformat": 4,
 "nbformat_minor": 5
}
