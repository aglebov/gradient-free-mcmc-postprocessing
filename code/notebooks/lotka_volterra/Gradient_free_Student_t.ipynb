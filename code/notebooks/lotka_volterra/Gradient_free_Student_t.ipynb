{
 "cells": [
  {
   "cell_type": "code",
   "execution_count": 1,
   "id": "59feed49-0261-48da-aa8c-0ea735387ba3",
   "metadata": {},
   "outputs": [],
   "source": [
    "import time\n",
    "start_time = time.time()"
   ]
  },
  {
   "cell_type": "code",
   "execution_count": 2,
   "id": "4fbeb55f-4856-4967-b506-425536b3d1ff",
   "metadata": {},
   "outputs": [],
   "source": [
    "import logging\n",
    "\n",
    "import numpy as np\n",
    "import matplotlib.pyplot as plt\n",
    "\n",
    "from scipy.optimize import minimize\n",
    "import scipy.stats as stats\n",
    "\n",
    "from dask.distributed import Client\n",
    "\n",
    "import dcor\n",
    "\n",
    "from stein_thinning.thinning import thin_gf\n",
    "\n",
    "import lotka_volterra\n",
    "import utils.caching\n",
    "from utils.caching import cached, cached_batch, subscriptable\n",
    "from utils.parallel import get_map_parallel, parallelise_for_unique\n",
    "from utils.paths import FIGURES_PATH, GENERATED_DATA_PATH\n",
    "from utils.plotting import highlight_points"
   ]
  },
  {
   "cell_type": "code",
   "execution_count": 3,
   "id": "309aef8f-cef3-492a-8d55-fa8f707f3369",
   "metadata": {},
   "outputs": [],
   "source": [
    "logging.basicConfig()\n",
    "logging.getLogger(utils.caching.__name__).setLevel(logging.DEBUG)"
   ]
  },
  {
   "cell_type": "code",
   "execution_count": 4,
   "id": "3b1a439d-8049-44f8-9026-f2a1567d239d",
   "metadata": {},
   "outputs": [],
   "source": [
    "import nest_asyncio\n",
    "nest_asyncio.apply()"
   ]
  },
  {
   "cell_type": "code",
   "execution_count": 5,
   "id": "41ebd969-9f01-4e93-9d2a-a959529e9d49",
   "metadata": {},
   "outputs": [],
   "source": [
    "figures_path = FIGURES_PATH"
   ]
  },
  {
   "cell_type": "markdown",
   "id": "7348cd7d-cb2f-4e22-9d21-f2fccc743fa6",
   "metadata": {},
   "source": [
    "Directory where results of expensive calculations will be stored:"
   ]
  },
  {
   "cell_type": "code",
   "execution_count": 6,
   "id": "3f0aeda0-2356-4b49-bb45-1ce8cf866f8d",
   "metadata": {},
   "outputs": [],
   "source": [
    "utils.caching.cache_dir = GENERATED_DATA_PATH"
   ]
  },
  {
   "cell_type": "code",
   "execution_count": 7,
   "id": "f5e773bc-3099-477a-b6fb-e535b13e3222",
   "metadata": {},
   "outputs": [],
   "source": [
    "recalculate = False  # True => perform expensive calculations, False => use stored results\n",
    "save_data = recalculate"
   ]
  },
  {
   "cell_type": "markdown",
   "id": "5e4c8696-5fe5-40eb-9445-6b1a48ee8e96",
   "metadata": {},
   "source": [
    "We create a Dask client in order to parallelise calculations where possible:"
   ]
  },
  {
   "cell_type": "code",
   "execution_count": 8,
   "id": "474b2853-740d-405b-b04e-0d8d903ecfec",
   "metadata": {},
   "outputs": [
    {
     "name": "stderr",
     "output_type": "stream",
     "text": [
      "/home/artem/Study/KCL/ST50 Project/code/.venv/lib/python3.12/site-packages/distributed/node.py:182: UserWarning: Port 8787 is already in use.\n",
      "Perhaps you already have a cluster running?\n",
      "Hosting the HTTP server on port 42047 instead\n",
      "  warnings.warn(\n"
     ]
    },
    {
     "data": {
      "text/html": [
       "<div>\n",
       "    <div style=\"width: 24px; height: 24px; background-color: #e1e1e1; border: 3px solid #9D9D9D; border-radius: 5px; position: absolute;\"> </div>\n",
       "    <div style=\"margin-left: 48px;\">\n",
       "        <h3 style=\"margin-bottom: 0px;\">Client</h3>\n",
       "        <p style=\"color: #9D9D9D; margin-bottom: 0px;\">Client-02fd7171-6a44-11ef-996e-94de80e86035</p>\n",
       "        <table style=\"width: 100%; text-align: left;\">\n",
       "\n",
       "        <tr>\n",
       "        \n",
       "            <td style=\"text-align: left;\"><strong>Connection method:</strong> Cluster object</td>\n",
       "            <td style=\"text-align: left;\"><strong>Cluster type:</strong> distributed.LocalCluster</td>\n",
       "        \n",
       "        </tr>\n",
       "\n",
       "        \n",
       "            <tr>\n",
       "                <td style=\"text-align: left;\">\n",
       "                    <strong>Dashboard: </strong> <a href=\"http://127.0.0.1:42047/status\" target=\"_blank\">http://127.0.0.1:42047/status</a>\n",
       "                </td>\n",
       "                <td style=\"text-align: left;\"></td>\n",
       "            </tr>\n",
       "        \n",
       "\n",
       "        </table>\n",
       "\n",
       "        \n",
       "\n",
       "        \n",
       "            <details>\n",
       "            <summary style=\"margin-bottom: 20px;\"><h3 style=\"display: inline;\">Cluster Info</h3></summary>\n",
       "            <div class=\"jp-RenderedHTMLCommon jp-RenderedHTML jp-mod-trusted jp-OutputArea-output\">\n",
       "    <div style=\"width: 24px; height: 24px; background-color: #e1e1e1; border: 3px solid #9D9D9D; border-radius: 5px; position: absolute;\">\n",
       "    </div>\n",
       "    <div style=\"margin-left: 48px;\">\n",
       "        <h3 style=\"margin-bottom: 0px; margin-top: 0px;\">LocalCluster</h3>\n",
       "        <p style=\"color: #9D9D9D; margin-bottom: 0px;\">eb02757a</p>\n",
       "        <table style=\"width: 100%; text-align: left;\">\n",
       "            <tr>\n",
       "                <td style=\"text-align: left;\">\n",
       "                    <strong>Dashboard:</strong> <a href=\"http://127.0.0.1:42047/status\" target=\"_blank\">http://127.0.0.1:42047/status</a>\n",
       "                </td>\n",
       "                <td style=\"text-align: left;\">\n",
       "                    <strong>Workers:</strong> 4\n",
       "                </td>\n",
       "            </tr>\n",
       "            <tr>\n",
       "                <td style=\"text-align: left;\">\n",
       "                    <strong>Total threads:</strong> 16\n",
       "                </td>\n",
       "                <td style=\"text-align: left;\">\n",
       "                    <strong>Total memory:</strong> 7.45 GiB\n",
       "                </td>\n",
       "            </tr>\n",
       "            \n",
       "            <tr>\n",
       "    <td style=\"text-align: left;\"><strong>Status:</strong> running</td>\n",
       "    <td style=\"text-align: left;\"><strong>Using processes:</strong> True</td>\n",
       "</tr>\n",
       "\n",
       "            \n",
       "        </table>\n",
       "\n",
       "        <details>\n",
       "            <summary style=\"margin-bottom: 20px;\">\n",
       "                <h3 style=\"display: inline;\">Scheduler Info</h3>\n",
       "            </summary>\n",
       "\n",
       "            <div style=\"\">\n",
       "    <div>\n",
       "        <div style=\"width: 24px; height: 24px; background-color: #FFF7E5; border: 3px solid #FF6132; border-radius: 5px; position: absolute;\"> </div>\n",
       "        <div style=\"margin-left: 48px;\">\n",
       "            <h3 style=\"margin-bottom: 0px;\">Scheduler</h3>\n",
       "            <p style=\"color: #9D9D9D; margin-bottom: 0px;\">Scheduler-39c70ae4-4a74-4162-a6a7-9e725ab9ba0f</p>\n",
       "            <table style=\"width: 100%; text-align: left;\">\n",
       "                <tr>\n",
       "                    <td style=\"text-align: left;\">\n",
       "                        <strong>Comm:</strong> tcp://127.0.0.1:44047\n",
       "                    </td>\n",
       "                    <td style=\"text-align: left;\">\n",
       "                        <strong>Workers:</strong> 4\n",
       "                    </td>\n",
       "                </tr>\n",
       "                <tr>\n",
       "                    <td style=\"text-align: left;\">\n",
       "                        <strong>Dashboard:</strong> <a href=\"http://127.0.0.1:42047/status\" target=\"_blank\">http://127.0.0.1:42047/status</a>\n",
       "                    </td>\n",
       "                    <td style=\"text-align: left;\">\n",
       "                        <strong>Total threads:</strong> 16\n",
       "                    </td>\n",
       "                </tr>\n",
       "                <tr>\n",
       "                    <td style=\"text-align: left;\">\n",
       "                        <strong>Started:</strong> Just now\n",
       "                    </td>\n",
       "                    <td style=\"text-align: left;\">\n",
       "                        <strong>Total memory:</strong> 7.45 GiB\n",
       "                    </td>\n",
       "                </tr>\n",
       "            </table>\n",
       "        </div>\n",
       "    </div>\n",
       "\n",
       "    <details style=\"margin-left: 48px;\">\n",
       "        <summary style=\"margin-bottom: 20px;\">\n",
       "            <h3 style=\"display: inline;\">Workers</h3>\n",
       "        </summary>\n",
       "\n",
       "        \n",
       "        <div style=\"margin-bottom: 20px;\">\n",
       "            <div style=\"width: 24px; height: 24px; background-color: #DBF5FF; border: 3px solid #4CC9FF; border-radius: 5px; position: absolute;\"> </div>\n",
       "            <div style=\"margin-left: 48px;\">\n",
       "            <details>\n",
       "                <summary>\n",
       "                    <h4 style=\"margin-bottom: 0px; display: inline;\">Worker: 0</h4>\n",
       "                </summary>\n",
       "                <table style=\"width: 100%; text-align: left;\">\n",
       "                    <tr>\n",
       "                        <td style=\"text-align: left;\">\n",
       "                            <strong>Comm: </strong> tcp://127.0.0.1:37577\n",
       "                        </td>\n",
       "                        <td style=\"text-align: left;\">\n",
       "                            <strong>Total threads: </strong> 4\n",
       "                        </td>\n",
       "                    </tr>\n",
       "                    <tr>\n",
       "                        <td style=\"text-align: left;\">\n",
       "                            <strong>Dashboard: </strong> <a href=\"http://127.0.0.1:44887/status\" target=\"_blank\">http://127.0.0.1:44887/status</a>\n",
       "                        </td>\n",
       "                        <td style=\"text-align: left;\">\n",
       "                            <strong>Memory: </strong> 1.86 GiB\n",
       "                        </td>\n",
       "                    </tr>\n",
       "                    <tr>\n",
       "                        <td style=\"text-align: left;\">\n",
       "                            <strong>Nanny: </strong> tcp://127.0.0.1:45925\n",
       "                        </td>\n",
       "                        <td style=\"text-align: left;\"></td>\n",
       "                    </tr>\n",
       "                    <tr>\n",
       "                        <td colspan=\"2\" style=\"text-align: left;\">\n",
       "                            <strong>Local directory: </strong> /tmp/dask-scratch-space/worker-sv9yaojl\n",
       "                        </td>\n",
       "                    </tr>\n",
       "\n",
       "                    \n",
       "\n",
       "                    \n",
       "\n",
       "                </table>\n",
       "            </details>\n",
       "            </div>\n",
       "        </div>\n",
       "        \n",
       "        <div style=\"margin-bottom: 20px;\">\n",
       "            <div style=\"width: 24px; height: 24px; background-color: #DBF5FF; border: 3px solid #4CC9FF; border-radius: 5px; position: absolute;\"> </div>\n",
       "            <div style=\"margin-left: 48px;\">\n",
       "            <details>\n",
       "                <summary>\n",
       "                    <h4 style=\"margin-bottom: 0px; display: inline;\">Worker: 1</h4>\n",
       "                </summary>\n",
       "                <table style=\"width: 100%; text-align: left;\">\n",
       "                    <tr>\n",
       "                        <td style=\"text-align: left;\">\n",
       "                            <strong>Comm: </strong> tcp://127.0.0.1:35659\n",
       "                        </td>\n",
       "                        <td style=\"text-align: left;\">\n",
       "                            <strong>Total threads: </strong> 4\n",
       "                        </td>\n",
       "                    </tr>\n",
       "                    <tr>\n",
       "                        <td style=\"text-align: left;\">\n",
       "                            <strong>Dashboard: </strong> <a href=\"http://127.0.0.1:45247/status\" target=\"_blank\">http://127.0.0.1:45247/status</a>\n",
       "                        </td>\n",
       "                        <td style=\"text-align: left;\">\n",
       "                            <strong>Memory: </strong> 1.86 GiB\n",
       "                        </td>\n",
       "                    </tr>\n",
       "                    <tr>\n",
       "                        <td style=\"text-align: left;\">\n",
       "                            <strong>Nanny: </strong> tcp://127.0.0.1:39325\n",
       "                        </td>\n",
       "                        <td style=\"text-align: left;\"></td>\n",
       "                    </tr>\n",
       "                    <tr>\n",
       "                        <td colspan=\"2\" style=\"text-align: left;\">\n",
       "                            <strong>Local directory: </strong> /tmp/dask-scratch-space/worker-rn4jct0f\n",
       "                        </td>\n",
       "                    </tr>\n",
       "\n",
       "                    \n",
       "\n",
       "                    \n",
       "\n",
       "                </table>\n",
       "            </details>\n",
       "            </div>\n",
       "        </div>\n",
       "        \n",
       "        <div style=\"margin-bottom: 20px;\">\n",
       "            <div style=\"width: 24px; height: 24px; background-color: #DBF5FF; border: 3px solid #4CC9FF; border-radius: 5px; position: absolute;\"> </div>\n",
       "            <div style=\"margin-left: 48px;\">\n",
       "            <details>\n",
       "                <summary>\n",
       "                    <h4 style=\"margin-bottom: 0px; display: inline;\">Worker: 2</h4>\n",
       "                </summary>\n",
       "                <table style=\"width: 100%; text-align: left;\">\n",
       "                    <tr>\n",
       "                        <td style=\"text-align: left;\">\n",
       "                            <strong>Comm: </strong> tcp://127.0.0.1:43905\n",
       "                        </td>\n",
       "                        <td style=\"text-align: left;\">\n",
       "                            <strong>Total threads: </strong> 4\n",
       "                        </td>\n",
       "                    </tr>\n",
       "                    <tr>\n",
       "                        <td style=\"text-align: left;\">\n",
       "                            <strong>Dashboard: </strong> <a href=\"http://127.0.0.1:44287/status\" target=\"_blank\">http://127.0.0.1:44287/status</a>\n",
       "                        </td>\n",
       "                        <td style=\"text-align: left;\">\n",
       "                            <strong>Memory: </strong> 1.86 GiB\n",
       "                        </td>\n",
       "                    </tr>\n",
       "                    <tr>\n",
       "                        <td style=\"text-align: left;\">\n",
       "                            <strong>Nanny: </strong> tcp://127.0.0.1:45487\n",
       "                        </td>\n",
       "                        <td style=\"text-align: left;\"></td>\n",
       "                    </tr>\n",
       "                    <tr>\n",
       "                        <td colspan=\"2\" style=\"text-align: left;\">\n",
       "                            <strong>Local directory: </strong> /tmp/dask-scratch-space/worker-3jko60zo\n",
       "                        </td>\n",
       "                    </tr>\n",
       "\n",
       "                    \n",
       "\n",
       "                    \n",
       "\n",
       "                </table>\n",
       "            </details>\n",
       "            </div>\n",
       "        </div>\n",
       "        \n",
       "        <div style=\"margin-bottom: 20px;\">\n",
       "            <div style=\"width: 24px; height: 24px; background-color: #DBF5FF; border: 3px solid #4CC9FF; border-radius: 5px; position: absolute;\"> </div>\n",
       "            <div style=\"margin-left: 48px;\">\n",
       "            <details>\n",
       "                <summary>\n",
       "                    <h4 style=\"margin-bottom: 0px; display: inline;\">Worker: 3</h4>\n",
       "                </summary>\n",
       "                <table style=\"width: 100%; text-align: left;\">\n",
       "                    <tr>\n",
       "                        <td style=\"text-align: left;\">\n",
       "                            <strong>Comm: </strong> tcp://127.0.0.1:37317\n",
       "                        </td>\n",
       "                        <td style=\"text-align: left;\">\n",
       "                            <strong>Total threads: </strong> 4\n",
       "                        </td>\n",
       "                    </tr>\n",
       "                    <tr>\n",
       "                        <td style=\"text-align: left;\">\n",
       "                            <strong>Dashboard: </strong> <a href=\"http://127.0.0.1:35839/status\" target=\"_blank\">http://127.0.0.1:35839/status</a>\n",
       "                        </td>\n",
       "                        <td style=\"text-align: left;\">\n",
       "                            <strong>Memory: </strong> 1.86 GiB\n",
       "                        </td>\n",
       "                    </tr>\n",
       "                    <tr>\n",
       "                        <td style=\"text-align: left;\">\n",
       "                            <strong>Nanny: </strong> tcp://127.0.0.1:44461\n",
       "                        </td>\n",
       "                        <td style=\"text-align: left;\"></td>\n",
       "                    </tr>\n",
       "                    <tr>\n",
       "                        <td colspan=\"2\" style=\"text-align: left;\">\n",
       "                            <strong>Local directory: </strong> /tmp/dask-scratch-space/worker-lltdsfq6\n",
       "                        </td>\n",
       "                    </tr>\n",
       "\n",
       "                    \n",
       "\n",
       "                    \n",
       "\n",
       "                </table>\n",
       "            </details>\n",
       "            </div>\n",
       "        </div>\n",
       "        \n",
       "\n",
       "    </details>\n",
       "</div>\n",
       "\n",
       "        </details>\n",
       "    </div>\n",
       "</div>\n",
       "            </details>\n",
       "        \n",
       "\n",
       "    </div>\n",
       "</div>"
      ],
      "text/plain": [
       "<Client: 'tcp://127.0.0.1:44047' processes=4 threads=16, memory=7.45 GiB>"
      ]
     },
     "execution_count": 8,
     "metadata": {},
     "output_type": "execute_result"
    },
    {
     "name": "stderr",
     "output_type": "stream",
     "text": [
      "/home/artem/Study/KCL/ST50 Project/code/.venv/lib/python3.12/site-packages/distributed/system_monitor.py:201: UserWarning: timed out waiting on channel\n",
      "  self._gilknocker.reset_contention_metric()\n"
     ]
    }
   ],
   "source": [
    "client = Client(processes=True, threads_per_worker=4, n_workers=4, memory_limit='2GB')\n",
    "client"
   ]
  },
  {
   "cell_type": "code",
   "execution_count": 9,
   "id": "e68f9855-b10a-408c-ba94-740e184b48cb",
   "metadata": {},
   "outputs": [],
   "source": [
    "map_parallel = get_map_parallel(client)"
   ]
  },
  {
   "cell_type": "markdown",
   "id": "2d2a0fda-d30d-4c0c-95fe-561aec420943",
   "metadata": {},
   "source": [
    "Input parameters"
   ]
  },
  {
   "cell_type": "code",
   "execution_count": 10,
   "id": "08978790-1e39-4a60-8afc-bc1f506ea7f2",
   "metadata": {},
   "outputs": [],
   "source": [
    "n_chains = len(lotka_volterra.theta_inits)"
   ]
  },
  {
   "cell_type": "code",
   "execution_count": 11,
   "id": "5503c7e7-bd66-4c25-9abb-3795fa65aa79",
   "metadata": {},
   "outputs": [],
   "source": [
    "titles = [f'$\\\\theta^{{(0)}} = ({theta[0]}, {theta[1]}, {theta[2]}, {theta[3]})$' for theta in lotka_volterra.theta_inits]\n",
    "var_labels = [f'$\\\\log \\\\theta_{i + 1}$' for i in range(lotka_volterra.d)]"
   ]
  },
  {
   "cell_type": "markdown",
   "id": "35a14304-e5dd-4c2a-a3eb-f9239914258f",
   "metadata": {},
   "source": [
    "Read-only input datasets:"
   ]
  },
  {
   "cell_type": "code",
   "execution_count": 12,
   "id": "c8e78f01-cb89-4073-805a-7ee208a79140",
   "metadata": {},
   "outputs": [],
   "source": [
    "@subscriptable(n=n_chains)\n",
    "@cached_batch(item_type=np.ndarray, read_only=True)\n",
    "def rw_samples() -> list[np.ndarray]:\n",
    "    raise NotImplemented"
   ]
  },
  {
   "cell_type": "code",
   "execution_count": 13,
   "id": "e59cdb42",
   "metadata": {},
   "outputs": [],
   "source": [
    "@subscriptable(n=n_chains)\n",
    "@cached_batch(item_type=np.ndarray, read_only=True)\n",
    "def hmc_samples() -> list[np.ndarray]:\n",
    "    raise NotImplemented"
   ]
  },
  {
   "cell_type": "code",
   "execution_count": 14,
   "id": "d730d1a6-44fe-4483-bd85-3cdd029f1cc6",
   "metadata": {},
   "outputs": [],
   "source": [
    "@subscriptable(n=n_chains)\n",
    "@cached_batch(item_type=np.ndarray, read_only=True)\n",
    "def rw_thinned_idx() -> list[np.ndarray]:\n",
    "    raise NotImplemented"
   ]
  },
  {
   "cell_type": "code",
   "execution_count": 15,
   "id": "8a7c2c3e-381e-457b-a68d-a4c8164a50f9",
   "metadata": {},
   "outputs": [],
   "source": [
    "@subscriptable(n=n_chains)\n",
    "@cached_batch(item_type=np.ndarray, read_only=True)\n",
    "def validation_hmc_samples() -> list[np.ndarray]:\n",
    "    raise NotImplemented"
   ]
  },
  {
   "cell_type": "code",
   "execution_count": 16,
   "id": "1e569352-1923-45f5-8d76-d8f3d27a3d73",
   "metadata": {},
   "outputs": [
    {
     "name": "stderr",
     "output_type": "stream",
     "text": [
      "DEBUG:utils.caching:Reading from disk cache: validation_hmc_samples_0\n",
      "DEBUG:utils.caching:Reading /home/artem/Study/KCL/ST50 Project/data/generated/validation_hmc_samples_0.npy\n",
      "DEBUG:utils.caching:Reading from disk cache: validation_hmc_samples_1\n",
      "DEBUG:utils.caching:Reading /home/artem/Study/KCL/ST50 Project/data/generated/validation_hmc_samples_1.npy\n",
      "DEBUG:utils.caching:Reading from disk cache: validation_hmc_samples_2\n",
      "DEBUG:utils.caching:Reading /home/artem/Study/KCL/ST50 Project/data/generated/validation_hmc_samples_2.npy\n",
      "DEBUG:utils.caching:Reading from disk cache: validation_hmc_samples_3\n",
      "DEBUG:utils.caching:Reading /home/artem/Study/KCL/ST50 Project/data/generated/validation_hmc_samples_3.npy\n",
      "DEBUG:utils.caching:Reading from disk cache: validation_hmc_samples_4\n",
      "DEBUG:utils.caching:Reading /home/artem/Study/KCL/ST50 Project/data/generated/validation_hmc_samples_4.npy\n"
     ]
    }
   ],
   "source": [
    "validation_sample = np.concatenate(validation_hmc_samples, axis=0)"
   ]
  },
  {
   "cell_type": "markdown",
   "id": "93af3d88-082b-46e6-b5bf-31f189ccb1e5",
   "metadata": {},
   "source": [
    "# Gradient-free Stein thinning"
   ]
  },
  {
   "cell_type": "code",
   "execution_count": 17,
   "id": "ae541ee4-6ab9-4221-a267-f715b23d02f4",
   "metadata": {},
   "outputs": [],
   "source": [
    "n_points_calculate = 10_000\n",
    "n_points_thinned = 20\n",
    "n_points_display = 20"
   ]
  },
  {
   "cell_type": "markdown",
   "id": "0ffebd03-bbf5-4ac9-b44b-0d15c7f0d6c5",
   "metadata": {},
   "source": [
    "We recalculate the (unnormalised) log target density for all samples. Note that in principle we could have stored it during the MCMC run rather than recalculating it."
   ]
  },
  {
   "cell_type": "code",
   "execution_count": 18,
   "id": "ab87c041-da39-4192-b616-56045fc105c1",
   "metadata": {},
   "outputs": [],
   "source": [
    "@subscriptable(n=len(lotka_volterra.theta_inits))\n",
    "@cached(recalculate=recalculate, persist=True)\n",
    "def rw_log_p(i: int) -> np.ndarray:\n",
    "    return parallelise_for_unique(lotka_volterra.log_target_density, rw_samples[i])"
   ]
  },
  {
   "cell_type": "code",
   "execution_count": 19,
   "id": "9fc80e5c-4f1c-4c76-8540-2373060f3995",
   "metadata": {},
   "outputs": [],
   "source": [
    "@subscriptable(n=len(lotka_volterra.theta_inits))\n",
    "@cached(recalculate=recalculate, persist=True)\n",
    "def hmc_log_p(i: int) -> np.ndarray:\n",
    "    return parallelise_for_unique(lotka_volterra.log_target_density, hmc_samples[i])"
   ]
  },
  {
   "cell_type": "markdown",
   "id": "d845f3e7-a795-457f-aa9d-d1038e3a6f59",
   "metadata": {},
   "source": [
    "## Full sample"
   ]
  },
  {
   "cell_type": "markdown",
   "id": "8ff59bf3-4230-4f64-a46a-1354dac42e48",
   "metadata": {},
   "source": [
    "### Student t proxy"
   ]
  },
  {
   "cell_type": "code",
   "execution_count": 20,
   "id": "0d7f8c09-f03c-424b-a6c1-d9349fe84263",
   "metadata": {},
   "outputs": [],
   "source": [
    "from scipy.optimize import OptimizeResult\n",
    "from scipy.special import gamma"
   ]
  },
  {
   "cell_type": "code",
   "execution_count": 21,
   "id": "067eaf13-5a1e-4158-8f8e-75288f206a54",
   "metadata": {},
   "outputs": [],
   "source": [
    "def extract_t_params(par, d):\n",
    "    # upper-triangular elements of an n-by-n matrix\n",
    "    n_cov = d * (d + 1) // 2\n",
    "\n",
    "    # the means of the multivariate t are in the first `d` elements\n",
    "    mu = par[:d]\n",
    "    # the upper triangular elements of A are in the following `n_cov` elements\n",
    "    A = np.zeros((d, d))\n",
    "    A[np.triu_indices(d)] = par[d:d + n_cov]\n",
    "    # the scale matrix\n",
    "    scale = A.T @ A\n",
    "    # the degrees of freedom value is the last element of `par`\n",
    "    df = par[d + n_cov]\n",
    "\n",
    "    return mu, scale, df\n",
    "\n",
    "def fit_mvt(\n",
    "        Y: np.ndarray,\n",
    "        mu_bounds: tuple[float, float],\n",
    "        a_bounds: tuple[float, float],\n",
    "        df_bounds: tuple[float, float],\n",
    "        mu_init: np.ndarray = None,\n",
    "        df_init: float = 4.,\n",
    "        method: str = 'L-BFGS-B',\n",
    "        options: dict = None,\n",
    ") -> OptimizeResult:\n",
    "    \"\"\"Fit a multivariate t-distribution using maximum likelihood\n",
    "\n",
    "    Parameters\n",
    "    ----------\n",
    "    Y: np.ndarray\n",
    "        the input data: rows are observations, columns are variables\n",
    "    mu_bounds: Tuple[float, float]\n",
    "        the lower and upper bounds for means\n",
    "    a_bounds: Tuple[float, float]\n",
    "        the lower and upper bounds for values in the matrix A, where A.T @ A ~ Cov(Y)\n",
    "    df_bounds: Tuple[float, float]\n",
    "        the lower and upper bounds for the degree of freedom parameter\n",
    "\n",
    "    Returns\n",
    "    -------\n",
    "    OptimizeResult\n",
    "        the result of fitting a multivariate t-distribution\n",
    "    \"\"\"\n",
    "    d = Y.shape[1]  # the number of variables\n",
    "    n_cov = d * (d + 1) // 2  # upper-triangular elements of an n-by-n matrix\n",
    "\n",
    "    # the starting values for the search\n",
    "    if mu_init is None:\n",
    "        mu_init = np.mean(Y, axis=0)\n",
    "    sample_cov = np.cov(Y, rowvar=False, ddof=d)\n",
    "    A = np.linalg.cholesky(sample_cov).T\n",
    "    start = np.concatenate([mu_init, A[np.triu_indices(d)], [df_init]])\n",
    "\n",
    "    # the bounds for the search\n",
    "    lower = np.array([mu_bounds[0]] * d + [a_bounds[0]] * n_cov + [df_bounds[0]])\n",
    "    upper = np.array([mu_bounds[1]] * d + [a_bounds[1]] * n_cov + [df_bounds[1]])\n",
    "\n",
    "    def loglik_mvt(Y: np.ndarray, par: np.ndarray) -> float:\n",
    "        mu, scale, df = extract_t_params(par, Y.shape[1])\n",
    "        return -np.sum(stats.multivariate_t.logpdf(Y, loc=mu, shape=scale, df=df))\n",
    "\n",
    "    def objective_func(beta):\n",
    "        return loglik_mvt(Y, beta)\n",
    "\n",
    "    bounds = list(zip(lower, upper))\n",
    "\n",
    "    return minimize(objective_func, start, method=method, bounds=bounds, options=options)\n",
    "\n",
    "def fit_mvt2(\n",
    "        Y: np.ndarray,\n",
    "        scale_bounds: tuple[float, float],\n",
    "        df_bounds: tuple[float, float],\n",
    "        mu: np.ndarray,\n",
    "        scale_init: float = 0.0,\n",
    "        df_init: float = 4.,\n",
    "        method: str = 'L-BFGS-B',\n",
    "        options: dict = None,\n",
    ") -> OptimizeResult:\n",
    "    \"\"\"Fit a multivariate t-distribution using maximum likelihood\n",
    "\n",
    "    Parameters\n",
    "    ----------\n",
    "    Y: np.ndarray\n",
    "        the input data: rows are observations, columns are variables\n",
    "    mu_bounds: Tuple[float, float]\n",
    "        the lower and upper bounds for means\n",
    "    a_bounds: Tuple[float, float]\n",
    "        the lower and upper bounds for values in the matrix A, where A.T @ A ~ Cov(Y)\n",
    "    df_bounds: Tuple[float, float]\n",
    "        the lower and upper bounds for the degree of freedom parameter\n",
    "\n",
    "    Returns\n",
    "    -------\n",
    "    OptimizeResult\n",
    "        the result of fitting a multivariate t-distribution\n",
    "    \"\"\"\n",
    "    d = Y.shape[1]  # the number of variables\n",
    "\n",
    "    # the starting values for the search\n",
    "    sample_cov = np.cov(Y, rowvar=False, ddof=d)\n",
    "\n",
    "    def loglik_mvt(Y: np.ndarray, scale, df) -> float:\n",
    "        return -np.sum(stats.multivariate_t.logpdf(Y, loc=mu, shape=np.exp(scale) * sample_cov, df=df))\n",
    "\n",
    "    def objective_func(beta):\n",
    "        return loglik_mvt(Y, beta[0], beta[1])\n",
    "\n",
    "    bounds = [scale_bounds, df_bounds]\n",
    "\n",
    "    start = np.array([scale_init, df_init])\n",
    "    return minimize(objective_func, start, method=method, bounds=bounds, options=options)"
   ]
  },
  {
   "cell_type": "code",
   "execution_count": 22,
   "id": "30ccebbe",
   "metadata": {},
   "outputs": [],
   "source": [
    "@subscriptable(n=len(lotka_volterra.theta_inits))\n",
    "@cached_batch(item_type=OptimizeResult, recalculate=recalculate, persist=True)\n",
    "def rw_t_fit() -> list[OptimizeResult]:\n",
    "    # we have to instantiate the array here as the caching function currently cannot be serialised\n",
    "    samples = list(rw_samples)\n",
    "    def calculate(i):\n",
    "        return fit_mvt(samples[i], mu_bounds=(-0.5, 0.5), a_bounds=(-0.1, 0.1), df_bounds=(2, 15), df_init=3.)\n",
    "    return map_parallel(calculate, range(len(lotka_volterra.theta_inits)))"
   ]
  },
  {
   "cell_type": "markdown",
   "id": "c0c27cfe",
   "metadata": {},
   "source": [
    "Force recalculation when necessary:"
   ]
  },
  {
   "cell_type": "code",
   "execution_count": 23,
   "id": "0d14ba83",
   "metadata": {},
   "outputs": [],
   "source": [
    "#rw_t_fit.recalculate(persist=True);"
   ]
  },
  {
   "cell_type": "code",
   "execution_count": 24,
   "id": "52ae19f8-0e97-4b4c-9975-b69035a129e4",
   "metadata": {},
   "outputs": [
    {
     "name": "stderr",
     "output_type": "stream",
     "text": [
      "DEBUG:utils.caching:Reading from disk cache: rw_samples_0\n",
      "DEBUG:utils.caching:Reading /home/artem/Study/KCL/ST50 Project/data/generated/rw_samples_0.npy\n"
     ]
    },
    {
     "name": "stdout",
     "output_type": "stream",
     "text": [
      "CPU times: user 5min 8s, sys: 6min 57s, total: 12min 5s\n",
      "Wall time: 4min 27s\n"
     ]
    },
    {
     "data": {
      "text/plain": [
       "  message: CONVERGENCE: REL_REDUCTION_OF_F_<=_FACTR*EPSMCH\n",
       "  success: True\n",
       "   status: 0\n",
       "      fun: -8155729.119366754\n",
       "        x: [-3.826e-01  2.920e-01 ...  2.804e-03  1.289e+01]\n",
       "      nit: 263\n",
       "      jac: [ 7.629e+02  6.154e+03 ... -4.505e+03 -1.956e+00]\n",
       "     nfev: 4544\n",
       "     njev: 284\n",
       " hess_inv: <15x15 LbfgsInvHessProduct with dtype=float64>"
      ]
     },
     "execution_count": 24,
     "metadata": {},
     "output_type": "execute_result"
    }
   ],
   "source": [
    "%%time\n",
    "fit = fit_mvt(rw_samples[0], mu_bounds=(-0.5, 0.5), a_bounds=(-0.1, 0.1), df_bounds=(2, 30), df_init=4.)\n",
    "fit"
   ]
  },
  {
   "cell_type": "code",
   "execution_count": 25,
   "id": "7a70cc31-b932-4114-a216-3cc468a0f446",
   "metadata": {},
   "outputs": [],
   "source": [
    "t_mu, t_scale, t_df = extract_t_params(fit.x, lotka_volterra.d)"
   ]
  },
  {
   "cell_type": "markdown",
   "id": "ad72e9c2-92d5-461a-b0f7-d810a5815e70",
   "metadata": {},
   "source": [
    "The density of the multivaritate Student's t distribution is given by\n",
    "$$f(\\mathbf{x}) = \\frac{\\Gamma\\left(\\frac{\\nu + d}{2}\\right)}{\\Gamma\\left(\\frac{\\nu}{2}\\right) \\nu^{\\frac{d}{2}} \\pi^{\\frac{d}{2}} |\\Sigma|^{\\frac{1}{2}}} \\left[1 + \\frac{1}{\\nu} (\\mathbf{x} - \\pmb{\\mu})^T \\Sigma^{-1} (\\mathbf{x} - \\pmb{\\mu})\\right]^{-\\frac{\\nu + d}{2}}.$$\n",
    "The gradient of the log-density is then\n",
    "$$\\nabla_{\\mathbf{x}} \\log f(\\mathbf{x}) = -\\frac{\\nu + d}{\\nu} \\frac{\\Sigma^{-1} (\\mathbf{x} - \\pmb{\\mu})}{1 + \\frac{1}{\\nu} (\\mathbf{x} - \\pmb{\\mu})^T \\Sigma^{-1} (\\mathbf{x} - \\pmb{\\mu})}$$"
   ]
  },
  {
   "cell_type": "markdown",
   "id": "863337d4-5f22-4a43-b7e3-7b40882312c8",
   "metadata": {},
   "source": [
    "We implement the log-density of the multivariate t and confirm that it matches what is returned by `scipy`:"
   ]
  },
  {
   "cell_type": "code",
   "execution_count": 26,
   "id": "1c1a5c0c-ae71-41a2-90c1-478513874278",
   "metadata": {},
   "outputs": [],
   "source": [
    "def t_log_pdf(x, mu, sigma, df):\n",
    "    d = x.shape[1]\n",
    "    sigma_inv = np.linalg.inv(sigma)\n",
    "    x_mu = x - mu\n",
    "    return (\n",
    "        np.log(gamma((df + d) / 2))\n",
    "        - np.log(gamma(df  / 2))\n",
    "        - d * (np.log(df) + np.log(np.pi)) / 2\n",
    "        - np.log(np.linalg.det(sigma)) / 2\n",
    "        -(df + d) / 2 * np.log(1 + np.einsum('ij,jk,ik->i', x_mu, sigma_inv, x_mu) / df)\n",
    "    )"
   ]
  },
  {
   "cell_type": "code",
   "execution_count": 27,
   "id": "5d9fc0f7-f7db-47ef-992e-10e5effce46d",
   "metadata": {},
   "outputs": [],
   "source": [
    "log_q = stats.multivariate_t.logpdf(rw_samples[0], loc=t_mu, shape=t_scale, df=t_df)"
   ]
  },
  {
   "cell_type": "code",
   "execution_count": 28,
   "id": "b9b18fdc-4519-411b-933e-9af9b702e007",
   "metadata": {},
   "outputs": [],
   "source": [
    "np.testing.assert_allclose(t_log_pdf(rw_samples[0], t_mu, t_scale, t_df), log_q)"
   ]
  },
  {
   "cell_type": "code",
   "execution_count": 29,
   "id": "25508ee9-8435-4af7-9ecc-a9c4f2137b70",
   "metadata": {},
   "outputs": [],
   "source": [
    "def t_grad_log_pdf(x, mu, sigma, df):\n",
    "    d = x.shape[1]\n",
    "    sigma_inv = np.linalg.inv(sigma)\n",
    "    x_mu = x - mu\n",
    "    direction_scaled = np.einsum('jk,ik->ij', sigma_inv, x_mu)\n",
    "    mahalanobis_d = np.einsum('ij,jk,ik->i', x_mu, sigma_inv, x_mu)\n",
    "    return -(df + d) / df / (1 + mahalanobis_d / df).reshape(-1, 1) * direction_scaled"
   ]
  },
  {
   "cell_type": "code",
   "execution_count": 30,
   "id": "38b230fe-dbce-466d-b9af-bf5e093f183c",
   "metadata": {},
   "outputs": [
    {
     "name": "stderr",
     "output_type": "stream",
     "text": [
      "DEBUG:utils.caching:Reading from disk cache: rw_log_p_0\n",
      "DEBUG:utils.caching:Reading /home/artem/Study/KCL/ST50 Project/data/generated/rw_log_p_0.npy\n",
      "/home/artem/git/stein_thinning/stein_thinning/thinning.py:126: UserWarning: log_q differs from log_p by more than 10 - consider using q that matches target better\n",
      "  warnings.warn(f'log_q differs from log_p by more than {WEIGHT_SCALE_THRESHOLD} - consider using q that matches target better')\n"
     ]
    },
    {
     "data": {
      "text/plain": [
       "array([268793, 193321, 490046, 149313, 162706, 164955, 136691,  84332,\n",
       "       392297, 269558, 309148,  58196, 388084, 122231, 309276, 495415,\n",
       "       199801, 313131,  51063, 368196, 166659, 344310, 465968, 427710,\n",
       "       428061, 180763, 430204,  75114, 232523, 360185, 458015, 316013,\n",
       "       304288, 392626, 400147, 162584, 165026, 427630, 466623, 136691,\n",
       "       189684, 149670, 366525, 269509, 269287, 456125, 331751, 428210,\n",
       "        73007, 412784, 136559, 462435, 431345, 360315, 360281, 269625,\n",
       "       390618,  16713,  13502,  83189, 195618, 254593, 310026, 478495,\n",
       "       328988, 361028,  98413, 358814, 268433,  17494, 136691, 399991,\n",
       "        64234, 309289, 470265, 340597, 365032, 413832, 309297,  36953,\n",
       "       427714, 428035, 408677, 406246, 373173, 353448, 443614,  48870,\n",
       "       297324, 379998, 477051, 115027, 372203,   5312, 180088, 326712,\n",
       "       331568, 329108, 306949, 197759], dtype=uint32)"
      ]
     },
     "execution_count": 30,
     "metadata": {},
     "output_type": "execute_result"
    }
   ],
   "source": [
    "log_q = stats.multivariate_t.logpdf(rw_samples[0], loc=t_mu, shape=t_scale, df=t_df)\n",
    "gradient_q = t_grad_log_pdf(rw_samples[0], t_mu, t_scale, t_df)\n",
    "thin_gf(rw_samples[0], rw_log_p[0], log_q, gradient_q, 100, range_cap=200)"
   ]
  },
  {
   "cell_type": "code",
   "execution_count": 31,
   "id": "8a04d019-77c6-474b-bcfa-ef2743d358fc",
   "metadata": {},
   "outputs": [
    {
     "data": {
      "text/plain": [
       "15570.877124863659"
      ]
     },
     "execution_count": 31,
     "metadata": {},
     "output_type": "execute_result"
    }
   ],
   "source": [
    "np.ptp(log_q - rw_log_p[0])"
   ]
  },
  {
   "cell_type": "code",
   "execution_count": 32,
   "id": "e5b5e256-1dfd-4904-8939-60c09dbc201b",
   "metadata": {},
   "outputs": [
    {
     "data": {
      "text/plain": [
       "  message: CONVERGENCE: REL_REDUCTION_OF_F_<=_FACTR*EPSMCH\n",
       "  success: True\n",
       "   status: 0\n",
       "      fun: -7701532.9296034295\n",
       "        x: [-6.643e-01  9.456e+00]\n",
       "      nit: 12\n",
       "      jac: [-1.304e+00 -9.313e-02]\n",
       "     nfev: 45\n",
       "     njev: 15\n",
       " hess_inv: <2x2 LbfgsInvHessProduct with dtype=float64>"
      ]
     },
     "execution_count": 32,
     "metadata": {},
     "output_type": "execute_result"
    }
   ],
   "source": [
    "sample_mode = rw_samples[0][np.argmax(rw_log_p[0])]\n",
    "fit2 = fit_mvt2(rw_samples[0], scale_bounds=(-20, 20), df_bounds=(2, 30), mu=sample_mode)\n",
    "fit2"
   ]
  },
  {
   "cell_type": "code",
   "execution_count": 33,
   "id": "e0d6d151-4653-46fd-a720-d71f4f22935b",
   "metadata": {},
   "outputs": [],
   "source": [
    "t_mu = sample_mode\n",
    "t_scale = np.cov(rw_samples[0], rowvar=False, ddof=lotka_volterra.d) * np.exp(fit2.x[0])\n",
    "t_df = fit2.x[1]"
   ]
  },
  {
   "cell_type": "code",
   "execution_count": 34,
   "id": "4e83b354-9fe0-4b84-a151-ca534c400aab",
   "metadata": {},
   "outputs": [
    {
     "data": {
      "text/plain": [
       "array([-0.38262152,  0.2922964 , -0.01989471, -0.01783209])"
      ]
     },
     "execution_count": 34,
     "metadata": {},
     "output_type": "execute_result"
    }
   ],
   "source": [
    "t_mu"
   ]
  },
  {
   "cell_type": "code",
   "execution_count": 35,
   "id": "1a85b427-1bb0-4621-ac35-20c53fea5358",
   "metadata": {},
   "outputs": [
    {
     "data": {
      "text/plain": [
       "array([[ 1.09611833e-04,  8.38837489e-05, -9.86237875e-05,\n",
       "        -8.86945656e-05],\n",
       "       [ 8.38837489e-05,  1.01512724e-04, -5.26867153e-05,\n",
       "        -3.28133639e-05],\n",
       "       [-9.86237875e-05, -5.26867153e-05,  1.11649693e-04,\n",
       "         1.09799881e-04],\n",
       "       [-8.86945656e-05, -3.28133639e-05,  1.09799881e-04,\n",
       "         1.18833740e-04]])"
      ]
     },
     "execution_count": 35,
     "metadata": {},
     "output_type": "execute_result"
    }
   ],
   "source": [
    "t_scale"
   ]
  },
  {
   "cell_type": "code",
   "execution_count": 36,
   "id": "43bff1b3-48eb-4ded-92b6-c92f38dd2f5d",
   "metadata": {},
   "outputs": [
    {
     "data": {
      "text/plain": [
       "9.456167660133405"
      ]
     },
     "execution_count": 36,
     "metadata": {},
     "output_type": "execute_result"
    }
   ],
   "source": [
    "t_df"
   ]
  },
  {
   "cell_type": "code",
   "execution_count": 37,
   "id": "56b19d51-91b5-4dfa-b044-c702db676907",
   "metadata": {},
   "outputs": [
    {
     "data": {
      "text/plain": [
       "9.0"
      ]
     },
     "execution_count": 37,
     "metadata": {},
     "output_type": "execute_result"
    }
   ],
   "source": [
    "t_df = np.round(t_df)\n",
    "t_df"
   ]
  },
  {
   "cell_type": "code",
   "execution_count": 38,
   "id": "d3b361bd-7782-4689-8ebc-bd96d8c29285",
   "metadata": {},
   "outputs": [],
   "source": [
    "def thin_gf_t(sample, log_p, t_mu, t_scale, t_df, thinned_size):\n",
    "    log_q = stats.multivariate_t.logpdf(sample, loc=t_mu, shape=t_scale, df=t_df)\n",
    "    gradient_q = t_grad_log_pdf(sample, t_mu, t_scale, t_df)\n",
    "    return thin_gf(sample, log_p, log_q, gradient_q, thinned_size, range_cap=200)"
   ]
  },
  {
   "cell_type": "code",
   "execution_count": 39,
   "id": "feeb578c-155c-4e17-98e7-2b329223c550",
   "metadata": {},
   "outputs": [],
   "source": [
    "sample_cov = np.cov(rw_samples[0], rowvar=False, ddof=lotka_volterra.d)"
   ]
  },
  {
   "cell_type": "code",
   "execution_count": 40,
   "id": "292ce98d-7327-4d2a-a796-cacc2107a62a",
   "metadata": {},
   "outputs": [
    {
     "data": {
      "text/plain": [
       "array([210376, 442969,  80507,  51956, 392030,  55794, 249886, 428495,\n",
       "       284066, 397477,  58914, 113015,  19535, 341822, 349159, 430931,\n",
       "       245786, 222623, 279220, 465968, 437304, 499762,  97484, 285752,\n",
       "       318398, 366902, 392297, 173240, 192217, 246329,  32814, 430204,\n",
       "       456038, 131209, 396729, 297862, 372321, 289076, 378348, 283826,\n",
       "       215531, 274665, 236412, 411800, 493992, 164977, 449619, 464124,\n",
       "       271127, 301248,  69014, 264791,  58495, 478448, 471186, 490046,\n",
       "       396803, 359110, 468104, 439100, 160255, 317689, 142635, 413010,\n",
       "       238704, 218919, 411041, 106757, 387864, 476932, 149313, 247965,\n",
       "       387974, 433207, 139123, 474510, 259443, 418138, 430931,  92115,\n",
       "        98812, 320672,  31205,  22933,  39812, 337220,  34004, 129779,\n",
       "       269834, 460980, 465955, 115317, 325680, 389154, 311114, 141151,\n",
       "       439171,  43873, 199242, 147363], dtype=uint32)"
      ]
     },
     "execution_count": 40,
     "metadata": {},
     "output_type": "execute_result"
    }
   ],
   "source": [
    "idx = thin_gf_t(rw_samples[0], rw_log_p[0], t_mu, sample_cov * 3, 4, 100)\n",
    "idx"
   ]
  },
  {
   "cell_type": "code",
   "execution_count": 41,
   "id": "3dd17d1d-97f8-4c97-a5cf-8cf623b36c5b",
   "metadata": {},
   "outputs": [
    {
     "data": {
      "text/plain": [
       "array([210376, 442969,  80507,  51956, 392030,  55794, 249886, 428495,\n",
       "       284066, 397477,  58914, 113015,  19535, 341822, 349159, 430931,\n",
       "       245786, 222623, 279220, 465968, 437304, 499762,  97484, 285752,\n",
       "       318398, 366902, 392297, 173240, 192217, 246329,  32814, 430204,\n",
       "       456038, 131209, 396729, 297862, 372321, 289076, 378348, 283826,\n",
       "       215531, 274665, 236412, 411800, 493992, 164977, 449619, 464124,\n",
       "       271127, 301248,  69014, 264791,  58495, 478448, 471186, 490046,\n",
       "       396803, 359110, 468104, 439100, 160255, 317689, 142635, 413010,\n",
       "       238704, 218919, 411041, 106757, 387864, 476932, 149313, 247965,\n",
       "       387974, 433207, 139123, 474510, 259443, 418138, 430931,  92115,\n",
       "        98812, 320672,  31205,  22933,  39812, 337220,  34004, 129779,\n",
       "       269834, 460980, 465955, 115317, 325680, 389154, 311114, 141151,\n",
       "       439171,  43873, 199242, 147363], dtype=uint32)"
      ]
     },
     "execution_count": 41,
     "metadata": {},
     "output_type": "execute_result"
    }
   ],
   "source": [
    "log_q = stats.multivariate_t.logpdf(rw_samples[0], loc=t_mu, shape=sample_cov * 3, df=4)\n",
    "gradient_q = t_grad_log_pdf(rw_samples[0], t_mu, sample_cov * 3, lotka_volterra.d)\n",
    "thin_gf(rw_samples[0], rw_log_p[0], log_q, gradient_q, 100, range_cap=200)"
   ]
  },
  {
   "cell_type": "code",
   "execution_count": 42,
   "id": "7460b19f-4711-447e-ae3e-2df5c928d189",
   "metadata": {},
   "outputs": [
    {
     "data": {
      "text/plain": [
       "15622.255019330725"
      ]
     },
     "execution_count": 42,
     "metadata": {},
     "output_type": "execute_result"
    }
   ],
   "source": [
    "np.ptp(log_q - rw_log_p[0])"
   ]
  },
  {
   "cell_type": "code",
   "execution_count": 43,
   "id": "0a975d53-1036-41b1-847d-6820b1614a89",
   "metadata": {},
   "outputs": [],
   "source": [
    "def fit_quality(subsample, validation_sample_step=10):\n",
    "    return np.sqrt(dcor.energy_distance(validation_sample[::validation_sample_step], subsample))"
   ]
  },
  {
   "cell_type": "code",
   "execution_count": 44,
   "id": "bffe559b-f40c-48bf-b869-2de4c162dac6",
   "metadata": {},
   "outputs": [
    {
     "name": "stderr",
     "output_type": "stream",
     "text": [
      "DEBUG:utils.caching:Reading from disk cache: rw_thinned_idx_0\n",
      "DEBUG:utils.caching:Reading /home/artem/Study/KCL/ST50 Project/data/generated/rw_thinned_idx_0.npy\n"
     ]
    },
    {
     "data": {
      "text/plain": [
       "0.10837416731318722"
      ]
     },
     "execution_count": 44,
     "metadata": {},
     "output_type": "execute_result"
    }
   ],
   "source": [
    "fit_quality(rw_samples[0][rw_thinned_idx[0][:100]])"
   ]
  },
  {
   "cell_type": "code",
   "execution_count": 45,
   "id": "377faf01-2b2a-4116-9256-b9f5d9dd594f",
   "metadata": {},
   "outputs": [
    {
     "data": {
      "text/plain": [
       "0.09488942311259109"
      ]
     },
     "execution_count": 45,
     "metadata": {},
     "output_type": "execute_result"
    }
   ],
   "source": [
    "fit_quality(rw_samples[0][idx[:100]])"
   ]
  },
  {
   "cell_type": "code",
   "execution_count": 46,
   "id": "a809e3a5-1bab-4945-bd1d-d17cc052e15f",
   "metadata": {},
   "outputs": [
    {
     "data": {
      "image/png": "[encoded data removed]",
      "text/plain": [
       "<Figure size 1200x500 with 2 Axes>"
      ]
     },
     "metadata": {},
     "output_type": "display_data"
    }
   ],
   "source": [
    "fig, axs = plt.subplots(1, 2, figsize=(12, 5), constrained_layout=True)\n",
    "highlight_points(rw_samples[0], idx, [(0, 1), (2, 3)], axs, var_labels, highlighted_point_size=4);"
   ]
  },
  {
   "cell_type": "code",
   "execution_count": 47,
   "id": "d036ab03-52b1-4f00-8aff-a25391037ab1",
   "metadata": {},
   "outputs": [],
   "source": [
    "@subscriptable(n=len(lotka_volterra.theta_inits))\n",
    "@cached_batch(item_type=np.ndarray, recalculate=recalculate, persist=True)\n",
    "def rw_gf_t_idx() -> list[np.ndarray]:\n",
    "    samples = list(rw_samples)\n",
    "    log_ps = list(rw_log_p)\n",
    "    t_fits = list(rw_t_fit)\n",
    "    def calculate(i):\n",
    "        t_mu, t_scale, t_df = extract_t_params(t_fits[i].x, lotka_volterra.d)\n",
    "        return thin_gf_t(samples[i], log_ps[i], t_mu, t_scale, t_df, n_points_calculate)\n",
    "    return map_parallel(calculate, range(len(lotka_volterra.theta_inits)))"
   ]
  },
  {
   "cell_type": "code",
   "execution_count": 48,
   "id": "7534f1cf-6320-43d2-8eea-9ac31618841b",
   "metadata": {},
   "outputs": [],
   "source": [
    "#rw_gf_t_idx.recalculate(persist=True);"
   ]
  },
  {
   "cell_type": "code",
   "execution_count": 49,
   "id": "b12cf48b-7297-4e31-a6cb-4046c491d53f",
   "metadata": {},
   "outputs": [],
   "source": [
    "@subscriptable(n=len(lotka_volterra.theta_inits))\n",
    "@cached_batch(item_type=np.ndarray, recalculate=recalculate, persist=True)\n",
    "def rw_gf_t2_idx() -> list[np.ndarray]:\n",
    "    samples = list(rw_samples)\n",
    "    log_ps = list(rw_log_p)\n",
    "    def calculate(i):\n",
    "        sample_mode = samples[i][np.argmax(log_ps[i])]\n",
    "        sample_cov = np.cov(samples[i], rowvar=False, ddof=lotka_volterra.d)\n",
    "        return thin_gf_t(samples[i], log_ps[i], sample_mode, sample_cov * 3, 4, n_points_calculate)\n",
    "    return map_parallel(calculate, range(len(lotka_volterra.theta_inits)))"
   ]
  },
  {
   "cell_type": "code",
   "execution_count": 50,
   "id": "eb9edb8d-e3a2-4b79-b178-9a91095f9f92",
   "metadata": {},
   "outputs": [],
   "source": [
    "#rw_gf_t2_idx.recalculate(persist=True);"
   ]
  },
  {
   "cell_type": "markdown",
   "id": "a86add90-6d97-48b4-bdfb-63ec6ce847a8",
   "metadata": {},
   "source": [
    "Notebook execution took:"
   ]
  },
  {
   "cell_type": "code",
   "execution_count": 51,
   "id": "1d19f128-8f5f-4036-83ba-7814f1cd86a6",
   "metadata": {},
   "outputs": [
    {
     "data": {
      "text/plain": [
       "357.50391817092896"
      ]
     },
     "execution_count": 51,
     "metadata": {},
     "output_type": "execute_result"
    },
    {
     "name": "stderr",
     "output_type": "stream",
     "text": [
      "/home/artem/Study/KCL/ST50 Project/code/.venv/lib/python3.12/site-packages/distributed/system_monitor.py:201: UserWarning: timed out waiting on channel\n",
      "  self._gilknocker.reset_contention_metric()\n"
     ]
    }
   ],
   "source": [
    "time.time() - start_time"
   ]
  }
 ],
 "metadata": {
  "kernelspec": {
   "display_name": "Python 3 (ipykernel)",
   "language": "python",
   "name": "python3"
  },
  "language_info": {
   "codemirror_mode": {
    "name": "ipython",
    "version": 3
   },
   "file_extension": ".py",
   "mimetype": "text/x-python",
   "name": "python",
   "nbconvert_exporter": "python",
   "pygments_lexer": "ipython3",
   "version": "3.12.4"
  }
 },
 "nbformat": 4,
 "nbformat_minor": 5
}
