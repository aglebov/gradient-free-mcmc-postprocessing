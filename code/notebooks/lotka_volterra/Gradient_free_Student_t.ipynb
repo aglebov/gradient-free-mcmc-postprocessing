{
 "cells": [
  {
   "cell_type": "code",
   "execution_count": 1,
   "id": "59feed49-0261-48da-aa8c-0ea735387ba3",
   "metadata": {
    "tags": []
   },
   "outputs": [],
   "source": [
    "import time\n",
    "start_time = time.time()"
   ]
  },
  {
   "cell_type": "code",
   "execution_count": 2,
   "id": "4fbeb55f-4856-4967-b506-425536b3d1ff",
   "metadata": {
    "tags": []
   },
   "outputs": [],
   "source": [
    "import logging\n",
    "import multiprocessing\n",
    "\n",
    "import numpy as np\n",
    "import matplotlib.pyplot as plt\n",
    "\n",
    "from scipy.optimize import minimize\n",
    "import scipy.stats as stats\n",
    "\n",
    "from dask.distributed import Client\n",
    "\n",
    "import dcor\n",
    "\n",
    "from stein_thinning.thinning import thin_gf\n",
    "\n",
    "import lotka_volterra\n",
    "import utils.caching\n",
    "from utils.caching import make_cached\n",
    "from utils.parallel import get_map_parallel_joblib, parallelise_for_unique\n",
    "from utils.paths import GENERATED_DATA_PATH\n",
    "from utils.plotting import highlight_points"
   ]
  },
  {
   "cell_type": "code",
   "execution_count": 3,
   "id": "309aef8f-cef3-492a-8d55-fa8f707f3369",
   "metadata": {
    "tags": []
   },
   "outputs": [],
   "source": [
    "logging.basicConfig()\n",
    "logging.getLogger(utils.caching.__name__).setLevel(logging.DEBUG)"
   ]
  },
  {
   "cell_type": "code",
   "execution_count": 4,
   "id": "3b1a439d-8049-44f8-9026-f2a1567d239d",
   "metadata": {
    "tags": []
   },
   "outputs": [],
   "source": [
    "import nest_asyncio\n",
    "nest_asyncio.apply()"
   ]
  },
  {
   "cell_type": "code",
   "execution_count": 5,
   "id": "3f0aeda0-2356-4b49-bb45-1ce8cf866f8d",
   "metadata": {
    "tags": []
   },
   "outputs": [],
   "source": [
    "cached = make_cached(GENERATED_DATA_PATH)"
   ]
  },
  {
   "cell_type": "code",
   "execution_count": 6,
   "id": "474b2853-740d-405b-b04e-0d8d903ecfec",
   "metadata": {
    "tags": []
   },
   "outputs": [],
   "source": [
    "map_parallel = get_map_parallel_joblib(multiprocessing.cpu_count())"
   ]
  },
  {
   "cell_type": "code",
   "execution_count": 7,
   "id": "5503c7e7-bd66-4c25-9abb-3795fa65aa79",
   "metadata": {
    "tags": []
   },
   "outputs": [],
   "source": [
    "titles = [f'$\\\\theta^{{(0)}} = ({theta[0]}, {theta[1]}, {theta[2]}, {theta[3]})$' for theta in lotka_volterra.theta_inits]\n",
    "var_labels = [f'$\\\\log \\\\theta_{i + 1}$' for i in range(lotka_volterra.d)]"
   ]
  },
  {
   "cell_type": "markdown",
   "id": "35a14304-e5dd-4c2a-a3eb-f9239914258f",
   "metadata": {},
   "source": [
    "Read-only input datasets:"
   ]
  },
  {
   "cell_type": "code",
   "execution_count": 8,
   "id": "c8e78f01-cb89-4073-805a-7ee208a79140",
   "metadata": {
    "tags": []
   },
   "outputs": [],
   "source": [
    "@cached(batch_size=lotka_volterra.n_chains, read_only=True)\n",
    "def rw_samples(i) -> np.ndarray:\n",
    "    raise NotImplementedError"
   ]
  },
  {
   "cell_type": "code",
   "execution_count": 9,
   "id": "e59cdb42",
   "metadata": {
    "tags": []
   },
   "outputs": [],
   "source": [
    "@cached(batch_size=lotka_volterra.n_chains, read_only=True)\n",
    "def hmc_samples(i) -> np.ndarray:\n",
    "    raise NotImplementedError"
   ]
  },
  {
   "cell_type": "code",
   "execution_count": 10,
   "id": "d730d1a6-44fe-4483-bd85-3cdd029f1cc6",
   "metadata": {
    "tags": []
   },
   "outputs": [],
   "source": [
    "@cached(batch_size=lotka_volterra.n_chains, read_only=True)\n",
    "def rw_thinned_idx(i) -> np.ndarray:\n",
    "    raise NotImplemented"
   ]
  },
  {
   "cell_type": "code",
   "execution_count": 11,
   "id": "8a7c2c3e-381e-457b-a68d-a4c8164a50f9",
   "metadata": {
    "tags": []
   },
   "outputs": [],
   "source": [
    "@cached(batch_size=lotka_volterra.n_chains, read_only=True)\n",
    "def validation_hmc_samples(i) -> np.ndarray:\n",
    "    raise NotImplemented"
   ]
  },
  {
   "cell_type": "code",
   "execution_count": 12,
   "id": "c2e2cb93-95f3-4e33-9279-ce36bc416a4d",
   "metadata": {
    "tags": []
   },
   "outputs": [],
   "source": [
    "@cached(batch_size=lotka_volterra.n_chains, read_only=True)\n",
    "def rw_log_p(i) -> np.ndarray:\n",
    "    raise NotImplemented"
   ]
  },
  {
   "cell_type": "code",
   "execution_count": 13,
   "id": "0023f877-d00c-4642-a437-6792c34cc34c",
   "metadata": {
    "tags": []
   },
   "outputs": [],
   "source": [
    "@cached(batch_size=lotka_volterra.n_chains, read_only=True)\n",
    "def hmc_log_p(i) -> np.ndarray:\n",
    "    raise NotImplemented"
   ]
  },
  {
   "cell_type": "code",
   "execution_count": 14,
   "id": "1e569352-1923-45f5-8d76-d8f3d27a3d73",
   "metadata": {
    "tags": []
   },
   "outputs": [
    {
     "name": "stderr",
     "output_type": "stream",
     "text": [
      "DEBUG:utils.caching:Reading from disk cache: validation_hmc_samples_0\n",
      "DEBUG:utils.caching:Reading /home/ec2-user/SageMaker/gradient-free-mcmc-postprocessing/data/generated/validation_hmc_samples_0.npy\n",
      "DEBUG:utils.caching:Reading from disk cache: validation_hmc_samples_1\n",
      "DEBUG:utils.caching:Reading /home/ec2-user/SageMaker/gradient-free-mcmc-postprocessing/data/generated/validation_hmc_samples_1.npy\n",
      "DEBUG:utils.caching:Reading from disk cache: validation_hmc_samples_2\n",
      "DEBUG:utils.caching:Reading /home/ec2-user/SageMaker/gradient-free-mcmc-postprocessing/data/generated/validation_hmc_samples_2.npy\n",
      "DEBUG:utils.caching:Reading from disk cache: validation_hmc_samples_3\n",
      "DEBUG:utils.caching:Reading /home/ec2-user/SageMaker/gradient-free-mcmc-postprocessing/data/generated/validation_hmc_samples_3.npy\n",
      "DEBUG:utils.caching:Reading from disk cache: validation_hmc_samples_4\n",
      "DEBUG:utils.caching:Reading /home/ec2-user/SageMaker/gradient-free-mcmc-postprocessing/data/generated/validation_hmc_samples_4.npy\n"
     ]
    }
   ],
   "source": [
    "validation_sample = np.concatenate(validation_hmc_samples, axis=0)"
   ]
  },
  {
   "cell_type": "markdown",
   "id": "93af3d88-082b-46e6-b5bf-31f189ccb1e5",
   "metadata": {},
   "source": [
    "# Gradient-free Stein thinning"
   ]
  },
  {
   "cell_type": "code",
   "execution_count": 15,
   "id": "ae541ee4-6ab9-4221-a267-f715b23d02f4",
   "metadata": {
    "tags": []
   },
   "outputs": [],
   "source": [
    "n_points_calculate = 10_000\n",
    "n_points_thinned = 20\n",
    "n_points_display = 20"
   ]
  },
  {
   "cell_type": "markdown",
   "id": "d845f3e7-a795-457f-aa9d-d1038e3a6f59",
   "metadata": {},
   "source": [
    "## Full sample"
   ]
  },
  {
   "cell_type": "markdown",
   "id": "8ff59bf3-4230-4f64-a46a-1354dac42e48",
   "metadata": {},
   "source": [
    "### Student t proxy"
   ]
  },
  {
   "cell_type": "code",
   "execution_count": 16,
   "id": "0d7f8c09-f03c-424b-a6c1-d9349fe84263",
   "metadata": {
    "tags": []
   },
   "outputs": [],
   "source": [
    "from scipy.optimize import OptimizeResult\n",
    "from scipy.special import gamma"
   ]
  },
  {
   "cell_type": "code",
   "execution_count": 17,
   "id": "067eaf13-5a1e-4158-8f8e-75288f206a54",
   "metadata": {
    "tags": []
   },
   "outputs": [],
   "source": [
    "def extract_t_params(par, d):\n",
    "    # upper-triangular elements of an n-by-n matrix\n",
    "    n_cov = d * (d + 1) // 2\n",
    "\n",
    "    # the means of the multivariate t are in the first `d` elements\n",
    "    mu = par[:d]\n",
    "    # the upper triangular elements of A are in the following `n_cov` elements\n",
    "    A = np.zeros((d, d))\n",
    "    A[np.triu_indices(d)] = par[d:d + n_cov]\n",
    "    # the scale matrix\n",
    "    scale = A.T @ A\n",
    "    # the degrees of freedom value is the last element of `par`\n",
    "    df = par[d + n_cov]\n",
    "\n",
    "    return mu, scale, df\n",
    "\n",
    "def fit_mvt(\n",
    "        Y: np.ndarray,\n",
    "        mu_bounds: tuple[float, float],\n",
    "        a_bounds: tuple[float, float],\n",
    "        df_bounds: tuple[float, float],\n",
    "        mu_init: np.ndarray = None,\n",
    "        df_init: float = 4.,\n",
    "        method: str = 'L-BFGS-B',\n",
    "        options: dict = None,\n",
    ") -> OptimizeResult:\n",
    "    \"\"\"Fit a multivariate t-distribution using maximum likelihood\n",
    "\n",
    "    Parameters\n",
    "    ----------\n",
    "    Y: np.ndarray\n",
    "        the input data: rows are observations, columns are variables\n",
    "    mu_bounds: Tuple[float, float]\n",
    "        the lower and upper bounds for means\n",
    "    a_bounds: Tuple[float, float]\n",
    "        the lower and upper bounds for values in the matrix A, where A.T @ A ~ Cov(Y)\n",
    "    df_bounds: Tuple[float, float]\n",
    "        the lower and upper bounds for the degree of freedom parameter\n",
    "\n",
    "    Returns\n",
    "    -------\n",
    "    OptimizeResult\n",
    "        the result of fitting a multivariate t-distribution\n",
    "    \"\"\"\n",
    "    d = Y.shape[1]  # the number of variables\n",
    "    n_cov = d * (d + 1) // 2  # upper-triangular elements of an n-by-n matrix\n",
    "\n",
    "    # the starting values for the search\n",
    "    if mu_init is None:\n",
    "        mu_init = np.mean(Y, axis=0)\n",
    "    sample_cov = np.cov(Y, rowvar=False, ddof=d)\n",
    "    A = np.linalg.cholesky(sample_cov).T\n",
    "    start = np.concatenate([mu_init, A[np.triu_indices(d)], [df_init]])\n",
    "\n",
    "    # the bounds for the search\n",
    "    lower = np.array([mu_bounds[0]] * d + [a_bounds[0]] * n_cov + [df_bounds[0]])\n",
    "    upper = np.array([mu_bounds[1]] * d + [a_bounds[1]] * n_cov + [df_bounds[1]])\n",
    "\n",
    "    def loglik_mvt(Y: np.ndarray, par: np.ndarray) -> float:\n",
    "        mu, scale, df = extract_t_params(par, Y.shape[1])\n",
    "        return -np.sum(stats.multivariate_t.logpdf(Y, loc=mu, shape=scale, df=df))\n",
    "\n",
    "    def objective_func(beta):\n",
    "        return loglik_mvt(Y, beta)\n",
    "\n",
    "    bounds = list(zip(lower, upper))\n",
    "\n",
    "    return minimize(objective_func, start, method=method, bounds=bounds, options=options)\n",
    "\n",
    "def fit_mvt2(\n",
    "        Y: np.ndarray,\n",
    "        scale_bounds: tuple[float, float],\n",
    "        df_bounds: tuple[float, float],\n",
    "        mu: np.ndarray,\n",
    "        scale_init: float = 0.0,\n",
    "        df_init: float = 4.,\n",
    "        method: str = 'L-BFGS-B',\n",
    "        options: dict = None,\n",
    ") -> OptimizeResult:\n",
    "    \"\"\"Fit a multivariate t-distribution using maximum likelihood\n",
    "\n",
    "    Parameters\n",
    "    ----------\n",
    "    Y: np.ndarray\n",
    "        the input data: rows are observations, columns are variables\n",
    "    mu_bounds: Tuple[float, float]\n",
    "        the lower and upper bounds for means\n",
    "    a_bounds: Tuple[float, float]\n",
    "        the lower and upper bounds for values in the matrix A, where A.T @ A ~ Cov(Y)\n",
    "    df_bounds: Tuple[float, float]\n",
    "        the lower and upper bounds for the degree of freedom parameter\n",
    "\n",
    "    Returns\n",
    "    -------\n",
    "    OptimizeResult\n",
    "        the result of fitting a multivariate t-distribution\n",
    "    \"\"\"\n",
    "    d = Y.shape[1]  # the number of variables\n",
    "\n",
    "    # the starting values for the search\n",
    "    sample_cov = np.cov(Y, rowvar=False, ddof=d)\n",
    "\n",
    "    def loglik_mvt(Y: np.ndarray, scale, df) -> float:\n",
    "        return -np.sum(stats.multivariate_t.logpdf(Y, loc=mu, shape=np.exp(scale) * sample_cov, df=df))\n",
    "\n",
    "    def objective_func(beta):\n",
    "        return loglik_mvt(Y, beta[0], beta[1])\n",
    "\n",
    "    bounds = [scale_bounds, df_bounds]\n",
    "\n",
    "    start = np.array([scale_init, df_init])\n",
    "    return minimize(objective_func, start, method=method, bounds=bounds, options=options)"
   ]
  },
  {
   "cell_type": "code",
   "execution_count": 18,
   "id": "30ccebbe",
   "metadata": {
    "tags": []
   },
   "outputs": [],
   "source": [
    "@cached(batch_size=lotka_volterra.n_chains)\n",
    "def rw_t_fit(i) -> OptimizeResult:\n",
    "    return fit_mvt(rw_samples[i], mu_bounds=(-0.5, 0.5), a_bounds=(-0.1, 0.1), df_bounds=(2, 15), df_init=3.)"
   ]
  },
  {
   "cell_type": "markdown",
   "id": "c0c27cfe",
   "metadata": {},
   "source": [
    "Force recalculation when necessary:"
   ]
  },
  {
   "cell_type": "code",
   "execution_count": 19,
   "id": "0d14ba83",
   "metadata": {
    "tags": []
   },
   "outputs": [
    {
     "name": "stdout",
     "output_type": "stream",
     "text": [
      "CPU times: user 46.5 ms, sys: 75 ms, total: 122 ms\n",
      "Wall time: 2.09 s\n"
     ]
    }
   ],
   "source": [
    "%%time\n",
    "map_parallel(rw_t_fit.get_or_recalculate, range(lotka_volterra.n_chains));"
   ]
  },
  {
   "cell_type": "code",
   "execution_count": 20,
   "id": "52ae19f8-0e97-4b4c-9975-b69035a129e4",
   "metadata": {
    "tags": []
   },
   "outputs": [
    {
     "name": "stderr",
     "output_type": "stream",
     "text": [
      "DEBUG:utils.caching:Reading from disk cache: rw_samples_0\n",
      "DEBUG:utils.caching:Reading /home/ec2-user/SageMaker/gradient-free-mcmc-postprocessing/data/generated/rw_samples_0.npy\n"
     ]
    },
    {
     "name": "stdout",
     "output_type": "stream",
     "text": [
      "CPU times: user 13min 55s, sys: 58.2 s, total: 14min 54s\n",
      "Wall time: 3min 47s\n"
     ]
    },
    {
     "data": {
      "text/plain": [
       "  message: CONVERGENCE: REL_REDUCTION_OF_F_<=_FACTR*EPSMCH\n",
       "  success: True\n",
       "   status: 0\n",
       "      fun: -8155728.166535322\n",
       "        x: [-3.826e-01  2.920e-01 ...  2.805e-03  1.296e+01]\n",
       "      nit: 279\n",
       "      jac: [ 2.660e+04  2.230e+03 ... -2.135e+04  1.723e+01]\n",
       "     nfev: 4928\n",
       "     njev: 308\n",
       " hess_inv: <15x15 LbfgsInvHessProduct with dtype=float64>"
      ]
     },
     "execution_count": 20,
     "metadata": {},
     "output_type": "execute_result"
    }
   ],
   "source": [
    "%%time\n",
    "fit = fit_mvt(rw_samples[0], mu_bounds=(-0.5, 0.5), a_bounds=(-0.1, 0.1), df_bounds=(2, 30), df_init=4.)\n",
    "fit"
   ]
  },
  {
   "cell_type": "code",
   "execution_count": 21,
   "id": "7a70cc31-b932-4114-a216-3cc468a0f446",
   "metadata": {
    "tags": []
   },
   "outputs": [],
   "source": [
    "t_mu, t_scale, t_df = extract_t_params(fit.x, lotka_volterra.d)"
   ]
  },
  {
   "cell_type": "markdown",
   "id": "ad72e9c2-92d5-461a-b0f7-d810a5815e70",
   "metadata": {},
   "source": [
    "The density of the multivaritate Student's t distribution is given by\n",
    "$$f(\\mathbf{x}) = \\frac{\\Gamma\\left(\\frac{\\nu + d}{2}\\right)}{\\Gamma\\left(\\frac{\\nu}{2}\\right) \\nu^{\\frac{d}{2}} \\pi^{\\frac{d}{2}} |\\Sigma|^{\\frac{1}{2}}} \\left[1 + \\frac{1}{\\nu} (\\mathbf{x} - \\pmb{\\mu})^T \\Sigma^{-1} (\\mathbf{x} - \\pmb{\\mu})\\right]^{-\\frac{\\nu + d}{2}}.$$\n",
    "The gradient of the log-density is then\n",
    "$$\\nabla_{\\mathbf{x}} \\log f(\\mathbf{x}) = -\\frac{\\nu + d}{\\nu} \\frac{\\Sigma^{-1} (\\mathbf{x} - \\pmb{\\mu})}{1 + \\frac{1}{\\nu} (\\mathbf{x} - \\pmb{\\mu})^T \\Sigma^{-1} (\\mathbf{x} - \\pmb{\\mu})}$$"
   ]
  },
  {
   "cell_type": "markdown",
   "id": "863337d4-5f22-4a43-b7e3-7b40882312c8",
   "metadata": {},
   "source": [
    "We implement the log-density of the multivariate t and confirm that it matches what is returned by `scipy`:"
   ]
  },
  {
   "cell_type": "code",
   "execution_count": 22,
   "id": "1c1a5c0c-ae71-41a2-90c1-478513874278",
   "metadata": {
    "tags": []
   },
   "outputs": [],
   "source": [
    "def t_log_pdf(x, mu, sigma, df):\n",
    "    d = x.shape[1]\n",
    "    sigma_inv = np.linalg.inv(sigma)\n",
    "    x_mu = x - mu\n",
    "    return (\n",
    "        np.log(gamma((df + d) / 2))\n",
    "        - np.log(gamma(df  / 2))\n",
    "        - d * (np.log(df) + np.log(np.pi)) / 2\n",
    "        - np.log(np.linalg.det(sigma)) / 2\n",
    "        -(df + d) / 2 * np.log(1 + np.einsum('ij,jk,ik->i', x_mu, sigma_inv, x_mu) / df)\n",
    "    )"
   ]
  },
  {
   "cell_type": "code",
   "execution_count": 23,
   "id": "5d9fc0f7-f7db-47ef-992e-10e5effce46d",
   "metadata": {
    "tags": []
   },
   "outputs": [],
   "source": [
    "log_q = stats.multivariate_t.logpdf(rw_samples[0], loc=t_mu, shape=t_scale, df=t_df)"
   ]
  },
  {
   "cell_type": "code",
   "execution_count": 24,
   "id": "b9b18fdc-4519-411b-933e-9af9b702e007",
   "metadata": {
    "tags": []
   },
   "outputs": [],
   "source": [
    "np.testing.assert_allclose(t_log_pdf(rw_samples[0], t_mu, t_scale, t_df), log_q)"
   ]
  },
  {
   "cell_type": "code",
   "execution_count": 25,
   "id": "25508ee9-8435-4af7-9ecc-a9c4f2137b70",
   "metadata": {
    "tags": []
   },
   "outputs": [],
   "source": [
    "def t_grad_log_pdf(x, mu, sigma, df):\n",
    "    d = x.shape[1]\n",
    "    sigma_inv = np.linalg.inv(sigma)\n",
    "    x_mu = x - mu\n",
    "    direction_scaled = np.einsum('jk,ik->ij', sigma_inv, x_mu)\n",
    "    mahalanobis_d = np.einsum('ij,jk,ik->i', x_mu, sigma_inv, x_mu)\n",
    "    return -(df + d) / df / (1 + mahalanobis_d / df).reshape(-1, 1) * direction_scaled"
   ]
  },
  {
   "cell_type": "code",
   "execution_count": 26,
   "id": "38b230fe-dbce-466d-b9af-bf5e093f183c",
   "metadata": {
    "tags": []
   },
   "outputs": [
    {
     "name": "stderr",
     "output_type": "stream",
     "text": [
      "DEBUG:utils.caching:Reading from disk cache: rw_log_p_0\n",
      "DEBUG:utils.caching:Reading /home/ec2-user/SageMaker/gradient-free-mcmc-postprocessing/data/generated/rw_log_p_0.npy\n",
      "/home/ec2-user/anaconda3/envs/python3/lib/python3.10/site-packages/stein_thinning/thinning.py:126: UserWarning: log_q differs from log_p by more than 10 - consider using q that matches target better\n",
      "  warnings.warn(f'log_q differs from log_p by more than {WEIGHT_SCALE_THRESHOLD} - consider using q that matches target better')\n"
     ]
    },
    {
     "data": {
      "text/plain": [
       "array([268793, 193321, 490046, 149313, 162706, 164955, 136691,  84332,\n",
       "       392297, 269558, 309148,  58196, 388084, 122231, 309276, 495415,\n",
       "       199801, 313131,  51063, 368196, 166659, 344310, 465968, 427710,\n",
       "       428061, 180763, 430204,  75114, 360185, 431345, 428177, 458015,\n",
       "       316013, 304288, 392626, 268433, 400147,  32673, 427630, 466623,\n",
       "       136691, 161876, 189684, 366525, 149330, 136559, 309297, 269441,\n",
       "       331751, 203852, 127436, 452156, 355865, 412784, 462435, 269287,\n",
       "        63688,  16713, 209119,  43690, 149670, 268927, 133800, 399991,\n",
       "       118687, 134805, 136691, 392030, 269100, 149290, 428392, 126299,\n",
       "        38346,   1413, 135543,  23613, 365032, 144040, 239885,  38881,\n",
       "       478181, 165838, 287964, 470265, 103330, 331069, 283468, 162790,\n",
       "       374696,  46093, 378373, 218004, 360281, 427873, 133047, 319866,\n",
       "        13502, 170739, 416193, 485387], dtype=uint32)"
      ]
     },
     "execution_count": 26,
     "metadata": {},
     "output_type": "execute_result"
    }
   ],
   "source": [
    "log_q = stats.multivariate_t.logpdf(rw_samples[0], loc=t_mu, shape=t_scale, df=t_df)\n",
    "gradient_q = t_grad_log_pdf(rw_samples[0], t_mu, t_scale, t_df)\n",
    "thin_gf(rw_samples[0], rw_log_p[0], log_q, gradient_q, 100, range_cap=200)"
   ]
  },
  {
   "cell_type": "code",
   "execution_count": 27,
   "id": "8a04d019-77c6-474b-bcfa-ef2743d358fc",
   "metadata": {
    "tags": []
   },
   "outputs": [
    {
     "data": {
      "text/plain": [
       "np.float64(15570.621323719202)"
      ]
     },
     "execution_count": 27,
     "metadata": {},
     "output_type": "execute_result"
    }
   ],
   "source": [
    "np.ptp(log_q - rw_log_p[0])"
   ]
  },
  {
   "cell_type": "code",
   "execution_count": 28,
   "id": "e5b5e256-1dfd-4904-8939-60c09dbc201b",
   "metadata": {
    "tags": []
   },
   "outputs": [
    {
     "data": {
      "text/plain": [
       "  message: CONVERGENCE: REL_REDUCTION_OF_F_<=_FACTR*EPSMCH\n",
       "  success: True\n",
       "   status: 0\n",
       "      fun: -7701532.929604809\n",
       "        x: [-6.643e-01  9.456e+00]\n",
       "      nit: 12\n",
       "      jac: [-4.657e-01  9.313e-02]\n",
       "     nfev: 45\n",
       "     njev: 15\n",
       " hess_inv: <2x2 LbfgsInvHessProduct with dtype=float64>"
      ]
     },
     "execution_count": 28,
     "metadata": {},
     "output_type": "execute_result"
    }
   ],
   "source": [
    "sample_mode = rw_samples[0][np.argmax(rw_log_p[0])]\n",
    "fit2 = fit_mvt2(rw_samples[0], scale_bounds=(-20, 20), df_bounds=(2, 30), mu=sample_mode)\n",
    "fit2"
   ]
  },
  {
   "cell_type": "code",
   "execution_count": 29,
   "id": "e0d6d151-4653-46fd-a720-d71f4f22935b",
   "metadata": {
    "tags": []
   },
   "outputs": [],
   "source": [
    "t_mu = sample_mode\n",
    "t_scale = np.cov(rw_samples[0], rowvar=False, ddof=lotka_volterra.d) * np.exp(fit2.x[0])\n",
    "t_df = fit2.x[1]"
   ]
  },
  {
   "cell_type": "code",
   "execution_count": 30,
   "id": "4e83b354-9fe0-4b84-a151-ca534c400aab",
   "metadata": {
    "tags": []
   },
   "outputs": [
    {
     "data": {
      "text/plain": [
       "array([-0.38262152,  0.2922964 , -0.01989471, -0.01783209])"
      ]
     },
     "execution_count": 30,
     "metadata": {},
     "output_type": "execute_result"
    }
   ],
   "source": [
    "t_mu"
   ]
  },
  {
   "cell_type": "code",
   "execution_count": 31,
   "id": "1a85b427-1bb0-4621-ac35-20c53fea5358",
   "metadata": {
    "tags": []
   },
   "outputs": [
    {
     "data": {
      "text/plain": [
       "array([[ 1.09611960e-04,  8.38838465e-05, -9.86239022e-05,\n",
       "        -8.86946687e-05],\n",
       "       [ 8.38838465e-05,  1.01512842e-04, -5.26867766e-05,\n",
       "        -3.28134021e-05],\n",
       "       [-9.86239022e-05, -5.26867766e-05,  1.11649823e-04,\n",
       "         1.09800008e-04],\n",
       "       [-8.86946687e-05, -3.28134021e-05,  1.09800008e-04,\n",
       "         1.18833878e-04]])"
      ]
     },
     "execution_count": 31,
     "metadata": {},
     "output_type": "execute_result"
    }
   ],
   "source": [
    "t_scale"
   ]
  },
  {
   "cell_type": "code",
   "execution_count": 32,
   "id": "43bff1b3-48eb-4ded-92b6-c92f38dd2f5d",
   "metadata": {
    "tags": []
   },
   "outputs": [
    {
     "data": {
      "text/plain": [
       "np.float64(9.456162110679575)"
      ]
     },
     "execution_count": 32,
     "metadata": {},
     "output_type": "execute_result"
    }
   ],
   "source": [
    "t_df"
   ]
  },
  {
   "cell_type": "code",
   "execution_count": 33,
   "id": "56b19d51-91b5-4dfa-b044-c702db676907",
   "metadata": {
    "tags": []
   },
   "outputs": [
    {
     "data": {
      "text/plain": [
       "np.float64(9.0)"
      ]
     },
     "execution_count": 33,
     "metadata": {},
     "output_type": "execute_result"
    }
   ],
   "source": [
    "t_df = np.round(t_df)\n",
    "t_df"
   ]
  },
  {
   "cell_type": "code",
   "execution_count": 34,
   "id": "d3b361bd-7782-4689-8ebc-bd96d8c29285",
   "metadata": {
    "tags": []
   },
   "outputs": [],
   "source": [
    "def thin_gf_t(sample, log_p, t_mu, t_scale, t_df, thinned_size):\n",
    "    log_q = stats.multivariate_t.logpdf(sample, loc=t_mu, shape=t_scale, df=t_df)\n",
    "    gradient_q = t_grad_log_pdf(sample, t_mu, t_scale, t_df)\n",
    "    return thin_gf(sample, log_p, log_q, gradient_q, thinned_size, range_cap=200)"
   ]
  },
  {
   "cell_type": "code",
   "execution_count": 35,
   "id": "feeb578c-155c-4e17-98e7-2b329223c550",
   "metadata": {
    "tags": []
   },
   "outputs": [],
   "source": [
    "sample_cov = np.cov(rw_samples[0], rowvar=False, ddof=lotka_volterra.d)"
   ]
  },
  {
   "cell_type": "code",
   "execution_count": 36,
   "id": "292ce98d-7327-4d2a-a796-cacc2107a62a",
   "metadata": {
    "tags": []
   },
   "outputs": [
    {
     "data": {
      "text/plain": [
       "array([210376, 442969,  80507,  51956, 392030,  55794, 249886, 428495,\n",
       "       284066, 397477,  58914, 113015,  19535, 341822, 349159, 430931,\n",
       "       245786, 222623, 279220, 465968, 437304, 499762,  97484, 285752,\n",
       "       318398, 366902, 392297, 173240, 192217, 246329,  32814, 430204,\n",
       "       456038, 131209, 396729, 297862, 372321, 289076, 378348, 283826,\n",
       "       215531, 274665, 236412, 411800, 493992, 164977, 449619, 464124,\n",
       "       271127, 301248,  69014, 264791,  58495, 478448, 471186, 490046,\n",
       "       396803, 359110, 468104, 439100, 160255, 317689, 142635, 413010,\n",
       "       238704, 218919, 411041, 106757, 387864, 476932, 149313, 247965,\n",
       "       387974, 433207, 139123, 474510, 259443, 418138, 430931,  92115,\n",
       "        98812, 320672,  31205,  22933,  39812, 337220,  34004, 129779,\n",
       "       269834, 460980, 465955, 115317, 325680, 389154, 311114, 141151,\n",
       "       439171,  43873, 199242, 147363], dtype=uint32)"
      ]
     },
     "execution_count": 36,
     "metadata": {},
     "output_type": "execute_result"
    }
   ],
   "source": [
    "idx = thin_gf_t(rw_samples[0], rw_log_p[0], t_mu, sample_cov * 3, 4, 100)\n",
    "idx"
   ]
  },
  {
   "cell_type": "code",
   "execution_count": 37,
   "id": "3dd17d1d-97f8-4c97-a5cf-8cf623b36c5b",
   "metadata": {
    "tags": []
   },
   "outputs": [
    {
     "data": {
      "text/plain": [
       "array([210376, 442969,  80507,  51956, 392030,  55794, 249886, 428495,\n",
       "       284066, 397477,  58914, 113015,  19535, 341822, 349159, 430931,\n",
       "       245786, 222623, 279220, 465968, 437304, 499762,  97484, 285752,\n",
       "       318398, 366902, 392297, 173240, 192217, 246329,  32814, 430204,\n",
       "       456038, 131209, 396729, 297862, 372321, 289076, 378348, 283826,\n",
       "       215531, 274665, 236412, 411800, 493992, 164977, 449619, 464124,\n",
       "       271127, 301248,  69014, 264791,  58495, 478448, 471186, 490046,\n",
       "       396803, 359110, 468104, 439100, 160255, 317689, 142635, 413010,\n",
       "       238704, 218919, 411041, 106757, 387864, 476932, 149313, 247965,\n",
       "       387974, 433207, 139123, 474510, 259443, 418138, 430931,  92115,\n",
       "        98812, 320672,  31205,  22933,  39812, 337220,  34004, 129779,\n",
       "       269834, 460980, 465955, 115317, 325680, 389154, 311114, 141151,\n",
       "       439171,  43873, 199242, 147363], dtype=uint32)"
      ]
     },
     "execution_count": 37,
     "metadata": {},
     "output_type": "execute_result"
    }
   ],
   "source": [
    "log_q = stats.multivariate_t.logpdf(rw_samples[0], loc=t_mu, shape=sample_cov * 3, df=4)\n",
    "gradient_q = t_grad_log_pdf(rw_samples[0], t_mu, sample_cov * 3, lotka_volterra.d)\n",
    "thin_gf(rw_samples[0], rw_log_p[0], log_q, gradient_q, 100, range_cap=200)"
   ]
  },
  {
   "cell_type": "code",
   "execution_count": 38,
   "id": "7460b19f-4711-447e-ae3e-2df5c928d189",
   "metadata": {
    "tags": []
   },
   "outputs": [
    {
     "data": {
      "text/plain": [
       "np.float64(15622.255019308805)"
      ]
     },
     "execution_count": 38,
     "metadata": {},
     "output_type": "execute_result"
    }
   ],
   "source": [
    "np.ptp(log_q - rw_log_p[0])"
   ]
  },
  {
   "cell_type": "code",
   "execution_count": 39,
   "id": "0a975d53-1036-41b1-847d-6820b1614a89",
   "metadata": {
    "tags": []
   },
   "outputs": [],
   "source": [
    "def fit_quality(subsample, validation_sample_step=10):\n",
    "    return np.sqrt(dcor.energy_distance(validation_sample[::validation_sample_step], subsample))"
   ]
  },
  {
   "cell_type": "code",
   "execution_count": 40,
   "id": "bffe559b-f40c-48bf-b869-2de4c162dac6",
   "metadata": {
    "tags": []
   },
   "outputs": [
    {
     "name": "stderr",
     "output_type": "stream",
     "text": [
      "DEBUG:utils.caching:Reading from disk cache: rw_thinned_idx_0\n",
      "DEBUG:utils.caching:Reading /home/ec2-user/SageMaker/gradient-free-mcmc-postprocessing/data/generated/rw_thinned_idx_0.npy\n"
     ]
    },
    {
     "data": {
      "text/plain": [
       "np.float64(0.10820419160264824)"
      ]
     },
     "execution_count": 40,
     "metadata": {},
     "output_type": "execute_result"
    }
   ],
   "source": [
    "fit_quality(rw_samples[0][rw_thinned_idx[0][:100]])"
   ]
  },
  {
   "cell_type": "code",
   "execution_count": 41,
   "id": "377faf01-2b2a-4116-9256-b9f5d9dd594f",
   "metadata": {
    "tags": []
   },
   "outputs": [
    {
     "data": {
      "text/plain": [
       "np.float64(0.09470119350105072)"
      ]
     },
     "execution_count": 41,
     "metadata": {},
     "output_type": "execute_result"
    }
   ],
   "source": [
    "fit_quality(rw_samples[0][idx[:100]])"
   ]
  },
  {
   "cell_type": "code",
   "execution_count": 42,
   "id": "a809e3a5-1bab-4945-bd1d-d17cc052e15f",
   "metadata": {
    "tags": []
   },
   "outputs": [
    {
     "data": {
      "image/png": "[encoded data removed]",
      "text/plain": [
       "<Figure size 1200x500 with 2 Axes>"
      ]
     },
     "metadata": {},
     "output_type": "display_data"
    }
   ],
   "source": [
    "fig, axs = plt.subplots(1, 2, figsize=(12, 5), constrained_layout=True)\n",
    "highlight_points(rw_samples[0], idx, [(0, 1), (2, 3)], axs, var_labels, highlighted_point_size=4);"
   ]
  },
  {
   "cell_type": "code",
   "execution_count": 43,
   "id": "d036ab03-52b1-4f00-8aff-a25391037ab1",
   "metadata": {
    "tags": []
   },
   "outputs": [],
   "source": [
    "@cached(batch_size=lotka_volterra.n_chains)\n",
    "def rw_gf_t_idx(i) -> np.ndarray:\n",
    "    t_mu, t_scale, t_df = extract_t_params(rw_t_fit[i].x, lotka_volterra.d)\n",
    "    return thin_gf_t(rw_samples[i], rw_log_p[i], t_mu, t_scale, t_df, n_points_calculate)"
   ]
  },
  {
   "cell_type": "code",
   "execution_count": 44,
   "id": "7534f1cf-6320-43d2-8eea-9ac31618841b",
   "metadata": {
    "tags": []
   },
   "outputs": [],
   "source": [
    "map_parallel(rw_gf_t_idx.get_or_recalculate, range(lotka_volterra.n_chains));"
   ]
  },
  {
   "cell_type": "code",
   "execution_count": 45,
   "id": "b12cf48b-7297-4e31-a6cb-4046c491d53f",
   "metadata": {
    "tags": []
   },
   "outputs": [],
   "source": [
    "@cached(batch_size=lotka_volterra.n_chains)\n",
    "def rw_gf_t2_idx(i) -> np.ndarray:\n",
    "    sample_mode = rw_samples[i][np.argmax(rw_log_p[i])]\n",
    "    sample_cov = np.cov(rw_samples[i], rowvar=False, ddof=lotka_volterra.d)\n",
    "    return thin_gf_t(rw_samples[i], rw_log_p[i], sample_mode, sample_cov * 3, 4, n_points_calculate)"
   ]
  },
  {
   "cell_type": "code",
   "execution_count": 46,
   "id": "eb9edb8d-e3a2-4b79-b178-9a91095f9f92",
   "metadata": {
    "tags": []
   },
   "outputs": [],
   "source": [
    "map_parallel(rw_gf_t2_idx.get_or_recalculate, range(lotka_volterra.n_chains));"
   ]
  },
  {
   "cell_type": "markdown",
   "id": "a86add90-6d97-48b4-bdfb-63ec6ce847a8",
   "metadata": {},
   "source": [
    "Notebook execution took:"
   ]
  },
  {
   "cell_type": "code",
   "execution_count": 47,
   "id": "1d19f128-8f5f-4036-83ba-7814f1cd86a6",
   "metadata": {
    "tags": []
   },
   "outputs": [
    {
     "data": {
      "text/plain": [
       "276.86575841903687"
      ]
     },
     "execution_count": 47,
     "metadata": {},
     "output_type": "execute_result"
    }
   ],
   "source": [
    "time.time() - start_time"
   ]
  }
 ],
 "metadata": {
  "kernelspec": {
   "display_name": "conda_python3",
   "language": "python",
   "name": "conda_python3"
  },
  "language_info": {
   "codemirror_mode": {
    "name": "ipython",
    "version": 3
   },
   "file_extension": ".py",
   "mimetype": "text/x-python",
   "name": "python",
   "nbconvert_exporter": "python",
   "pygments_lexer": "ipython3",
   "version": "3.10.14"
  }
 },
 "nbformat": 4,
 "nbformat_minor": 5
}
