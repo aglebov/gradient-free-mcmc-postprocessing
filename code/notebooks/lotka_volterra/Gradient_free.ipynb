{
 "cells": [
  {
   "cell_type": "code",
   "execution_count": 1,
   "id": "59feed49-0261-48da-aa8c-0ea735387ba3",
   "metadata": {
    "tags": []
   },
   "outputs": [],
   "source": [
    "import time\n",
    "start_time = time.time()"
   ]
  },
  {
   "cell_type": "code",
   "execution_count": 2,
   "id": "4fbeb55f-4856-4967-b506-425536b3d1ff",
   "metadata": {
    "tags": []
   },
   "outputs": [],
   "source": [
    "import logging\n",
    "import multiprocessing\n",
    "\n",
    "import numpy as np\n",
    "import matplotlib.pyplot as plt\n",
    "\n",
    "from scipy.optimize import minimize\n",
    "from scipy.stats import multivariate_normal as mvn\n",
    "\n",
    "import dcor\n",
    "\n",
    "from stein_thinning.thinning import thin_gf\n",
    "\n",
    "import lotka_volterra\n",
    "from thinning import gaussian_thin, laplace_approximation\n",
    "import utils.caching\n",
    "from utils.caching import make_cached_s3\n",
    "from utils.parallel import get_map_parallel_joblib, parallelise_for_unique\n",
    "from utils.paths import S3_BUCKET_NAME\n",
    "from utils.plotting import highlight_points"
   ]
  },
  {
   "cell_type": "code",
   "execution_count": 3,
   "id": "309aef8f-cef3-492a-8d55-fa8f707f3369",
   "metadata": {
    "tags": []
   },
   "outputs": [],
   "source": [
    "logging.basicConfig()\n",
    "logging.getLogger(utils.caching.__name__).setLevel(logging.DEBUG)"
   ]
  },
  {
   "cell_type": "code",
   "execution_count": 4,
   "id": "3b1a439d-8049-44f8-9026-f2a1567d239d",
   "metadata": {
    "tags": []
   },
   "outputs": [],
   "source": [
    "import nest_asyncio\n",
    "nest_asyncio.apply()"
   ]
  },
  {
   "cell_type": "code",
   "execution_count": 5,
   "id": "3f0aeda0-2356-4b49-bb45-1ce8cf866f8d",
   "metadata": {
    "tags": []
   },
   "outputs": [],
   "source": [
    "cached = make_cached_s3(S3_BUCKET_NAME)"
   ]
  },
  {
   "cell_type": "code",
   "execution_count": 6,
   "id": "f5e773bc-3099-477a-b6fb-e535b13e3222",
   "metadata": {
    "tags": []
   },
   "outputs": [],
   "source": [
    "map_parallel = get_map_parallel_joblib(multiprocessing.cpu_count())"
   ]
  },
  {
   "cell_type": "code",
   "execution_count": 7,
   "id": "5503c7e7-bd66-4c25-9abb-3795fa65aa79",
   "metadata": {
    "tags": []
   },
   "outputs": [],
   "source": [
    "titles = [f'$\\\\theta^{{(0)}} = ({theta[0]}, {theta[1]}, {theta[2]}, {theta[3]})$' for theta in lotka_volterra.theta_inits]\n",
    "var_labels = [f'$\\\\log \\\\theta_{i + 1}$' for i in range(lotka_volterra.d)]"
   ]
  },
  {
   "cell_type": "markdown",
   "id": "35a14304-e5dd-4c2a-a3eb-f9239914258f",
   "metadata": {},
   "source": [
    "Read-only input datasets:"
   ]
  },
  {
   "cell_type": "code",
   "execution_count": 8,
   "id": "c8e78f01-cb89-4073-805a-7ee208a79140",
   "metadata": {
    "tags": []
   },
   "outputs": [],
   "source": [
    "@cached(batch_size=lotka_volterra.n_chains, read_only=True)\n",
    "def rw_samples(i) -> np.ndarray:\n",
    "    raise NotImplementedError"
   ]
  },
  {
   "cell_type": "code",
   "execution_count": 9,
   "id": "d730d1a6-44fe-4483-bd85-3cdd029f1cc6",
   "metadata": {
    "tags": []
   },
   "outputs": [],
   "source": [
    "@cached(batch_size=lotka_volterra.n_chains, read_only=True)\n",
    "def rw_thinned_idx(i) -> np.ndarray:\n",
    "    raise NotImplementedError"
   ]
  },
  {
   "cell_type": "code",
   "execution_count": 10,
   "id": "8a7c2c3e-381e-457b-a68d-a4c8164a50f9",
   "metadata": {
    "tags": []
   },
   "outputs": [],
   "source": [
    "@cached(batch_size=lotka_volterra.n_chains, read_only=True)\n",
    "def validation_hmc_samples(i) -> np.ndarray:\n",
    "    raise NotImplementedError"
   ]
  },
  {
   "cell_type": "code",
   "execution_count": 11,
   "id": "1e569352-1923-45f5-8d76-d8f3d27a3d73",
   "metadata": {
    "tags": []
   },
   "outputs": [
    {
     "name": "stderr",
     "output_type": "stream",
     "text": [
      "DEBUG:utils.caching:Reading from disk cache: validation_hmc_samples_0\n",
      "DEBUG:utils.caching:Reading gradient-free-mcmc-postprocessing/validation_hmc_samples_0.npy\n",
      "DEBUG:utils.caching:Reading from disk cache: validation_hmc_samples_1\n",
      "DEBUG:utils.caching:Reading gradient-free-mcmc-postprocessing/validation_hmc_samples_1.npy\n",
      "DEBUG:utils.caching:Reading from disk cache: validation_hmc_samples_2\n",
      "DEBUG:utils.caching:Reading gradient-free-mcmc-postprocessing/validation_hmc_samples_2.npy\n",
      "DEBUG:utils.caching:Reading from disk cache: validation_hmc_samples_3\n",
      "DEBUG:utils.caching:Reading gradient-free-mcmc-postprocessing/validation_hmc_samples_3.npy\n",
      "DEBUG:utils.caching:Reading from disk cache: validation_hmc_samples_4\n",
      "DEBUG:utils.caching:Reading gradient-free-mcmc-postprocessing/validation_hmc_samples_4.npy\n"
     ]
    }
   ],
   "source": [
    "validation_sample = np.concatenate(validation_hmc_samples, axis=0)"
   ]
  },
  {
   "cell_type": "markdown",
   "id": "93af3d88-082b-46e6-b5bf-31f189ccb1e5",
   "metadata": {},
   "source": [
    "# Gradient-free Stein thinning"
   ]
  },
  {
   "cell_type": "code",
   "execution_count": 12,
   "id": "ae541ee4-6ab9-4221-a267-f715b23d02f4",
   "metadata": {
    "tags": []
   },
   "outputs": [],
   "source": [
    "n_points_calculate = 10_000\n",
    "n_points_thinned = 20\n",
    "n_points_display = 20"
   ]
  },
  {
   "cell_type": "markdown",
   "id": "0ffebd03-bbf5-4ac9-b44b-0d15c7f0d6c5",
   "metadata": {},
   "source": [
    "We recalculate the (unnormalised) log target density for all samples. Note that in principle we could have stored it during the MCMC run rather than recalculating it."
   ]
  },
  {
   "cell_type": "code",
   "execution_count": 13,
   "id": "ab87c041-da39-4192-b616-56045fc105c1",
   "metadata": {
    "tags": []
   },
   "outputs": [],
   "source": [
    "@cached(batch_size=lotka_volterra.n_chains)\n",
    "def rw_log_p(i: int) -> np.ndarray:\n",
    "    # map_parallel cannot be serialised, so needs to be created afresh\n",
    "    map_parallel = get_map_parallel_joblib(multiprocessing.cpu_count())\n",
    "    return parallelise_for_unique(lotka_volterra.log_target_density, rw_samples[i], map_parallel)"
   ]
  },
  {
   "cell_type": "code",
   "execution_count": 14,
   "id": "9fc80e5c-4f1c-4c76-8540-2373060f3995",
   "metadata": {
    "tags": []
   },
   "outputs": [],
   "source": [
    "@cached(batch_size=lotka_volterra.n_chains)\n",
    "def hmc_log_p(i: int) -> np.ndarray:\n",
    "    # map_parallel cannot be serialised, so needs to be created afresh\n",
    "    map_parallel = get_map_parallel_joblib(multiprocessing.cpu_count())\n",
    "    return parallelise_for_unique(lotka_volterra.log_target_density, hmc_samples[i], map_parallel)"
   ]
  },
  {
   "cell_type": "markdown",
   "id": "d845f3e7-a795-457f-aa9d-d1038e3a6f59",
   "metadata": {},
   "source": [
    "## Full sample"
   ]
  },
  {
   "cell_type": "markdown",
   "id": "77a4e078-f308-46a6-ab99-7a8bfa44377a",
   "metadata": {},
   "source": [
    "### Laplace proxy"
   ]
  },
  {
   "cell_type": "code",
   "execution_count": 15,
   "id": "e4471d84-b91a-479a-9d50-9ac62244b8c5",
   "metadata": {
    "tags": []
   },
   "outputs": [
    {
     "name": "stderr",
     "output_type": "stream",
     "text": [
      "DEBUG:utils.caching:Reading from disk cache: rw_samples_0\n",
      "DEBUG:utils.caching:Reading gradient-free-mcmc-postprocessing/rw_samples_0.npy\n"
     ]
    },
    {
     "name": "stdout",
     "output_type": "stream",
     "text": [
      "CPU times: user 383 ms, sys: 35.2 ms, total: 418 ms\n",
      "Wall time: 698 ms\n"
     ]
    }
   ],
   "source": [
    "%%time\n",
    "laplace_mean, laplace_cov = laplace_approximation(lotka_volterra.log_target_density, np.mean(rw_samples[0], axis=0))"
   ]
  },
  {
   "cell_type": "code",
   "execution_count": 16,
   "id": "faadad4c-a6a4-4b3e-a235-1dfd21989eee",
   "metadata": {
    "tags": []
   },
   "outputs": [
    {
     "data": {
      "text/plain": [
       "array([-0.38253106,  0.29246505, -0.01989892, -0.01793046])"
      ]
     },
     "execution_count": 16,
     "metadata": {},
     "output_type": "execute_result"
    }
   ],
   "source": [
    "laplace_mean"
   ]
  },
  {
   "cell_type": "code",
   "execution_count": 17,
   "id": "4f1e4fe6-102c-48d3-bb40-a8f6b11916c8",
   "metadata": {
    "tags": []
   },
   "outputs": [
    {
     "data": {
      "text/plain": [
       "array([[ 0.00022649,  0.00014983, -0.00022683, -0.00021143],\n",
       "       [ 0.00014983,  0.00012714, -0.00014055, -0.00012303],\n",
       "       [-0.00022683, -0.00014055,  0.00023186,  0.0002205 ],\n",
       "       [-0.00021143, -0.00012303,  0.0002205 ,  0.00022235]])"
      ]
     },
     "execution_count": 17,
     "metadata": {},
     "output_type": "execute_result"
    }
   ],
   "source": [
    "laplace_cov"
   ]
  },
  {
   "cell_type": "markdown",
   "id": "2cd57f0b-acd4-4401-bf3c-930f6e8a42c8",
   "metadata": {},
   "source": [
    "The method clearly fails in this case:"
   ]
  },
  {
   "cell_type": "code",
   "execution_count": 18,
   "id": "a93fd40e-846e-48f8-ac60-55eb55b4daa1",
   "metadata": {
    "tags": []
   },
   "outputs": [
    {
     "name": "stderr",
     "output_type": "stream",
     "text": [
      "DEBUG:utils.caching:Reading from disk cache: rw_log_p_0\n",
      "DEBUG:utils.caching:Reading gradient-free-mcmc-postprocessing/rw_log_p_0.npy\n",
      "/home/ec2-user/anaconda3/envs/python3/lib/python3.10/site-packages/stein_thinning/thinning.py:127: UserWarning: log_q differs from log_p by more than 10 - consider using q that matches target better\n",
      "  warnings.warn(f'log_q differs from log_p by more than {WEIGHT_SCALE_THRESHOLD} - consider using q that matches target better')\n"
     ]
    },
    {
     "data": {
      "text/plain": [
       "array([0, 0, 0, 0, 0, 0, 0, 0, 0, 0, 0, 0, 0, 0, 0, 0, 0, 0, 0, 0],\n",
       "      dtype=uint32)"
      ]
     },
     "execution_count": 18,
     "metadata": {},
     "output_type": "execute_result"
    }
   ],
   "source": [
    "gaussian_thin(rw_samples[0], rw_log_p[0], laplace_mean, laplace_cov, n_points_thinned)"
   ]
  },
  {
   "cell_type": "code",
   "execution_count": 19,
   "id": "66bf2e28-72bf-4fd9-b1c7-23f4d63a5b12",
   "metadata": {
    "tags": []
   },
   "outputs": [
    {
     "data": {
      "image/png": "[encoded data removed]",
      "text/plain": [
       "<Figure size 1200x500 with 2 Axes>"
      ]
     },
     "metadata": {},
     "output_type": "display_data"
    }
   ],
   "source": [
    "points_to_highlight = [0]\n",
    "\n",
    "fig, axs = plt.subplots(1, 2, figsize=(12, 5), constrained_layout=True)\n",
    "highlight_points(rw_samples[0], points_to_highlight, [(0, 1), (2, 3)], axs, var_labels);"
   ]
  },
  {
   "cell_type": "markdown",
   "id": "bee369c8-5717-4b24-b0d6-8dffb553ed69",
   "metadata": {},
   "source": [
    "We calculate the proxy density at element 0:"
   ]
  },
  {
   "cell_type": "code",
   "execution_count": 20,
   "id": "8ffd4bce-8ae8-48e9-baec-1a59d7688797",
   "metadata": {
    "tags": []
   },
   "outputs": [],
   "source": [
    "log_q = mvn.logpdf(rw_samples[0], mean=laplace_mean, cov=laplace_cov)"
   ]
  },
  {
   "cell_type": "code",
   "execution_count": 21,
   "id": "c852d408-ca75-404a-98c8-a4649572eb89",
   "metadata": {
    "tags": []
   },
   "outputs": [
    {
     "data": {
      "text/plain": [
       "np.float64(-58994.37616137724)"
      ]
     },
     "execution_count": 21,
     "metadata": {},
     "output_type": "execute_result"
    }
   ],
   "source": [
    "log_q[0]"
   ]
  },
  {
   "cell_type": "code",
   "execution_count": 22,
   "id": "0099e7b4-bb4f-45ab-bee3-2e8ab3704ee8",
   "metadata": {
    "tags": []
   },
   "outputs": [
    {
     "data": {
      "text/plain": [
       "np.float64(-14795.338558498564)"
      ]
     },
     "execution_count": 22,
     "metadata": {},
     "output_type": "execute_result"
    }
   ],
   "source": [
    "rw_log_p[0][0]"
   ]
  },
  {
   "cell_type": "markdown",
   "id": "2d9bf151-39fd-4231-9186-7f414c4fd76a",
   "metadata": {},
   "source": [
    "#### Numerical stability of optimisation"
   ]
  },
  {
   "cell_type": "markdown",
   "id": "da969864-a5ca-4ba5-b8b7-4b21ca7698f0",
   "metadata": {},
   "source": [
    "Using the default parameters in `scipy.optimize.minimize` results in a failure to find the optimum:"
   ]
  },
  {
   "cell_type": "code",
   "execution_count": 23,
   "id": "f6690da2-208f-4358-a9fc-e0ef7c6dae00",
   "metadata": {
    "tags": []
   },
   "outputs": [
    {
     "data": {
      "text/plain": [
       "  message: Desired error not necessarily achieved due to precision loss.\n",
       "  success: False\n",
       "   status: 2\n",
       "      fun: -852.0640163222447\n",
       "        x: [-3.825e-01  2.925e-01 -1.990e-02 -1.793e-02]\n",
       "      nit: 8\n",
       "      jac: [ 1.747e-03  1.564e-03  2.144e-03 -3.052e-05]\n",
       " hess_inv: [[ 6.045e-04 -2.234e-04 -8.822e-04 -1.157e-03]\n",
       "            [-2.234e-04  9.307e-05  3.325e-04  4.495e-04]\n",
       "            [-8.822e-04  3.325e-04  1.293e-03  1.704e-03]\n",
       "            [-1.157e-03  4.495e-04  1.704e-03  2.264e-03]]\n",
       "     nfev: 290\n",
       "     njev: 56"
      ]
     },
     "execution_count": 23,
     "metadata": {},
     "output_type": "execute_result"
    }
   ],
   "source": [
    "x0 = np.mean(rw_samples[0], axis=0)\n",
    "res = minimize(lambda x: -lotka_volterra.log_target_density(x), x0)\n",
    "res"
   ]
  },
  {
   "cell_type": "markdown",
   "id": "ff3bc005-2cce-4e33-b1e0-57880df05f79",
   "metadata": {},
   "source": [
    "Nelder-Mead succeeds:"
   ]
  },
  {
   "cell_type": "code",
   "execution_count": 24,
   "id": "6314ad4b-f9b9-48f5-afa8-972cd714fe95",
   "metadata": {
    "tags": []
   },
   "outputs": [
    {
     "data": {
      "text/plain": [
       "       message: Optimization terminated successfully.\n",
       "       success: True\n",
       "        status: 0\n",
       "           fun: -852.0637592194975\n",
       "             x: [-3.822e-01  2.926e-01 -2.023e-02 -1.826e-02]\n",
       "           nit: 36\n",
       "          nfev: 69\n",
       " final_simplex: (array([[-3.822e-01,  2.926e-01, -2.023e-02, -1.826e-02],\n",
       "                       [-3.823e-01,  2.927e-01, -2.018e-02, -1.823e-02],\n",
       "                       ...,\n",
       "                       [-3.822e-01,  2.927e-01, -2.025e-02, -1.824e-02],\n",
       "                       [-3.823e-01,  2.926e-01, -2.021e-02, -1.825e-02]]), array([-8.521e+02, -8.521e+02, -8.521e+02, -8.521e+02,\n",
       "                       -8.521e+02]))"
      ]
     },
     "execution_count": 24,
     "metadata": {},
     "output_type": "execute_result"
    }
   ],
   "source": [
    "x0 = np.mean(rw_samples[0], axis=0)\n",
    "res = minimize(lambda x: -lotka_volterra.log_target_density(x), x0, method='Nelder-Mead')\n",
    "res"
   ]
  },
  {
   "cell_type": "markdown",
   "id": "dbade18b-b9e6-464b-a8bd-bf5dcb5a1bcc",
   "metadata": {},
   "source": [
    "However, the Hessian evaluated at the maximum does not appear to be negative definite:"
   ]
  },
  {
   "cell_type": "code",
   "execution_count": 25,
   "id": "adf4304e-1df9-4612-a822-bfe2a5355d71",
   "metadata": {
    "tags": []
   },
   "outputs": [],
   "source": [
    "from numdifftools import Hessian"
   ]
  },
  {
   "cell_type": "code",
   "execution_count": 26,
   "id": "dac9a018-4194-4649-849b-3ca5a0d2147b",
   "metadata": {
    "tags": []
   },
   "outputs": [
    {
     "name": "stdout",
     "output_type": "stream",
     "text": [
      "CPU times: user 2.4 s, sys: 12 ms, total: 2.41 s\n",
      "Wall time: 2.55 s\n"
     ]
    },
    {
     "data": {
      "text/plain": [
       "array([[-1196095.221448  ,   329406.57615447, -1108270.83683778,\n",
       "          106697.01292872],\n",
       "       [  329406.57615447,  -118085.88891821,   257880.48682018,\n",
       "           -6315.21069031],\n",
       "       [-1108270.83683778,   257880.48682018, -1147544.69391788,\n",
       "          228865.43617875],\n",
       "       [  106697.01292872,    -6315.21069031,   228865.43617875,\n",
       "          -97166.87432185]])"
      ]
     },
     "execution_count": 26,
     "metadata": {},
     "output_type": "execute_result"
    }
   ],
   "source": [
    "%%time\n",
    "hess = Hessian(lotka_volterra.log_target_density)(res.x)\n",
    "hess"
   ]
  },
  {
   "cell_type": "code",
   "execution_count": 27,
   "id": "778233ef-4b61-4e24-b8aa-062dba122c63",
   "metadata": {
    "tags": []
   },
   "outputs": [
    {
     "data": {
      "text/plain": [
       "array([-2381433.97002698,  -181583.12348197,    22522.02455063,\n",
       "         -18397.60964763])"
      ]
     },
     "execution_count": 27,
     "metadata": {},
     "output_type": "execute_result"
    }
   ],
   "source": [
    "np.linalg.eigvals(hess)"
   ]
  },
  {
   "cell_type": "code",
   "execution_count": 28,
   "id": "b493ed6f-818a-42da-a289-ead16c53b1aa",
   "metadata": {
    "tags": []
   },
   "outputs": [],
   "source": [
    "def is_positive_definite(x):\n",
    "    return np.all(np.linalg.eigvals(x) > 0)"
   ]
  },
  {
   "cell_type": "code",
   "execution_count": 29,
   "id": "424b555e-3ccc-43d5-8df4-a39a7063251d",
   "metadata": {
    "tags": []
   },
   "outputs": [
    {
     "data": {
      "text/plain": [
       "np.False_"
      ]
     },
     "execution_count": 29,
     "metadata": {},
     "output_type": "execute_result"
    }
   ],
   "source": [
    "is_positive_definite(-hess)"
   ]
  },
  {
   "cell_type": "markdown",
   "id": "34d85d91-8137-4697-a503-685305217b4f",
   "metadata": {},
   "source": [
    "### Simple Gaussian proxy"
   ]
  },
  {
   "cell_type": "code",
   "execution_count": 30,
   "id": "2f900a00-2df1-4eb8-8406-c2a9b29ba430",
   "metadata": {
    "tags": []
   },
   "outputs": [],
   "source": [
    "sample_mean = np.mean(rw_samples[0], axis=0)\n",
    "sample_cov = np.cov(rw_samples[0], rowvar=False, ddof=lotka_volterra.d)"
   ]
  },
  {
   "cell_type": "code",
   "execution_count": 31,
   "id": "97cf33a9-c63a-447a-a571-8a18faebff45",
   "metadata": {
    "tags": []
   },
   "outputs": [
    {
     "data": {
      "text/plain": [
       "array([-0.38261842,  0.29176476, -0.02010969, -0.01824518])"
      ]
     },
     "execution_count": 31,
     "metadata": {},
     "output_type": "execute_result"
    }
   ],
   "source": [
    "sample_mean"
   ]
  },
  {
   "cell_type": "code",
   "execution_count": 32,
   "id": "61ae883c-5309-4d78-9ba0-8752f0f4c2cc",
   "metadata": {
    "tags": []
   },
   "outputs": [
    {
     "data": {
      "text/plain": [
       "array([[ 2.12987627e-04,  1.62995182e-04, -1.91636668e-04,\n",
       "        -1.72343118e-04],\n",
       "       [ 1.62995182e-04,  1.97250184e-04, -1.02375977e-04,\n",
       "        -6.37599091e-05],\n",
       "       [-1.91636668e-04, -1.02375977e-04,  2.16947410e-04,\n",
       "         2.13353024e-04],\n",
       "       [-1.72343118e-04, -6.37599091e-05,  2.13353024e-04,\n",
       "         2.30906788e-04]])"
      ]
     },
     "execution_count": 32,
     "metadata": {},
     "output_type": "execute_result"
    }
   ],
   "source": [
    "sample_cov"
   ]
  },
  {
   "cell_type": "code",
   "execution_count": 33,
   "id": "3536e57a-d692-412a-b7e5-63b15a43300b",
   "metadata": {
    "tags": []
   },
   "outputs": [
    {
     "name": "stderr",
     "output_type": "stream",
     "text": [
      "/home/ec2-user/anaconda3/envs/python3/lib/python3.10/site-packages/stein_thinning/thinning.py:127: UserWarning: log_q differs from log_p by more than 10 - consider using q that matches target better\n",
      "  warnings.warn(f'log_q differs from log_p by more than {WEIGHT_SCALE_THRESHOLD} - consider using q that matches target better')\n"
     ]
    },
    {
     "data": {
      "text/plain": [
       "array([210376, 427710, 492726,  58196,  59929, 456038, 490046, 308139,\n",
       "       427710,  12999, 428495, 283038,  80507, 269300, 490046, 377681,\n",
       "       427710,  59944, 494516, 387883], dtype=uint32)"
      ]
     },
     "execution_count": 33,
     "metadata": {},
     "output_type": "execute_result"
    }
   ],
   "source": [
    "idx = gaussian_thin(rw_samples[0], rw_log_p[0], sample_mean, sample_cov, n_points_thinned)\n",
    "idx"
   ]
  },
  {
   "cell_type": "code",
   "execution_count": 34,
   "id": "a2da0509-1e0f-4f4b-82d3-f4f52f716a1f",
   "metadata": {
    "tags": []
   },
   "outputs": [
    {
     "data": {
      "image/png": "[encoded data removed]",
      "text/plain": [
       "<Figure size 1200x500 with 2 Axes>"
      ]
     },
     "metadata": {},
     "output_type": "display_data"
    }
   ],
   "source": [
    "fig, axs = plt.subplots(1, 2, figsize=(12, 5), constrained_layout=True)\n",
    "highlight_points(rw_samples[0], idx, [(0, 1), (2, 3)], axs, var_labels, highlighted_point_size=4);"
   ]
  },
  {
   "cell_type": "code",
   "execution_count": 35,
   "id": "e1eec9f8-2c0d-4806-8b82-625e6d86a2cf",
   "metadata": {
    "tags": []
   },
   "outputs": [],
   "source": [
    "log_q = mvn.logpdf(rw_samples[0], mean=sample_mean, cov=sample_cov)\n",
    "gradient_q = -np.einsum('ij,kj->ki', np.linalg.inv(sample_cov), rw_samples[0] - sample_mean)"
   ]
  },
  {
   "cell_type": "code",
   "execution_count": 36,
   "id": "bfd84d37-3102-4145-affe-e500743ea67c",
   "metadata": {
    "tags": []
   },
   "outputs": [
    {
     "data": {
      "text/plain": [
       "np.float64(12428.9651738708)"
      ]
     },
     "execution_count": 36,
     "metadata": {},
     "output_type": "execute_result"
    }
   ],
   "source": [
    "np.ptp(log_q - rw_log_p[0])"
   ]
  },
  {
   "cell_type": "code",
   "execution_count": 37,
   "id": "fc05c83f-e44f-4d83-9e4f-650db294ac8a",
   "metadata": {
    "tags": []
   },
   "outputs": [],
   "source": [
    "@cached(batch_size=lotka_volterra.n_chains)\n",
    "def rw_gf_simple_gaussian_idx(i) -> np.ndarray:\n",
    "    sample = rw_samples[i]\n",
    "    log_p = rw_log_p[i]\n",
    "    sample_mean = np.mean(sample, axis=0)\n",
    "    sample_cov = np.cov(sample, rowvar=False, ddof=lotka_volterra.d)\n",
    "    return gaussian_thin(sample, log_p, sample_mean, sample_cov, n_points_calculate)"
   ]
  },
  {
   "cell_type": "code",
   "execution_count": 38,
   "id": "ce46c4b4-c38a-4a54-bc9e-45ce4e034fcd",
   "metadata": {
    "tags": []
   },
   "outputs": [
    {
     "name": "stdout",
     "output_type": "stream",
     "text": [
      "CPU times: user 60.1 ms, sys: 76.2 ms, total: 136 ms\n",
      "Wall time: 3.62 s\n"
     ]
    }
   ],
   "source": [
    "%%time\n",
    "map_parallel(rw_gf_simple_gaussian_idx.get_or_recalculate, range(lotka_volterra.n_chains));"
   ]
  },
  {
   "cell_type": "markdown",
   "id": "a86add90-6d97-48b4-bdfb-63ec6ce847a8",
   "metadata": {},
   "source": [
    "Notebook execution took:"
   ]
  },
  {
   "cell_type": "code",
   "execution_count": 39,
   "id": "1d19f128-8f5f-4036-83ba-7814f1cd86a6",
   "metadata": {
    "tags": []
   },
   "outputs": [
    {
     "data": {
      "text/plain": [
       "54.72193121910095"
      ]
     },
     "execution_count": 39,
     "metadata": {},
     "output_type": "execute_result"
    }
   ],
   "source": [
    "time.time() - start_time"
   ]
  }
 ],
 "metadata": {
  "kernelspec": {
   "display_name": "conda_python3",
   "language": "python",
   "name": "conda_python3"
  },
  "language_info": {
   "codemirror_mode": {
    "name": "ipython",
    "version": 3
   },
   "file_extension": ".py",
   "mimetype": "text/x-python",
   "name": "python",
   "nbconvert_exporter": "python",
   "pygments_lexer": "ipython3",
   "version": "3.10.14"
  }
 },
 "nbformat": 4,
 "nbformat_minor": 5
}
