{
 "cells": [
  {
   "cell_type": "code",
   "execution_count": 1,
   "id": "59feed49-0261-48da-aa8c-0ea735387ba3",
   "metadata": {},
   "outputs": [],
   "source": [
    "import time\n",
    "start_time = time.time()"
   ]
  },
  {
   "cell_type": "code",
   "execution_count": 2,
   "id": "4fbeb55f-4856-4967-b506-425536b3d1ff",
   "metadata": {},
   "outputs": [],
   "source": [
    "import logging\n",
    "from pathlib import Path\n",
    "\n",
    "import numpy as np\n",
    "from numpy.linalg import inv\n",
    "import pandas as pd\n",
    "import matplotlib.pyplot as plt\n",
    "import seaborn as sns\n",
    "\n",
    "import scipy\n",
    "from scipy.integrate import solve_ivp\n",
    "from scipy.optimize import minimize\n",
    "from scipy.spatial.distance import cdist\n",
    "import scipy.stats as stats\n",
    "from scipy.stats import multivariate_normal as mvn\n",
    "\n",
    "from dask.distributed import Client\n",
    "\n",
    "import dcor\n",
    "\n",
    "from stein_thinning.thinning import thin_gf\n",
    "\n",
    "import lotka_volterra\n",
    "from thinning import gaussian_thin, laplace_approximation\n",
    "import utils.caching\n",
    "from utils.caching import cached, cached_batch, subscriptable\n",
    "from utils.ksd import calculate_ksd\n",
    "from utils.parallel import apply_along_axis_parallel, get_map_parallel\n",
    "from utils.paths import FIGURES_PATH, GENERATED_DATA_PATH\n",
    "from utils.plotting import centered_subplots, highlight_points, plot_paths, plot_sample_thinned, plot_traces\n",
    "from utils.sampling import to_arviz"
   ]
  },
  {
   "cell_type": "code",
   "execution_count": 3,
   "id": "309aef8f-cef3-492a-8d55-fa8f707f3369",
   "metadata": {},
   "outputs": [],
   "source": [
    "logging.basicConfig()\n",
    "logging.getLogger(utils.caching.__name__).setLevel(logging.DEBUG)"
   ]
  },
  {
   "cell_type": "code",
   "execution_count": 4,
   "id": "3b1a439d-8049-44f8-9026-f2a1567d239d",
   "metadata": {},
   "outputs": [],
   "source": [
    "import nest_asyncio\n",
    "nest_asyncio.apply()"
   ]
  },
  {
   "cell_type": "code",
   "execution_count": 5,
   "id": "41ebd969-9f01-4e93-9d2a-a959529e9d49",
   "metadata": {},
   "outputs": [],
   "source": [
    "figures_path = FIGURES_PATH"
   ]
  },
  {
   "cell_type": "markdown",
   "id": "7348cd7d-cb2f-4e22-9d21-f2fccc743fa6",
   "metadata": {},
   "source": [
    "Directory where results of expensive calculations will be stored:"
   ]
  },
  {
   "cell_type": "code",
   "execution_count": 6,
   "id": "3f0aeda0-2356-4b49-bb45-1ce8cf866f8d",
   "metadata": {},
   "outputs": [],
   "source": [
    "utils.caching.cache_dir = GENERATED_DATA_PATH"
   ]
  },
  {
   "cell_type": "code",
   "execution_count": 7,
   "id": "f5e773bc-3099-477a-b6fb-e535b13e3222",
   "metadata": {},
   "outputs": [],
   "source": [
    "recalculate = False  # True => perform expensive calculations, False => use stored results\n",
    "save_data = recalculate"
   ]
  },
  {
   "cell_type": "markdown",
   "id": "5e4c8696-5fe5-40eb-9445-6b1a48ee8e96",
   "metadata": {},
   "source": [
    "We create a Dask client in order to parallelise calculations where possible:"
   ]
  },
  {
   "cell_type": "code",
   "execution_count": 8,
   "id": "474b2853-740d-405b-b04e-0d8d903ecfec",
   "metadata": {},
   "outputs": [
    {
     "data": {
      "text/html": [
       "<div>\n",
       "    <div style=\"width: 24px; height: 24px; background-color: #e1e1e1; border: 3px solid #9D9D9D; border-radius: 5px; position: absolute;\"> </div>\n",
       "    <div style=\"margin-left: 48px;\">\n",
       "        <h3 style=\"margin-bottom: 0px;\">Client</h3>\n",
       "        <p style=\"color: #9D9D9D; margin-bottom: 0px;\">Client-0110184c-6a44-11ef-974f-94de80e86035</p>\n",
       "        <table style=\"width: 100%; text-align: left;\">\n",
       "\n",
       "        <tr>\n",
       "        \n",
       "            <td style=\"text-align: left;\"><strong>Connection method:</strong> Cluster object</td>\n",
       "            <td style=\"text-align: left;\"><strong>Cluster type:</strong> distributed.LocalCluster</td>\n",
       "        \n",
       "        </tr>\n",
       "\n",
       "        \n",
       "            <tr>\n",
       "                <td style=\"text-align: left;\">\n",
       "                    <strong>Dashboard: </strong> <a href=\"http://127.0.0.1:8787/status\" target=\"_blank\">http://127.0.0.1:8787/status</a>\n",
       "                </td>\n",
       "                <td style=\"text-align: left;\"></td>\n",
       "            </tr>\n",
       "        \n",
       "\n",
       "        </table>\n",
       "\n",
       "        \n",
       "\n",
       "        \n",
       "            <details>\n",
       "            <summary style=\"margin-bottom: 20px;\"><h3 style=\"display: inline;\">Cluster Info</h3></summary>\n",
       "            <div class=\"jp-RenderedHTMLCommon jp-RenderedHTML jp-mod-trusted jp-OutputArea-output\">\n",
       "    <div style=\"width: 24px; height: 24px; background-color: #e1e1e1; border: 3px solid #9D9D9D; border-radius: 5px; position: absolute;\">\n",
       "    </div>\n",
       "    <div style=\"margin-left: 48px;\">\n",
       "        <h3 style=\"margin-bottom: 0px; margin-top: 0px;\">LocalCluster</h3>\n",
       "        <p style=\"color: #9D9D9D; margin-bottom: 0px;\">926453b7</p>\n",
       "        <table style=\"width: 100%; text-align: left;\">\n",
       "            <tr>\n",
       "                <td style=\"text-align: left;\">\n",
       "                    <strong>Dashboard:</strong> <a href=\"http://127.0.0.1:8787/status\" target=\"_blank\">http://127.0.0.1:8787/status</a>\n",
       "                </td>\n",
       "                <td style=\"text-align: left;\">\n",
       "                    <strong>Workers:</strong> 4\n",
       "                </td>\n",
       "            </tr>\n",
       "            <tr>\n",
       "                <td style=\"text-align: left;\">\n",
       "                    <strong>Total threads:</strong> 16\n",
       "                </td>\n",
       "                <td style=\"text-align: left;\">\n",
       "                    <strong>Total memory:</strong> 7.45 GiB\n",
       "                </td>\n",
       "            </tr>\n",
       "            \n",
       "            <tr>\n",
       "    <td style=\"text-align: left;\"><strong>Status:</strong> running</td>\n",
       "    <td style=\"text-align: left;\"><strong>Using processes:</strong> True</td>\n",
       "</tr>\n",
       "\n",
       "            \n",
       "        </table>\n",
       "\n",
       "        <details>\n",
       "            <summary style=\"margin-bottom: 20px;\">\n",
       "                <h3 style=\"display: inline;\">Scheduler Info</h3>\n",
       "            </summary>\n",
       "\n",
       "            <div style=\"\">\n",
       "    <div>\n",
       "        <div style=\"width: 24px; height: 24px; background-color: #FFF7E5; border: 3px solid #FF6132; border-radius: 5px; position: absolute;\"> </div>\n",
       "        <div style=\"margin-left: 48px;\">\n",
       "            <h3 style=\"margin-bottom: 0px;\">Scheduler</h3>\n",
       "            <p style=\"color: #9D9D9D; margin-bottom: 0px;\">Scheduler-d5bf2703-c80b-438a-8373-4e9441451ca7</p>\n",
       "            <table style=\"width: 100%; text-align: left;\">\n",
       "                <tr>\n",
       "                    <td style=\"text-align: left;\">\n",
       "                        <strong>Comm:</strong> tcp://127.0.0.1:38139\n",
       "                    </td>\n",
       "                    <td style=\"text-align: left;\">\n",
       "                        <strong>Workers:</strong> 4\n",
       "                    </td>\n",
       "                </tr>\n",
       "                <tr>\n",
       "                    <td style=\"text-align: left;\">\n",
       "                        <strong>Dashboard:</strong> <a href=\"http://127.0.0.1:8787/status\" target=\"_blank\">http://127.0.0.1:8787/status</a>\n",
       "                    </td>\n",
       "                    <td style=\"text-align: left;\">\n",
       "                        <strong>Total threads:</strong> 16\n",
       "                    </td>\n",
       "                </tr>\n",
       "                <tr>\n",
       "                    <td style=\"text-align: left;\">\n",
       "                        <strong>Started:</strong> Just now\n",
       "                    </td>\n",
       "                    <td style=\"text-align: left;\">\n",
       "                        <strong>Total memory:</strong> 7.45 GiB\n",
       "                    </td>\n",
       "                </tr>\n",
       "            </table>\n",
       "        </div>\n",
       "    </div>\n",
       "\n",
       "    <details style=\"margin-left: 48px;\">\n",
       "        <summary style=\"margin-bottom: 20px;\">\n",
       "            <h3 style=\"display: inline;\">Workers</h3>\n",
       "        </summary>\n",
       "\n",
       "        \n",
       "        <div style=\"margin-bottom: 20px;\">\n",
       "            <div style=\"width: 24px; height: 24px; background-color: #DBF5FF; border: 3px solid #4CC9FF; border-radius: 5px; position: absolute;\"> </div>\n",
       "            <div style=\"margin-left: 48px;\">\n",
       "            <details>\n",
       "                <summary>\n",
       "                    <h4 style=\"margin-bottom: 0px; display: inline;\">Worker: 0</h4>\n",
       "                </summary>\n",
       "                <table style=\"width: 100%; text-align: left;\">\n",
       "                    <tr>\n",
       "                        <td style=\"text-align: left;\">\n",
       "                            <strong>Comm: </strong> tcp://127.0.0.1:41493\n",
       "                        </td>\n",
       "                        <td style=\"text-align: left;\">\n",
       "                            <strong>Total threads: </strong> 4\n",
       "                        </td>\n",
       "                    </tr>\n",
       "                    <tr>\n",
       "                        <td style=\"text-align: left;\">\n",
       "                            <strong>Dashboard: </strong> <a href=\"http://127.0.0.1:38271/status\" target=\"_blank\">http://127.0.0.1:38271/status</a>\n",
       "                        </td>\n",
       "                        <td style=\"text-align: left;\">\n",
       "                            <strong>Memory: </strong> 1.86 GiB\n",
       "                        </td>\n",
       "                    </tr>\n",
       "                    <tr>\n",
       "                        <td style=\"text-align: left;\">\n",
       "                            <strong>Nanny: </strong> tcp://127.0.0.1:35277\n",
       "                        </td>\n",
       "                        <td style=\"text-align: left;\"></td>\n",
       "                    </tr>\n",
       "                    <tr>\n",
       "                        <td colspan=\"2\" style=\"text-align: left;\">\n",
       "                            <strong>Local directory: </strong> /tmp/dask-scratch-space/worker-gfm0uk32\n",
       "                        </td>\n",
       "                    </tr>\n",
       "\n",
       "                    \n",
       "\n",
       "                    \n",
       "\n",
       "                </table>\n",
       "            </details>\n",
       "            </div>\n",
       "        </div>\n",
       "        \n",
       "        <div style=\"margin-bottom: 20px;\">\n",
       "            <div style=\"width: 24px; height: 24px; background-color: #DBF5FF; border: 3px solid #4CC9FF; border-radius: 5px; position: absolute;\"> </div>\n",
       "            <div style=\"margin-left: 48px;\">\n",
       "            <details>\n",
       "                <summary>\n",
       "                    <h4 style=\"margin-bottom: 0px; display: inline;\">Worker: 1</h4>\n",
       "                </summary>\n",
       "                <table style=\"width: 100%; text-align: left;\">\n",
       "                    <tr>\n",
       "                        <td style=\"text-align: left;\">\n",
       "                            <strong>Comm: </strong> tcp://127.0.0.1:38617\n",
       "                        </td>\n",
       "                        <td style=\"text-align: left;\">\n",
       "                            <strong>Total threads: </strong> 4\n",
       "                        </td>\n",
       "                    </tr>\n",
       "                    <tr>\n",
       "                        <td style=\"text-align: left;\">\n",
       "                            <strong>Dashboard: </strong> <a href=\"http://127.0.0.1:36969/status\" target=\"_blank\">http://127.0.0.1:36969/status</a>\n",
       "                        </td>\n",
       "                        <td style=\"text-align: left;\">\n",
       "                            <strong>Memory: </strong> 1.86 GiB\n",
       "                        </td>\n",
       "                    </tr>\n",
       "                    <tr>\n",
       "                        <td style=\"text-align: left;\">\n",
       "                            <strong>Nanny: </strong> tcp://127.0.0.1:40301\n",
       "                        </td>\n",
       "                        <td style=\"text-align: left;\"></td>\n",
       "                    </tr>\n",
       "                    <tr>\n",
       "                        <td colspan=\"2\" style=\"text-align: left;\">\n",
       "                            <strong>Local directory: </strong> /tmp/dask-scratch-space/worker-32os05_i\n",
       "                        </td>\n",
       "                    </tr>\n",
       "\n",
       "                    \n",
       "\n",
       "                    \n",
       "\n",
       "                </table>\n",
       "            </details>\n",
       "            </div>\n",
       "        </div>\n",
       "        \n",
       "        <div style=\"margin-bottom: 20px;\">\n",
       "            <div style=\"width: 24px; height: 24px; background-color: #DBF5FF; border: 3px solid #4CC9FF; border-radius: 5px; position: absolute;\"> </div>\n",
       "            <div style=\"margin-left: 48px;\">\n",
       "            <details>\n",
       "                <summary>\n",
       "                    <h4 style=\"margin-bottom: 0px; display: inline;\">Worker: 2</h4>\n",
       "                </summary>\n",
       "                <table style=\"width: 100%; text-align: left;\">\n",
       "                    <tr>\n",
       "                        <td style=\"text-align: left;\">\n",
       "                            <strong>Comm: </strong> tcp://127.0.0.1:45529\n",
       "                        </td>\n",
       "                        <td style=\"text-align: left;\">\n",
       "                            <strong>Total threads: </strong> 4\n",
       "                        </td>\n",
       "                    </tr>\n",
       "                    <tr>\n",
       "                        <td style=\"text-align: left;\">\n",
       "                            <strong>Dashboard: </strong> <a href=\"http://127.0.0.1:34921/status\" target=\"_blank\">http://127.0.0.1:34921/status</a>\n",
       "                        </td>\n",
       "                        <td style=\"text-align: left;\">\n",
       "                            <strong>Memory: </strong> 1.86 GiB\n",
       "                        </td>\n",
       "                    </tr>\n",
       "                    <tr>\n",
       "                        <td style=\"text-align: left;\">\n",
       "                            <strong>Nanny: </strong> tcp://127.0.0.1:37985\n",
       "                        </td>\n",
       "                        <td style=\"text-align: left;\"></td>\n",
       "                    </tr>\n",
       "                    <tr>\n",
       "                        <td colspan=\"2\" style=\"text-align: left;\">\n",
       "                            <strong>Local directory: </strong> /tmp/dask-scratch-space/worker-m7angy5r\n",
       "                        </td>\n",
       "                    </tr>\n",
       "\n",
       "                    \n",
       "\n",
       "                    \n",
       "\n",
       "                </table>\n",
       "            </details>\n",
       "            </div>\n",
       "        </div>\n",
       "        \n",
       "        <div style=\"margin-bottom: 20px;\">\n",
       "            <div style=\"width: 24px; height: 24px; background-color: #DBF5FF; border: 3px solid #4CC9FF; border-radius: 5px; position: absolute;\"> </div>\n",
       "            <div style=\"margin-left: 48px;\">\n",
       "            <details>\n",
       "                <summary>\n",
       "                    <h4 style=\"margin-bottom: 0px; display: inline;\">Worker: 3</h4>\n",
       "                </summary>\n",
       "                <table style=\"width: 100%; text-align: left;\">\n",
       "                    <tr>\n",
       "                        <td style=\"text-align: left;\">\n",
       "                            <strong>Comm: </strong> tcp://127.0.0.1:42261\n",
       "                        </td>\n",
       "                        <td style=\"text-align: left;\">\n",
       "                            <strong>Total threads: </strong> 4\n",
       "                        </td>\n",
       "                    </tr>\n",
       "                    <tr>\n",
       "                        <td style=\"text-align: left;\">\n",
       "                            <strong>Dashboard: </strong> <a href=\"http://127.0.0.1:40961/status\" target=\"_blank\">http://127.0.0.1:40961/status</a>\n",
       "                        </td>\n",
       "                        <td style=\"text-align: left;\">\n",
       "                            <strong>Memory: </strong> 1.86 GiB\n",
       "                        </td>\n",
       "                    </tr>\n",
       "                    <tr>\n",
       "                        <td style=\"text-align: left;\">\n",
       "                            <strong>Nanny: </strong> tcp://127.0.0.1:43371\n",
       "                        </td>\n",
       "                        <td style=\"text-align: left;\"></td>\n",
       "                    </tr>\n",
       "                    <tr>\n",
       "                        <td colspan=\"2\" style=\"text-align: left;\">\n",
       "                            <strong>Local directory: </strong> /tmp/dask-scratch-space/worker-avqddcmx\n",
       "                        </td>\n",
       "                    </tr>\n",
       "\n",
       "                    \n",
       "\n",
       "                    \n",
       "\n",
       "                </table>\n",
       "            </details>\n",
       "            </div>\n",
       "        </div>\n",
       "        \n",
       "\n",
       "    </details>\n",
       "</div>\n",
       "\n",
       "        </details>\n",
       "    </div>\n",
       "</div>\n",
       "            </details>\n",
       "        \n",
       "\n",
       "    </div>\n",
       "</div>"
      ],
      "text/plain": [
       "<Client: 'tcp://127.0.0.1:38139' processes=4 threads=16, memory=7.45 GiB>"
      ]
     },
     "execution_count": 8,
     "metadata": {},
     "output_type": "execute_result"
    }
   ],
   "source": [
    "client = Client(processes=True, threads_per_worker=4, n_workers=4, memory_limit='2GB')\n",
    "client"
   ]
  },
  {
   "cell_type": "code",
   "execution_count": 9,
   "id": "e68f9855-b10a-408c-ba94-740e184b48cb",
   "metadata": {},
   "outputs": [],
   "source": [
    "map_parallel = get_map_parallel(client)"
   ]
  },
  {
   "cell_type": "markdown",
   "id": "2d2a0fda-d30d-4c0c-95fe-561aec420943",
   "metadata": {},
   "source": [
    "Input parameters"
   ]
  },
  {
   "cell_type": "code",
   "execution_count": 10,
   "id": "08978790-1e39-4a60-8afc-bc1f506ea7f2",
   "metadata": {},
   "outputs": [],
   "source": [
    "n_chains = len(lotka_volterra.theta_inits)"
   ]
  },
  {
   "cell_type": "code",
   "execution_count": 11,
   "id": "5503c7e7-bd66-4c25-9abb-3795fa65aa79",
   "metadata": {},
   "outputs": [],
   "source": [
    "titles = [f'$\\\\theta^{{(0)}} = ({theta[0]}, {theta[1]}, {theta[2]}, {theta[3]})$' for theta in lotka_volterra.theta_inits]\n",
    "var_labels = [f'$\\\\log \\\\theta_{i + 1}$' for i in range(lotka_volterra.d)]"
   ]
  },
  {
   "cell_type": "markdown",
   "id": "35a14304-e5dd-4c2a-a3eb-f9239914258f",
   "metadata": {},
   "source": [
    "Read-only input datasets:"
   ]
  },
  {
   "cell_type": "code",
   "execution_count": 12,
   "id": "c8e78f01-cb89-4073-805a-7ee208a79140",
   "metadata": {},
   "outputs": [],
   "source": [
    "@subscriptable(n=n_chains)\n",
    "@cached_batch(item_type=np.ndarray, read_only=True)\n",
    "def rw_samples() -> list[np.ndarray]:\n",
    "    raise NotImplemented"
   ]
  },
  {
   "cell_type": "code",
   "execution_count": 13,
   "id": "d730d1a6-44fe-4483-bd85-3cdd029f1cc6",
   "metadata": {},
   "outputs": [],
   "source": [
    "@subscriptable(n=n_chains)\n",
    "@cached_batch(item_type=np.ndarray, read_only=True)\n",
    "def rw_thinned_idx() -> list[np.ndarray]:\n",
    "    raise NotImplemented"
   ]
  },
  {
   "cell_type": "code",
   "execution_count": 14,
   "id": "8a7c2c3e-381e-457b-a68d-a4c8164a50f9",
   "metadata": {},
   "outputs": [],
   "source": [
    "@subscriptable(n=n_chains)\n",
    "@cached_batch(item_type=np.ndarray, read_only=True)\n",
    "def validation_hmc_samples() -> list[np.ndarray]:\n",
    "    raise NotImplemented"
   ]
  },
  {
   "cell_type": "code",
   "execution_count": 15,
   "id": "1e569352-1923-45f5-8d76-d8f3d27a3d73",
   "metadata": {},
   "outputs": [
    {
     "name": "stderr",
     "output_type": "stream",
     "text": [
      "DEBUG:utils.caching:Reading from disk cache: validation_hmc_samples_0\n",
      "DEBUG:utils.caching:Reading /home/artem/Study/KCL/ST50 Project/data/generated/validation_hmc_samples_0.npy\n",
      "DEBUG:utils.caching:Reading from disk cache: validation_hmc_samples_1\n",
      "DEBUG:utils.caching:Reading /home/artem/Study/KCL/ST50 Project/data/generated/validation_hmc_samples_1.npy\n",
      "DEBUG:utils.caching:Reading from disk cache: validation_hmc_samples_2\n",
      "DEBUG:utils.caching:Reading /home/artem/Study/KCL/ST50 Project/data/generated/validation_hmc_samples_2.npy\n",
      "DEBUG:utils.caching:Reading from disk cache: validation_hmc_samples_3\n",
      "DEBUG:utils.caching:Reading /home/artem/Study/KCL/ST50 Project/data/generated/validation_hmc_samples_3.npy\n",
      "DEBUG:utils.caching:Reading from disk cache: validation_hmc_samples_4\n",
      "DEBUG:utils.caching:Reading /home/artem/Study/KCL/ST50 Project/data/generated/validation_hmc_samples_4.npy\n"
     ]
    }
   ],
   "source": [
    "validation_sample = np.concatenate(validation_hmc_samples, axis=0)"
   ]
  },
  {
   "cell_type": "markdown",
   "id": "93af3d88-082b-46e6-b5bf-31f189ccb1e5",
   "metadata": {},
   "source": [
    "# Gradient-free Stein thinning"
   ]
  },
  {
   "cell_type": "code",
   "execution_count": 16,
   "id": "ae541ee4-6ab9-4221-a267-f715b23d02f4",
   "metadata": {},
   "outputs": [],
   "source": [
    "n_points_calculate = 10_000\n",
    "n_points_thinned = 20\n",
    "n_points_display = 20"
   ]
  },
  {
   "cell_type": "markdown",
   "id": "0ffebd03-bbf5-4ac9-b44b-0d15c7f0d6c5",
   "metadata": {},
   "source": [
    "We recalculate the (unnormalised) log target density for all samples. Note that in principle we could have stored it during the MCMC run rather than recalculating it."
   ]
  },
  {
   "cell_type": "code",
   "execution_count": 17,
   "id": "ab87c041-da39-4192-b616-56045fc105c1",
   "metadata": {},
   "outputs": [],
   "source": [
    "@subscriptable(n=len(lotka_volterra.theta_inits))\n",
    "@cached(recalculate=recalculate, persist=True)\n",
    "def rw_log_p(i: int) -> np.ndarray:\n",
    "    return parallelise_for_unique(log_target_density, rw_samples[i])"
   ]
  },
  {
   "cell_type": "code",
   "execution_count": 18,
   "id": "9fc80e5c-4f1c-4c76-8540-2373060f3995",
   "metadata": {},
   "outputs": [],
   "source": [
    "@subscriptable(n=len(lotka_volterra.theta_inits))\n",
    "@cached(recalculate=recalculate, persist=True)\n",
    "def hmc_log_p(i: int) -> np.ndarray:\n",
    "    return parallelise_for_unique(log_target_density, hmc_samples[i])"
   ]
  },
  {
   "cell_type": "markdown",
   "id": "d845f3e7-a795-457f-aa9d-d1038e3a6f59",
   "metadata": {},
   "source": [
    "## Full sample"
   ]
  },
  {
   "cell_type": "markdown",
   "id": "77a4e078-f308-46a6-ab99-7a8bfa44377a",
   "metadata": {},
   "source": [
    "### Laplace proxy"
   ]
  },
  {
   "cell_type": "code",
   "execution_count": 19,
   "id": "e4471d84-b91a-479a-9d50-9ac62244b8c5",
   "metadata": {},
   "outputs": [
    {
     "name": "stderr",
     "output_type": "stream",
     "text": [
      "DEBUG:utils.caching:Reading from disk cache: rw_samples_0\n",
      "DEBUG:utils.caching:Reading /home/artem/Study/KCL/ST50 Project/data/generated/rw_samples_0.npy\n"
     ]
    },
    {
     "name": "stdout",
     "output_type": "stream",
     "text": [
      "CPU times: user 1.52 s, sys: 132 ms, total: 1.65 s\n",
      "Wall time: 2.14 s\n"
     ]
    }
   ],
   "source": [
    "%%time\n",
    "laplace_mean, laplace_cov = laplace_approximation(lotka_volterra.log_target_density, np.mean(rw_samples[0], axis=0))"
   ]
  },
  {
   "cell_type": "code",
   "execution_count": 20,
   "id": "faadad4c-a6a4-4b3e-a235-1dfd21989eee",
   "metadata": {},
   "outputs": [
    {
     "data": {
      "text/plain": [
       "array([-0.38253112,  0.29246496, -0.01989887, -0.01793044])"
      ]
     },
     "execution_count": 20,
     "metadata": {},
     "output_type": "execute_result"
    }
   ],
   "source": [
    "laplace_mean"
   ]
  },
  {
   "cell_type": "code",
   "execution_count": 21,
   "id": "4f1e4fe6-102c-48d3-bb40-a8f6b11916c8",
   "metadata": {},
   "outputs": [
    {
     "data": {
      "text/plain": [
       "array([[ 2.34793458e-05,  3.60158614e-05, -1.53824886e-05,\n",
       "         3.46689365e-07],\n",
       "       [ 3.60158614e-05,  6.56180950e-05, -2.12565683e-05,\n",
       "        -2.70110977e-06],\n",
       "       [-1.53824886e-05, -2.12565683e-05,  1.18664414e-05,\n",
       "         4.49855438e-07],\n",
       "       [ 3.46689365e-07, -2.70110977e-06,  4.49855439e-07,\n",
       "         2.58154310e-06]])"
      ]
     },
     "execution_count": 21,
     "metadata": {},
     "output_type": "execute_result"
    }
   ],
   "source": [
    "laplace_cov"
   ]
  },
  {
   "cell_type": "markdown",
   "id": "2cd57f0b-acd4-4401-bf3c-930f6e8a42c8",
   "metadata": {},
   "source": [
    "The method clearly fails in this case:"
   ]
  },
  {
   "cell_type": "code",
   "execution_count": 22,
   "id": "a93fd40e-846e-48f8-ac60-55eb55b4daa1",
   "metadata": {},
   "outputs": [
    {
     "name": "stderr",
     "output_type": "stream",
     "text": [
      "DEBUG:utils.caching:Reading from disk cache: rw_log_p_0\n",
      "DEBUG:utils.caching:Reading /home/artem/Study/KCL/ST50 Project/data/generated/rw_log_p_0.npy\n",
      "/home/artem/git/stein_thinning/stein_thinning/thinning.py:126: UserWarning: log_q differs from log_p by more than 10 - consider using q that matches target better\n",
      "  warnings.warn(f'log_q differs from log_p by more than {WEIGHT_SCALE_THRESHOLD} - consider using q that matches target better')\n"
     ]
    },
    {
     "data": {
      "text/plain": [
       "array([231, 231, 231, 231, 231, 231, 231, 231, 231, 231, 231, 231, 231,\n",
       "       231, 231, 231, 231, 231, 231, 231], dtype=uint32)"
      ]
     },
     "execution_count": 22,
     "metadata": {},
     "output_type": "execute_result"
    }
   ],
   "source": [
    "gaussian_thin(rw_samples[0], rw_log_p[0], laplace_mean, laplace_cov, n_points_thinned)"
   ]
  },
  {
   "cell_type": "code",
   "execution_count": 23,
   "id": "66bf2e28-72bf-4fd9-b1c7-23f4d63a5b12",
   "metadata": {},
   "outputs": [
    {
     "data": {
      "image/png": "[encoded data removed]",
      "text/plain": [
       "<Figure size 1200x500 with 2 Axes>"
      ]
     },
     "metadata": {},
     "output_type": "display_data"
    }
   ],
   "source": [
    "points_to_highlight = [231]\n",
    "\n",
    "fig, axs = plt.subplots(1, 2, figsize=(12, 5), constrained_layout=True)\n",
    "highlight_points(rw_samples[0], points_to_highlight, [(0, 1), (2, 3)], axs, var_labels);"
   ]
  },
  {
   "cell_type": "markdown",
   "id": "bee369c8-5717-4b24-b0d6-8dffb553ed69",
   "metadata": {},
   "source": [
    "We calculate the proxy density at element 231:"
   ]
  },
  {
   "cell_type": "code",
   "execution_count": 24,
   "id": "8ffd4bce-8ae8-48e9-baec-1a59d7688797",
   "metadata": {},
   "outputs": [],
   "source": [
    "log_q = mvn.logpdf(rw_samples[0], mean=laplace_mean, cov=laplace_cov)"
   ]
  },
  {
   "cell_type": "code",
   "execution_count": 25,
   "id": "c852d408-ca75-404a-98c8-a4649572eb89",
   "metadata": {},
   "outputs": [
    {
     "data": {
      "text/plain": [
       "-26032762.34574922"
      ]
     },
     "execution_count": 25,
     "metadata": {},
     "output_type": "execute_result"
    }
   ],
   "source": [
    "log_q[231]"
   ]
  },
  {
   "cell_type": "code",
   "execution_count": 26,
   "id": "0099e7b4-bb4f-45ab-bee3-2e8ab3704ee8",
   "metadata": {},
   "outputs": [
    {
     "data": {
      "text/plain": [
       "-1290.111884958963"
      ]
     },
     "execution_count": 26,
     "metadata": {},
     "output_type": "execute_result"
    }
   ],
   "source": [
    "rw_log_p[0][231]"
   ]
  },
  {
   "cell_type": "markdown",
   "id": "2d9bf151-39fd-4231-9186-7f414c4fd76a",
   "metadata": {},
   "source": [
    "#### Numerical stability of optimisation"
   ]
  },
  {
   "cell_type": "markdown",
   "id": "da969864-a5ca-4ba5-b8b7-4b21ca7698f0",
   "metadata": {},
   "source": [
    "Using the default parameters in `scipy.optimize.minimize` results in a failure to find the optimum:"
   ]
  },
  {
   "cell_type": "code",
   "execution_count": 27,
   "id": "f6690da2-208f-4358-a9fc-e0ef7c6dae00",
   "metadata": {},
   "outputs": [
    {
     "data": {
      "text/plain": [
       "  message: Desired error not necessarily achieved due to precision loss.\n",
       "  success: False\n",
       "   status: 2\n",
       "      fun: -852.0640163220094\n",
       "        x: [-3.825e-01  2.925e-01 -1.990e-02 -1.793e-02]\n",
       "      nit: 9\n",
       "      jac: [ 8.316e-04 -5.646e-04 -7.629e-06  2.441e-04]\n",
       " hess_inv: [[ 7.863e-06  1.394e-05 -2.236e-06  2.310e-06]\n",
       "            [ 1.394e-05  3.830e-05 -1.929e-06 -1.293e-06]\n",
       "            [-2.236e-06 -1.929e-06  9.404e-07 -1.463e-06]\n",
       "            [ 2.310e-06 -1.293e-06 -1.463e-06  2.815e-06]]\n",
       "     nfev: 160\n",
       "     njev: 32"
      ]
     },
     "execution_count": 27,
     "metadata": {},
     "output_type": "execute_result"
    }
   ],
   "source": [
    "x0 = np.mean(rw_samples[0], axis=0)\n",
    "res = minimize(lambda x: -lotka_volterra.log_target_density(x), x0)\n",
    "res"
   ]
  },
  {
   "cell_type": "markdown",
   "id": "ff3bc005-2cce-4e33-b1e0-57880df05f79",
   "metadata": {},
   "source": [
    "Nelder-Mead succeeds:"
   ]
  },
  {
   "cell_type": "code",
   "execution_count": 28,
   "id": "6314ad4b-f9b9-48f5-afa8-972cd714fe95",
   "metadata": {},
   "outputs": [
    {
     "data": {
      "text/plain": [
       "       message: Optimization terminated successfully.\n",
       "       success: True\n",
       "        status: 0\n",
       "           fun: -852.0637592194984\n",
       "             x: [-3.822e-01  2.926e-01 -2.023e-02 -1.826e-02]\n",
       "           nit: 36\n",
       "          nfev: 69\n",
       " final_simplex: (array([[-3.822e-01,  2.926e-01, -2.023e-02, -1.826e-02],\n",
       "                       [-3.823e-01,  2.927e-01, -2.018e-02, -1.823e-02],\n",
       "                       ...,\n",
       "                       [-3.822e-01,  2.927e-01, -2.025e-02, -1.824e-02],\n",
       "                       [-3.823e-01,  2.926e-01, -2.021e-02, -1.825e-02]]), array([-8.521e+02, -8.521e+02, -8.521e+02, -8.521e+02,\n",
       "                       -8.521e+02]))"
      ]
     },
     "execution_count": 28,
     "metadata": {},
     "output_type": "execute_result"
    }
   ],
   "source": [
    "x0 = np.mean(rw_samples[0], axis=0)\n",
    "res = minimize(lambda x: -lotka_volterra.log_target_density(x), x0, method='Nelder-Mead')\n",
    "res"
   ]
  },
  {
   "cell_type": "markdown",
   "id": "dbade18b-b9e6-464b-a8bd-bf5dcb5a1bcc",
   "metadata": {},
   "source": [
    "However, the Hessian evaluated at the maximum does not appear to be negative definite:"
   ]
  },
  {
   "cell_type": "code",
   "execution_count": 29,
   "id": "adf4304e-1df9-4612-a822-bfe2a5355d71",
   "metadata": {},
   "outputs": [],
   "source": [
    "from numdifftools import Hessian"
   ]
  },
  {
   "cell_type": "code",
   "execution_count": 30,
   "id": "dac9a018-4194-4649-849b-3ca5a0d2147b",
   "metadata": {},
   "outputs": [
    {
     "name": "stdout",
     "output_type": "stream",
     "text": [
      "CPU times: user 5.32 s, sys: 495 ms, total: 5.81 s\n",
      "Wall time: 11 s\n"
     ]
    },
    {
     "data": {
      "text/plain": [
       "array([[-1196095.2214617 ,   329406.57616248, -1108270.83676384,\n",
       "          106697.01289121],\n",
       "       [  329406.57616248,  -118085.88891696,   257880.48682208,\n",
       "           -6315.21068702],\n",
       "       [-1108270.83676384,   257880.48682208, -1147544.69390286,\n",
       "          228865.43619375],\n",
       "       [  106697.01289121,    -6315.21068702,   228865.43619375,\n",
       "          -97166.87432036]])"
      ]
     },
     "execution_count": 30,
     "metadata": {},
     "output_type": "execute_result"
    }
   ],
   "source": [
    "%%time\n",
    "hess = Hessian(lotka_volterra.log_target_density)(res.x)\n",
    "hess"
   ]
  },
  {
   "cell_type": "code",
   "execution_count": 31,
   "id": "778233ef-4b61-4e24-b8aa-062dba122c63",
   "metadata": {},
   "outputs": [
    {
     "data": {
      "text/plain": [
       "array([-2381433.96995493,  -181583.12354665,    22522.02454574,\n",
       "         -18397.60964605])"
      ]
     },
     "execution_count": 31,
     "metadata": {},
     "output_type": "execute_result"
    }
   ],
   "source": [
    "np.linalg.eigvals(hess)"
   ]
  },
  {
   "cell_type": "code",
   "execution_count": 32,
   "id": "b493ed6f-818a-42da-a289-ead16c53b1aa",
   "metadata": {},
   "outputs": [],
   "source": [
    "def is_positive_definite(x):\n",
    "    return np.all(np.linalg.eigvals(x) > 0)"
   ]
  },
  {
   "cell_type": "code",
   "execution_count": 33,
   "id": "424b555e-3ccc-43d5-8df4-a39a7063251d",
   "metadata": {},
   "outputs": [
    {
     "data": {
      "text/plain": [
       "False"
      ]
     },
     "execution_count": 33,
     "metadata": {},
     "output_type": "execute_result"
    }
   ],
   "source": [
    "is_positive_definite(-hess)"
   ]
  },
  {
   "cell_type": "markdown",
   "id": "34d85d91-8137-4697-a503-685305217b4f",
   "metadata": {},
   "source": [
    "### Simple Gaussian proxy"
   ]
  },
  {
   "cell_type": "code",
   "execution_count": 34,
   "id": "2f900a00-2df1-4eb8-8406-c2a9b29ba430",
   "metadata": {},
   "outputs": [],
   "source": [
    "sample_mean = np.mean(rw_samples[0], axis=0)\n",
    "sample_cov = np.cov(rw_samples[0], rowvar=False, ddof=lotka_volterra.d)"
   ]
  },
  {
   "cell_type": "code",
   "execution_count": 35,
   "id": "97cf33a9-c63a-447a-a571-8a18faebff45",
   "metadata": {},
   "outputs": [
    {
     "data": {
      "text/plain": [
       "array([-0.38261842,  0.29176476, -0.02010969, -0.01824518])"
      ]
     },
     "execution_count": 35,
     "metadata": {},
     "output_type": "execute_result"
    }
   ],
   "source": [
    "sample_mean"
   ]
  },
  {
   "cell_type": "code",
   "execution_count": 36,
   "id": "61ae883c-5309-4d78-9ba0-8752f0f4c2cc",
   "metadata": {},
   "outputs": [
    {
     "data": {
      "text/plain": [
       "array([[ 2.12987627e-04,  1.62995182e-04, -1.91636668e-04,\n",
       "        -1.72343118e-04],\n",
       "       [ 1.62995182e-04,  1.97250184e-04, -1.02375977e-04,\n",
       "        -6.37599091e-05],\n",
       "       [-1.91636668e-04, -1.02375977e-04,  2.16947410e-04,\n",
       "         2.13353024e-04],\n",
       "       [-1.72343118e-04, -6.37599091e-05,  2.13353024e-04,\n",
       "         2.30906788e-04]])"
      ]
     },
     "execution_count": 36,
     "metadata": {},
     "output_type": "execute_result"
    }
   ],
   "source": [
    "sample_cov"
   ]
  },
  {
   "cell_type": "code",
   "execution_count": 37,
   "id": "3536e57a-d692-412a-b7e5-63b15a43300b",
   "metadata": {},
   "outputs": [
    {
     "name": "stderr",
     "output_type": "stream",
     "text": [
      "/home/artem/git/stein_thinning/stein_thinning/thinning.py:126: UserWarning: log_q differs from log_p by more than 10 - consider using q that matches target better\n",
      "  warnings.warn(f'log_q differs from log_p by more than {WEIGHT_SCALE_THRESHOLD} - consider using q that matches target better')\n"
     ]
    },
    {
     "data": {
      "text/plain": [
       "array([427710, 149313, 490046, 428495, 183198,  80507, 268793, 367968,\n",
       "       492726, 361480, 427710,  58196, 136691,  69676, 247516, 309270,\n",
       "       427714,   3817,  15125, 293372], dtype=uint32)"
      ]
     },
     "execution_count": 37,
     "metadata": {},
     "output_type": "execute_result"
    }
   ],
   "source": [
    "idx = gaussian_thin(rw_samples[0], rw_log_p[0], sample_mean, sample_cov, n_points_thinned)\n",
    "idx"
   ]
  },
  {
   "cell_type": "code",
   "execution_count": 38,
   "id": "a2da0509-1e0f-4f4b-82d3-f4f52f716a1f",
   "metadata": {},
   "outputs": [
    {
     "data": {
      "image/png": "[encoded data removed]",
      "text/plain": [
       "<Figure size 1200x500 with 2 Axes>"
      ]
     },
     "metadata": {},
     "output_type": "display_data"
    }
   ],
   "source": [
    "fig, axs = plt.subplots(1, 2, figsize=(12, 5), constrained_layout=True)\n",
    "highlight_points(rw_samples[0], idx, [(0, 1), (2, 3)], axs, var_labels, highlighted_point_size=4);"
   ]
  },
  {
   "cell_type": "code",
   "execution_count": 39,
   "id": "e1eec9f8-2c0d-4806-8b82-625e6d86a2cf",
   "metadata": {},
   "outputs": [],
   "source": [
    "log_q = mvn.logpdf(rw_samples[0], mean=sample_mean, cov=sample_cov)\n",
    "gradient_q = -np.einsum('ij,kj->ki', np.linalg.inv(sample_cov), rw_samples[0] - sample_mean)"
   ]
  },
  {
   "cell_type": "code",
   "execution_count": 40,
   "id": "bfd84d37-3102-4145-affe-e500743ea67c",
   "metadata": {},
   "outputs": [
    {
     "data": {
      "text/plain": [
       "12428.96517387056"
      ]
     },
     "execution_count": 40,
     "metadata": {},
     "output_type": "execute_result"
    }
   ],
   "source": [
    "np.ptp(log_q - rw_log_p[0])"
   ]
  },
  {
   "cell_type": "code",
   "execution_count": 41,
   "id": "fc05c83f-e44f-4d83-9e4f-650db294ac8a",
   "metadata": {},
   "outputs": [],
   "source": [
    "@subscriptable(n=len(lotka_volterra.theta_inits))\n",
    "@cached_batch(item_type=np.ndarray, recalculate=recalculate, persist=True)\n",
    "def rw_gf_simple_gaussian_idx() -> list[np.ndarray]:\n",
    "    samples = list(rw_samples)\n",
    "    log_ps = list(rw_log_p)\n",
    "    def calculate(i):\n",
    "        sample = samples[i]\n",
    "        log_p = log_ps[i]\n",
    "        sample_mean = np.mean(sample, axis=0)\n",
    "        sample_cov = np.cov(sample, rowvar=False, ddof=lotka_volterra.d)\n",
    "        return gaussian_thin(sample, log_p, sample_mean, sample_cov, n_points_calculate)\n",
    "    return map_parallel(calculate, range(len(lotka_volterra.theta_inits)))"
   ]
  },
  {
   "cell_type": "code",
   "execution_count": 42,
   "id": "ce46c4b4-c38a-4a54-bc9e-45ce4e034fcd",
   "metadata": {},
   "outputs": [
    {
     "name": "stdout",
     "output_type": "stream",
     "text": [
      "CPU times: user 5 μs, sys: 0 ns, total: 5 μs\n",
      "Wall time: 8.11 μs\n"
     ]
    }
   ],
   "source": [
    "%%time\n",
    "#rw_gf_simple_gaussian_idx.recalculate(True);"
   ]
  },
  {
   "cell_type": "markdown",
   "id": "a86add90-6d97-48b4-bdfb-63ec6ce847a8",
   "metadata": {},
   "source": [
    "Notebook execution took:"
   ]
  },
  {
   "cell_type": "code",
   "execution_count": 43,
   "id": "1d19f128-8f5f-4036-83ba-7814f1cd86a6",
   "metadata": {},
   "outputs": [
    {
     "data": {
      "text/plain": [
       "59.33944511413574"
      ]
     },
     "execution_count": 43,
     "metadata": {},
     "output_type": "execute_result"
    }
   ],
   "source": [
    "time.time() - start_time"
   ]
  }
 ],
 "metadata": {
  "kernelspec": {
   "display_name": "Python 3 (ipykernel)",
   "language": "python",
   "name": "python3"
  },
  "language_info": {
   "codemirror_mode": {
    "name": "ipython",
    "version": 3
   },
   "file_extension": ".py",
   "mimetype": "text/x-python",
   "name": "python",
   "nbconvert_exporter": "python",
   "pygments_lexer": "ipython3",
   "version": "3.12.4"
  }
 },
 "nbformat": 4,
 "nbformat_minor": 5
}
